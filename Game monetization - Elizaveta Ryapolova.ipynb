{
 "cells": [
  {
   "cell_type": "markdown",
   "metadata": {},
   "source": [
    "# Формирование модели монетизации для игрового приложения"
   ]
  },
  {
   "cell_type": "markdown",
   "metadata": {},
   "source": [
    "## Материалы\n",
    "* [Презентация](https://drive.google.com/file/d/15v_XTWN62odIUJk-u_kU4YBGGvX8iU8-/view?usp=sharing)\n",
    "* [Дашборд](https://public.tableau.com/views/UserBehaviour/GameMonetization?:language=en-US&publish=yes&:display_count=n&:origin=viz_share_link)"
   ]
  },
  {
   "cell_type": "markdown",
   "metadata": {},
   "source": [
    "## Описание проекта\n",
    "Разработчики мобильной игры \"Космические братья\" хотят зарабатывать с помощью рекламы в приложении. Нужно помочь бизнесу выбрать оптимальное время для запуска рекламы и рассчитать окупаемость игры при разных сценариях.\n",
    "\n",
    "Пока создатели игры планируют показывать рекламу на экране с выбором постройки.\n",
    "\n",
    "**Задача:** предложить такую модель монетизации с помощью размещения рекламы, чтобы максимизировать прибыль компании и при этом не увеличить отток пользователей."
   ]
  },
  {
   "cell_type": "markdown",
   "metadata": {},
   "source": [
    "### Описание данных\n",
    "Основной датасет содержит данные о событиях, совершенных в мобильной игре «Космические братья». В ней пользователи строят свою космическую программу и пытаются преуспеть в нелёгком деле колонизации галактики.\n",
    "Основная монетизация игры только планируется, но предполагается, что в приложении будет происходить показ рекламы на экране с выбором типа объекта для постройки.\n",
    "\n",
    "В датасете представлены данные по игре пользователей на первом уровне. Завершение первого уровня требует от игрока выполнения одного из двух условий:\n",
    "- Победа над первым врагом\n",
    "- Реализация проекта - разработка орбитальной сборки спутников\n",
    "В датасете содержатся данные первых пользователей приложения — когорты пользователей, которые начали пользоваться приложением в период с 4 по 10 мая включительно.\n",
    "\n",
    "Датасет `game_actions.csv`:\n",
    "- `event_datetime` — время события;\n",
    "- `event` — одно из трёх событий:\n",
    "    1. `building` — объект построен,\n",
    "    2. `finished_stage_1` — первый уровень завершён,\n",
    "    3. `project` — проект завершён;\n",
    "- `building_type` — один из трёх типов здания:\n",
    "    1. `assembly_shop` — сборочный цех,\n",
    "    2. `spaceport` — космопорт,\n",
    "    3. `research_center` — исследовательский центр;\n",
    "- `user_id` — идентификатор пользователя;\n",
    "- `project_type` — тип реализованного проекта;\n",
    "\n",
    "Помимо основного датасета есть два датасета с информацией о рекламных активностях.\n",
    "\n",
    "Датасет `ad_costs.csv` содержит колонки:\n",
    "- `day` - день, в который был совершен клик по объявлению\n",
    "- `source` - источник трафика\n",
    "- `cost` - стоимость кликов\n",
    "\n",
    "Датасет `user_source.csv` содержит колонки:\n",
    "- `user_id` - идентификатор пользователя\n",
    "- `source` - источников, с которого пришёл пользователь, установивший приложение."
   ]
  },
  {
   "cell_type": "markdown",
   "metadata": {},
   "source": [
    "### План работы\n",
    "1. Подготовить данные к анализу:\n",
    "    - проверить наличие пропусков и дубликатов,\n",
    "    - убедиться, что типы данных соответствуют сохранённым в ним значениям.\n",
    "2. Провести исследовательский анализ данных:\n",
    "    - составить профили пользователей, содержащие следующую информацию: id пользователя, дата привлечения, источник, сколько зданий построил на первом уровне, перешёл на второй уровень (да/нет), тип игрока (определяется по тому, каким способом игрок перешёл на второй уровень - победой над врагом или завершением исследования),\n",
    "    - показать на графике из каких источников приходит больше всего пользователей и сколько из них переходят на следующий уровень,\n",
    "    - посмотреть, есть ли разница в количестве \"военных\" и \"исследователей\" в зависимости от источника привлечения,\n",
    "    - посмотреть, есть ли разница по количеству построек в зависимости от источника привлечения,\n",
    "    - узнать, сколько в среднем стоило привлечение одного пользователя (CAC) из каждого источника.\n",
    "    - проанализировать потенциальную окупаемость рекламы с разбивкой по каналам привлечения и по типам игроков. Потенциальные доходы от рекламы нам не известны, поэтому рассчитаем при какой CPM (cost per mille - цена за тысячу показов рекламы) окупятся затраты на привлечение.\n",
    "3. Проверить статистические гипотезы:\n",
    "    - Различается ли время прохождения уровня между пользователями, которые заканчивают уровень через реализацию проекта, и пользователями, которые заканчивают уровень победой над другим игроком?\n",
    "    - Различается ли количество построенных зданий в первый день игры для пользователей, которые перейдут на второй уровень, и пользователей, которые забросят игру?\n",
    "4. Сделать выводы, описать оптимальную модель монетизации."
   ]
  },
  {
   "cell_type": "markdown",
   "metadata": {},
   "source": [
    "## Загрузка и предобработка данных"
   ]
  },
  {
   "cell_type": "markdown",
   "metadata": {},
   "source": [
    "### Загрузка библиотек и данных"
   ]
  },
  {
   "cell_type": "code",
   "execution_count": 3,
   "metadata": {
    "scrolled": true
   },
   "outputs": [
    {
     "name": "stdout",
     "output_type": "stream",
     "text": [
      "Requirement already satisfied: missingno in /opt/conda/lib/python3.9/site-packages (0.5.2)\n",
      "Requirement already satisfied: numpy in /opt/conda/lib/python3.9/site-packages (from missingno) (1.21.1)\n",
      "Requirement already satisfied: scipy in /opt/conda/lib/python3.9/site-packages (from missingno) (1.9.1)\n",
      "Requirement already satisfied: seaborn in /opt/conda/lib/python3.9/site-packages (from missingno) (0.11.1)\n",
      "Requirement already satisfied: matplotlib in /opt/conda/lib/python3.9/site-packages (from missingno) (3.3.4)\n",
      "Requirement already satisfied: pyparsing!=2.0.4,!=2.1.2,!=2.1.6,>=2.0.3 in /opt/conda/lib/python3.9/site-packages (from matplotlib->missingno) (2.4.7)\n",
      "Requirement already satisfied: cycler>=0.10 in /opt/conda/lib/python3.9/site-packages (from matplotlib->missingno) (0.11.0)\n",
      "Requirement already satisfied: pillow>=6.2.0 in /opt/conda/lib/python3.9/site-packages (from matplotlib->missingno) (8.4.0)\n",
      "Requirement already satisfied: kiwisolver>=1.0.1 in /opt/conda/lib/python3.9/site-packages (from matplotlib->missingno) (1.4.4)\n",
      "Requirement already satisfied: python-dateutil>=2.1 in /opt/conda/lib/python3.9/site-packages (from matplotlib->missingno) (2.8.1)\n",
      "Requirement already satisfied: six>=1.5 in /opt/conda/lib/python3.9/site-packages (from python-dateutil>=2.1->matplotlib->missingno) (1.16.0)\n",
      "Requirement already satisfied: pandas>=0.23 in /opt/conda/lib/python3.9/site-packages (from seaborn->missingno) (1.2.4)\n",
      "Requirement already satisfied: pytz>=2017.3 in /opt/conda/lib/python3.9/site-packages (from pandas>=0.23->seaborn->missingno) (2021.1)\n"
     ]
    }
   ],
   "source": [
    "!pip install missingno"
   ]
  },
  {
   "cell_type": "code",
   "execution_count": 4,
   "metadata": {},
   "outputs": [],
   "source": [
    "import pandas as pd\n",
    "import numpy as np\n",
    "import missingno as msno\n",
    "import seaborn as sns\n",
    "import matplotlib.pyplot as plt\n",
    "from matplotlib.axes import Axes\n",
    "import matplotlib.patches as mpatches\n",
    "import plotly.express as px\n",
    "import plotly.graph_objects as go\n",
    "from scipy import stats as st\n",
    "\n",
    "pd.options.mode.chained_assignment = None # уберём предупреждения\n",
    "pd.set_option('display.float_format', '{:.2f}'.format) # два знака после точки для float"
   ]
  },
  {
   "cell_type": "code",
   "execution_count": 5,
   "metadata": {},
   "outputs": [],
   "source": [
    "actions = pd.read_csv('https://.../game_actions.csv')\n",
    "costs = pd.read_csv('https://.../ad_costs.csv')\n",
    "sources = pd.read_csv('https://.../user_source.csv')"
   ]
  },
  {
   "cell_type": "markdown",
   "metadata": {},
   "source": [
    "### Функции"
   ]
  },
  {
   "cell_type": "code",
   "execution_count": 6,
   "metadata": {},
   "outputs": [],
   "source": [
    "def get_profiles(actions, sources, costs):\n",
    "    '''Функция для создания профилей пользователей, возвращает датафрейм следующего вида:\n",
    "    ID пользователя, дата привлечения, источник, сколько зданий построил на первом уровне, \n",
    "    перешёл на второй уровень (да/нет), тип игрока (researcher или warrior), время с начала игры до перехода на второй уровень,\n",
    "    время с начала игры до последней активности, стоимость привлечения'''\n",
    "\n",
    "    # добавим к actions столбец с датой события - это понадобится для расчёта дней, в котоыре пользователь был активен в игре\n",
    "    actions['event_dt'] = actions['event_datetime'].dt.day\n",
    "    \n",
    "    # сортируем сессии по ID пользователя и дате первого посещения\n",
    "    # группируем по ID и находим первые значения session_start и channel\n",
    "    # столбец с временем первого посещения назовём first_ts\n",
    "    # от англ. first timestamp — первая временная отметка\n",
    "    profiles = (\n",
    "        actions.sort_values(by=['user_id', 'event_datetime'])\n",
    "        .groupby('user_id')\n",
    "        .agg({'event_datetime': 'first', 'event_dt':'nunique', 'building_type': 'count'})\n",
    "        .rename(columns={'event_datetime': 'first_ts', 'event_dt':'days_active', 'building_type': 'buildings'})\n",
    "        .reset_index()  # возвращаем user_id из индекса\n",
    "    )\n",
    "\n",
    "    # определяем дату первого посещения\n",
    "    # эти данные понадобятся для когортного анализа\n",
    "    profiles['dt'] = profiles['first_ts'].dt.date\n",
    "    \n",
    "    # найдём игроков, перешедших на второй уровень\n",
    "    levelup = actions.loc[actions['event']=='finished_stage_1', 'user_id']\n",
    "    profiles['leveled_up'] = profiles['user_id'].isin(levelup)\n",
    "    \n",
    "    # определим типы игроков\n",
    "    # researcher - если перешёл на следующий уровень и закончил проект\n",
    "    # warrior - если перешёл на следующий уровень и НЕ закончил проект\n",
    "    researchers = actions.loc[actions['event']=='project', 'user_id'].unique()\n",
    "    profiles.loc[(profiles['leveled_up']==True)&(profiles['user_id'].isin(researchers)),'player_type'] = 'researcher'\n",
    "    profiles.loc[(profiles['leveled_up']==True)&(profiles['user_id'].isin(researchers)==False),'player_type'] = 'warrior'\n",
    "    \n",
    "    # рассчитаем время с начала игры до перехода на второй уровень в днях\n",
    "    levelup_time = actions.loc[actions['event']=='finished_stage_1',['event_datetime', 'user_id']]\n",
    "    profiles = profiles.merge(levelup_time, on='user_id', how='left').rename(columns={'event_datetime':'levelup_ts'})\n",
    "    profiles['levelup_time'] = profiles['levelup_ts'].dt.date - profiles['dt']\n",
    "    profiles.loc[profiles['levelup_time'].isna()==False, 'levelup_time'] = (profiles.loc[profiles['levelup_time']\n",
    "                                                                                        .isna()==False, 'levelup_time']\n",
    "                                                                            .apply(lambda x: x/np.timedelta64(1,'D')))\n",
    "    \n",
    "    # подтянем каналы привлечения из таблицы sources\n",
    "    profiles = profiles.merge(sources, on='user_id')\n",
    "    \n",
    "    # преобразуем тип столбца с датой для дальнейшего объёдинения и расчёта САС\n",
    "    profiles['dt'] = profiles['dt'].astype('datetime64[ns]')\n",
    "    \n",
    "    # считаем количество уникальных пользователей\n",
    "    # с одинаковыми источником и датой привлечения\n",
    "    new_users = (\n",
    "        profiles.groupby(['dt', 'source'])\n",
    "        .agg({'user_id': 'nunique'})\n",
    "         # столбец с числом пользователей назовём unique_users\n",
    "        .rename(columns={'user_id': 'unique_users'})\n",
    "        .reset_index()  # возвращаем dt и channel из индексов\n",
    "    )\n",
    "    \n",
    "    # объединяем траты на рекламу и число привлечённых пользователей\n",
    "    # по дате и каналу привлечения\n",
    "    costs = costs.merge(new_users, on=['dt', 'source'], how='left')\n",
    "    \n",
    "    # делим рекламные расходы на число привлечённых пользователей\n",
    "    # результаты сохраним в столбец acquisition_cost (CAC)\n",
    "    costs['acquisition_cost'] = costs['cost'] / costs['unique_users']\n",
    "\n",
    "    # добавим стоимость привлечения в профили\n",
    "    profiles = profiles.merge(\n",
    "        costs[['dt', 'source', 'acquisition_cost']],\n",
    "        on=['dt', 'source'],\n",
    "        how='left',\n",
    "    )\n",
    "\n",
    "    return profiles "
   ]
  },
  {
   "cell_type": "code",
   "execution_count": 7,
   "metadata": {},
   "outputs": [],
   "source": [
    "# Зададим цвета для категорий, чтобы они одинаково отображались на всех графиках\n",
    "current_palette ={\"researcher\": \"#0984e3\",\n",
    "                \"warrior\": \"#d63031\",\n",
    "                \"facebook_ads\": \"#0984e3\",\n",
    "                \"instagram_new_adverts\": \"#fdcb6e\",\n",
    "                \"yandex_direct\": \"#00b894\",\n",
    "                \"youtube_channel_reklama\":\"#d63031\",\n",
    "               True: \"#ff7675\",\n",
    "               False: \"#b2bec3\"}"
   ]
  },
  {
   "cell_type": "code",
   "execution_count": 8,
   "metadata": {},
   "outputs": [],
   "source": [
    "def draw_count_bars(source, groupers, title):\n",
    "    '''Функция рисует столбчатую диаграмму количества пользователей \n",
    "    с двумя уровнями группировки и подписями долей в процентах'''\n",
    "    # сгруппируем данные\n",
    "    agg_df = source.groupby(groupers).size().unstack().fillna(0)\n",
    "    # рассчитаем проценты для подписей данных\n",
    "    percentages = agg_df.div(agg_df.sum(axis=1), axis=0).mul(100).round(2)\n",
    "    \n",
    "    # нарисуем график\n",
    "    sns.set_theme(style=\"darkgrid\")\n",
    "    fig, ax = plt.subplots(figsize=(9, 6))\n",
    "    bottom = np.zeros(len(agg_df))\n",
    "\n",
    "    for i, col in enumerate(agg_df.columns):\n",
    "        ax.bar(agg_df.index, agg_df[col], bottom=bottom, label=col, color=current_palette[col])\n",
    "        bottom += np.array(agg_df[col])\n",
    "\n",
    "    # добавим метки данных\n",
    "    # счётчики номера столбца и ряда для меток данных\n",
    "    col_idx = 0\n",
    "    row_idx = 0\n",
    "    l = len(agg_df)\n",
    "\n",
    "    # iterate through each bar patch from ax\n",
    "    for i, p in enumerate(ax.patches, 1):\n",
    "\n",
    "        left, bottom, width, height = p.get_bbox().bounds\n",
    "        v = percentages.iloc[row_idx, col_idx]\n",
    "        if width > 0:\n",
    "            ax.annotate(f'{v:.2f}%', xy=(left+width/2, bottom+height/2), ha='center', va='center')\n",
    "\n",
    "        row_idx += 1\n",
    "        if i%l == 0:  # обновить счётчики после последнего столбца \n",
    "            col_idx += 1\n",
    "            row_idx = 0\n",
    "\n",
    "    ax.set_title(title, fontsize=18)\n",
    "    ax.set(xlabel=groupers[0], ylabel='Users')\n",
    "    ax.legend(title=groupers[1], bbox_to_anchor=(1, 1.02), loc='upper left')\n",
    "\n",
    "    plt.grid(False)\n",
    "    ax.yaxis.grid()\n",
    "    plt.show();"
   ]
  },
  {
   "cell_type": "code",
   "execution_count": 9,
   "metadata": {},
   "outputs": [],
   "source": [
    "def draw_mean_bars(source, grouper, values, title):\n",
    "    '''Функция рисует столбчатую диаграмму средних значений по группам \n",
    "    и подписывает средние значения на столбиках'''\n",
    "    # сгруппируем данные\n",
    "    df = source.groupby(grouper).mean().reset_index()\n",
    "\n",
    "    # нарисуем график\n",
    "    sns.set_theme(style=\"darkgrid\")\n",
    "    plt.figure(figsize=(10, 6))\n",
    "\n",
    "    ax = sns.barplot(\n",
    "        x=grouper, \n",
    "        y=values, \n",
    "        data=df,\n",
    "        palette=current_palette)\n",
    "\n",
    "    ax.set_title(title,fontsize=18)\n",
    "\n",
    "    for i, v in enumerate(round(df[values],2)):\n",
    "        ax.text(i, v/6*5, str(v), ha='center', color='white')\n",
    "    plt.show();"
   ]
  },
  {
   "cell_type": "markdown",
   "metadata": {},
   "source": [
    "### Предварительная обработка\n",
    "Проверим, есть ли в данных дубликаты."
   ]
  },
  {
   "cell_type": "code",
   "execution_count": 10,
   "metadata": {},
   "outputs": [
    {
     "data": {
      "text/html": [
       "<div>\n",
       "<style scoped>\n",
       "    .dataframe tbody tr th:only-of-type {\n",
       "        vertical-align: middle;\n",
       "    }\n",
       "\n",
       "    .dataframe tbody tr th {\n",
       "        vertical-align: top;\n",
       "    }\n",
       "\n",
       "    .dataframe thead th {\n",
       "        text-align: right;\n",
       "    }\n",
       "</style>\n",
       "<table border=\"1\" class=\"dataframe\">\n",
       "  <thead>\n",
       "    <tr style=\"text-align: right;\">\n",
       "      <th></th>\n",
       "      <th>event_datetime</th>\n",
       "      <th>event</th>\n",
       "      <th>building_type</th>\n",
       "      <th>user_id</th>\n",
       "      <th>project_type</th>\n",
       "    </tr>\n",
       "  </thead>\n",
       "  <tbody>\n",
       "    <tr>\n",
       "      <th>74891</th>\n",
       "      <td>2020-05-10 18:41:56</td>\n",
       "      <td>building</td>\n",
       "      <td>research_center</td>\n",
       "      <td>c9af55d2-b0ae-4bb4-b3d5-f32aa9ac03af</td>\n",
       "      <td>NaN</td>\n",
       "    </tr>\n",
       "  </tbody>\n",
       "</table>\n",
       "</div>"
      ],
      "text/plain": [
       "            event_datetime     event    building_type  \\\n",
       "74891  2020-05-10 18:41:56  building  research_center   \n",
       "\n",
       "                                    user_id project_type  \n",
       "74891  c9af55d2-b0ae-4bb4-b3d5-f32aa9ac03af          NaN  "
      ]
     },
     "execution_count": 10,
     "metadata": {},
     "output_type": "execute_result"
    }
   ],
   "source": [
    "actions.loc[actions.duplicated()==True]"
   ]
  },
  {
   "cell_type": "code",
   "execution_count": 11,
   "metadata": {
    "scrolled": true
   },
   "outputs": [
    {
     "data": {
      "text/html": [
       "<div>\n",
       "<style scoped>\n",
       "    .dataframe tbody tr th:only-of-type {\n",
       "        vertical-align: middle;\n",
       "    }\n",
       "\n",
       "    .dataframe tbody tr th {\n",
       "        vertical-align: top;\n",
       "    }\n",
       "\n",
       "    .dataframe thead th {\n",
       "        text-align: right;\n",
       "    }\n",
       "</style>\n",
       "<table border=\"1\" class=\"dataframe\">\n",
       "  <thead>\n",
       "    <tr style=\"text-align: right;\">\n",
       "      <th></th>\n",
       "      <th>source</th>\n",
       "      <th>day</th>\n",
       "      <th>cost</th>\n",
       "    </tr>\n",
       "  </thead>\n",
       "  <tbody>\n",
       "  </tbody>\n",
       "</table>\n",
       "</div>"
      ],
      "text/plain": [
       "Empty DataFrame\n",
       "Columns: [source, day, cost]\n",
       "Index: []"
      ]
     },
     "execution_count": 11,
     "metadata": {},
     "output_type": "execute_result"
    }
   ],
   "source": [
    "costs.loc[costs.duplicated()==True]"
   ]
  },
  {
   "cell_type": "code",
   "execution_count": 12,
   "metadata": {},
   "outputs": [
    {
     "data": {
      "text/html": [
       "<div>\n",
       "<style scoped>\n",
       "    .dataframe tbody tr th:only-of-type {\n",
       "        vertical-align: middle;\n",
       "    }\n",
       "\n",
       "    .dataframe tbody tr th {\n",
       "        vertical-align: top;\n",
       "    }\n",
       "\n",
       "    .dataframe thead th {\n",
       "        text-align: right;\n",
       "    }\n",
       "</style>\n",
       "<table border=\"1\" class=\"dataframe\">\n",
       "  <thead>\n",
       "    <tr style=\"text-align: right;\">\n",
       "      <th></th>\n",
       "      <th>user_id</th>\n",
       "      <th>source</th>\n",
       "    </tr>\n",
       "  </thead>\n",
       "  <tbody>\n",
       "  </tbody>\n",
       "</table>\n",
       "</div>"
      ],
      "text/plain": [
       "Empty DataFrame\n",
       "Columns: [user_id, source]\n",
       "Index: []"
      ]
     },
     "execution_count": 12,
     "metadata": {},
     "output_type": "execute_result"
    }
   ],
   "source": [
    "sources.loc[sources.duplicated()==True]"
   ]
  },
  {
   "cell_type": "markdown",
   "metadata": {},
   "source": [
    "Есть один дубликат в таблице `actions`, удалим его."
   ]
  },
  {
   "cell_type": "code",
   "execution_count": 13,
   "metadata": {
    "scrolled": true
   },
   "outputs": [
    {
     "name": "stdout",
     "output_type": "stream",
     "text": [
      "<class 'pandas.core.frame.DataFrame'>\n",
      "Int64Index: 135639 entries, 0 to 135639\n",
      "Data columns (total 5 columns):\n",
      " #   Column          Non-Null Count   Dtype \n",
      "---  ------          --------------   ----- \n",
      " 0   event_datetime  135639 non-null  object\n",
      " 1   event           135639 non-null  object\n",
      " 2   building_type   127956 non-null  object\n",
      " 3   user_id         135639 non-null  object\n",
      " 4   project_type    1866 non-null    object\n",
      "dtypes: object(5)\n",
      "memory usage: 6.2+ MB\n"
     ]
    }
   ],
   "source": [
    "actions = actions.drop_duplicates()\n",
    "actions.info()"
   ]
  },
  {
   "cell_type": "markdown",
   "metadata": {},
   "source": [
    "Теперь проверим пропуски."
   ]
  },
  {
   "cell_type": "code",
   "execution_count": 14,
   "metadata": {},
   "outputs": [
    {
     "data": {
      "image/png": "[encoded data removed]",
      "text/plain": [
       "<Figure size 1800x720 with 3 Axes>"
      ]
     },
     "metadata": {
      "needs_background": "light"
     },
     "output_type": "display_data"
    }
   ],
   "source": [
    "msno.bar(actions);"
   ]
  },
  {
   "cell_type": "code",
   "execution_count": 15,
   "metadata": {
    "scrolled": true
   },
   "outputs": [
    {
     "name": "stdout",
     "output_type": "stream",
     "text": [
      "<class 'pandas.core.frame.DataFrame'>\n",
      "RangeIndex: 28 entries, 0 to 27\n",
      "Data columns (total 3 columns):\n",
      " #   Column  Non-Null Count  Dtype  \n",
      "---  ------  --------------  -----  \n",
      " 0   source  28 non-null     object \n",
      " 1   day     28 non-null     object \n",
      " 2   cost    28 non-null     float64\n",
      "dtypes: float64(1), object(2)\n",
      "memory usage: 800.0+ bytes\n"
     ]
    }
   ],
   "source": [
    "costs.info()"
   ]
  },
  {
   "cell_type": "code",
   "execution_count": 16,
   "metadata": {},
   "outputs": [
    {
     "name": "stdout",
     "output_type": "stream",
     "text": [
      "<class 'pandas.core.frame.DataFrame'>\n",
      "RangeIndex: 13576 entries, 0 to 13575\n",
      "Data columns (total 2 columns):\n",
      " #   Column   Non-Null Count  Dtype \n",
      "---  ------   --------------  ----- \n",
      " 0   user_id  13576 non-null  object\n",
      " 1   source   13576 non-null  object\n",
      "dtypes: object(2)\n",
      "memory usage: 212.2+ KB\n"
     ]
    }
   ],
   "source": [
    "sources.info()"
   ]
  },
  {
   "cell_type": "markdown",
   "metadata": {},
   "source": [
    "Проверим с чем связаны пропуски в столбцах `building_type` и `project_type` в таблице `action`."
   ]
  },
  {
   "cell_type": "code",
   "execution_count": 17,
   "metadata": {},
   "outputs": [
    {
     "data": {
      "text/plain": [
       "array(['finished_stage_1', 'project'], dtype=object)"
      ]
     },
     "execution_count": 17,
     "metadata": {},
     "output_type": "execute_result"
    }
   ],
   "source": [
    "actions.loc[actions['building_type'].isna()==True, 'event'].unique()"
   ]
  },
  {
   "cell_type": "code",
   "execution_count": 18,
   "metadata": {},
   "outputs": [
    {
     "data": {
      "text/plain": [
       "array(['building'], dtype=object)"
      ]
     },
     "execution_count": 18,
     "metadata": {},
     "output_type": "execute_result"
    }
   ],
   "source": [
    "actions.loc[actions['building_type'].isna()==False, 'event'].unique()"
   ]
  },
  {
   "cell_type": "markdown",
   "metadata": {},
   "source": [
    "Тип постройки заполнен только для событий типа *building* и оставлен пустым для всех остальных событий. Здесь нет ошибки, оставим пропуски как есть."
   ]
  },
  {
   "cell_type": "code",
   "execution_count": 19,
   "metadata": {},
   "outputs": [
    {
     "data": {
      "text/plain": [
       "array(['building', 'finished_stage_1'], dtype=object)"
      ]
     },
     "execution_count": 19,
     "metadata": {},
     "output_type": "execute_result"
    }
   ],
   "source": [
    "actions.loc[actions['project_type'].isna()==True, 'event'].unique()"
   ]
  },
  {
   "cell_type": "code",
   "execution_count": 20,
   "metadata": {},
   "outputs": [
    {
     "data": {
      "text/plain": [
       "array(['project'], dtype=object)"
      ]
     },
     "execution_count": 20,
     "metadata": {},
     "output_type": "execute_result"
    }
   ],
   "source": [
    "actions.loc[actions['project_type'].isna()==False, 'event'].unique()"
   ]
  },
  {
   "cell_type": "markdown",
   "metadata": {},
   "source": [
    "Тип проекта заполнен только для событий типа *project* и оставлен пустым для всех остальных событий. Здесь тоже нет ошибки, однако посмотрим какие значения принимает название проекта."
   ]
  },
  {
   "cell_type": "code",
   "execution_count": 21,
   "metadata": {},
   "outputs": [
    {
     "data": {
      "text/plain": [
       "array([nan, 'satellite_orbital_assembly'], dtype=object)"
      ]
     },
     "execution_count": 21,
     "metadata": {},
     "output_type": "execute_result"
    }
   ],
   "source": [
    "actions['project_type'].unique()"
   ]
  },
  {
   "cell_type": "markdown",
   "metadata": {},
   "source": [
    "Поскольку в датасете представлены данные об активностях игроков только на первом уровне, им доступен только один проект. В столбце `project_type` нет полезных для анализа данных, его можно удалить."
   ]
  },
  {
   "cell_type": "code",
   "execution_count": 22,
   "metadata": {},
   "outputs": [
    {
     "name": "stdout",
     "output_type": "stream",
     "text": [
      "<class 'pandas.core.frame.DataFrame'>\n",
      "Int64Index: 135639 entries, 0 to 135639\n",
      "Data columns (total 4 columns):\n",
      " #   Column          Non-Null Count   Dtype \n",
      "---  ------          --------------   ----- \n",
      " 0   event_datetime  135639 non-null  object\n",
      " 1   event           135639 non-null  object\n",
      " 2   building_type   127956 non-null  object\n",
      " 3   user_id         135639 non-null  object\n",
      "dtypes: object(4)\n",
      "memory usage: 5.2+ MB\n"
     ]
    }
   ],
   "source": [
    "actions = actions.drop(columns={'project_type'})\n",
    "actions.info()"
   ]
  },
  {
   "cell_type": "markdown",
   "metadata": {},
   "source": [
    "Теперь посмотрим на типы данных."
   ]
  },
  {
   "cell_type": "code",
   "execution_count": 23,
   "metadata": {
    "scrolled": true
   },
   "outputs": [
    {
     "data": {
      "text/html": [
       "<div>\n",
       "<style scoped>\n",
       "    .dataframe tbody tr th:only-of-type {\n",
       "        vertical-align: middle;\n",
       "    }\n",
       "\n",
       "    .dataframe tbody tr th {\n",
       "        vertical-align: top;\n",
       "    }\n",
       "\n",
       "    .dataframe thead th {\n",
       "        text-align: right;\n",
       "    }\n",
       "</style>\n",
       "<table border=\"1\" class=\"dataframe\">\n",
       "  <thead>\n",
       "    <tr style=\"text-align: right;\">\n",
       "      <th></th>\n",
       "      <th>source</th>\n",
       "      <th>day</th>\n",
       "      <th>cost</th>\n",
       "    </tr>\n",
       "  </thead>\n",
       "  <tbody>\n",
       "    <tr>\n",
       "      <th>0</th>\n",
       "      <td>facebook_ads</td>\n",
       "      <td>2020-05-03</td>\n",
       "      <td>935.88</td>\n",
       "    </tr>\n",
       "    <tr>\n",
       "      <th>1</th>\n",
       "      <td>facebook_ads</td>\n",
       "      <td>2020-05-04</td>\n",
       "      <td>548.35</td>\n",
       "    </tr>\n",
       "    <tr>\n",
       "      <th>2</th>\n",
       "      <td>facebook_ads</td>\n",
       "      <td>2020-05-05</td>\n",
       "      <td>260.19</td>\n",
       "    </tr>\n",
       "    <tr>\n",
       "      <th>3</th>\n",
       "      <td>facebook_ads</td>\n",
       "      <td>2020-05-06</td>\n",
       "      <td>177.98</td>\n",
       "    </tr>\n",
       "    <tr>\n",
       "      <th>4</th>\n",
       "      <td>facebook_ads</td>\n",
       "      <td>2020-05-07</td>\n",
       "      <td>111.77</td>\n",
       "    </tr>\n",
       "  </tbody>\n",
       "</table>\n",
       "</div>"
      ],
      "text/plain": [
       "         source         day   cost\n",
       "0  facebook_ads  2020-05-03 935.88\n",
       "1  facebook_ads  2020-05-04 548.35\n",
       "2  facebook_ads  2020-05-05 260.19\n",
       "3  facebook_ads  2020-05-06 177.98\n",
       "4  facebook_ads  2020-05-07 111.77"
      ]
     },
     "execution_count": 23,
     "metadata": {},
     "output_type": "execute_result"
    }
   ],
   "source": [
    "costs.head()"
   ]
  },
  {
   "cell_type": "code",
   "execution_count": 24,
   "metadata": {},
   "outputs": [
    {
     "data": {
      "text/html": [
       "<div>\n",
       "<style scoped>\n",
       "    .dataframe tbody tr th:only-of-type {\n",
       "        vertical-align: middle;\n",
       "    }\n",
       "\n",
       "    .dataframe tbody tr th {\n",
       "        vertical-align: top;\n",
       "    }\n",
       "\n",
       "    .dataframe thead th {\n",
       "        text-align: right;\n",
       "    }\n",
       "</style>\n",
       "<table border=\"1\" class=\"dataframe\">\n",
       "  <thead>\n",
       "    <tr style=\"text-align: right;\">\n",
       "      <th></th>\n",
       "      <th>event_datetime</th>\n",
       "      <th>event</th>\n",
       "      <th>building_type</th>\n",
       "      <th>user_id</th>\n",
       "    </tr>\n",
       "  </thead>\n",
       "  <tbody>\n",
       "    <tr>\n",
       "      <th>0</th>\n",
       "      <td>2020-05-04 00:00:01</td>\n",
       "      <td>building</td>\n",
       "      <td>assembly_shop</td>\n",
       "      <td>55e92310-cb8e-4754-b622-597e124b03de</td>\n",
       "    </tr>\n",
       "    <tr>\n",
       "      <th>1</th>\n",
       "      <td>2020-05-04 00:00:03</td>\n",
       "      <td>building</td>\n",
       "      <td>assembly_shop</td>\n",
       "      <td>c07b1c10-f477-44dc-81dc-ec82254b1347</td>\n",
       "    </tr>\n",
       "    <tr>\n",
       "      <th>2</th>\n",
       "      <td>2020-05-04 00:00:16</td>\n",
       "      <td>building</td>\n",
       "      <td>assembly_shop</td>\n",
       "      <td>6edd42cc-e753-4ff6-a947-2107cd560710</td>\n",
       "    </tr>\n",
       "    <tr>\n",
       "      <th>3</th>\n",
       "      <td>2020-05-04 00:00:16</td>\n",
       "      <td>building</td>\n",
       "      <td>assembly_shop</td>\n",
       "      <td>92c69003-d60a-444a-827f-8cc51bf6bf4c</td>\n",
       "    </tr>\n",
       "    <tr>\n",
       "      <th>4</th>\n",
       "      <td>2020-05-04 00:00:35</td>\n",
       "      <td>building</td>\n",
       "      <td>assembly_shop</td>\n",
       "      <td>cdc6bb92-0ccb-4490-9866-ef142f09139d</td>\n",
       "    </tr>\n",
       "  </tbody>\n",
       "</table>\n",
       "</div>"
      ],
      "text/plain": [
       "        event_datetime     event  building_type  \\\n",
       "0  2020-05-04 00:00:01  building  assembly_shop   \n",
       "1  2020-05-04 00:00:03  building  assembly_shop   \n",
       "2  2020-05-04 00:00:16  building  assembly_shop   \n",
       "3  2020-05-04 00:00:16  building  assembly_shop   \n",
       "4  2020-05-04 00:00:35  building  assembly_shop   \n",
       "\n",
       "                                user_id  \n",
       "0  55e92310-cb8e-4754-b622-597e124b03de  \n",
       "1  c07b1c10-f477-44dc-81dc-ec82254b1347  \n",
       "2  6edd42cc-e753-4ff6-a947-2107cd560710  \n",
       "3  92c69003-d60a-444a-827f-8cc51bf6bf4c  \n",
       "4  cdc6bb92-0ccb-4490-9866-ef142f09139d  "
      ]
     },
     "execution_count": 24,
     "metadata": {},
     "output_type": "execute_result"
    }
   ],
   "source": [
    "actions.head()"
   ]
  },
  {
   "cell_type": "markdown",
   "metadata": {},
   "source": [
    "Столбец `day` в таблице `costs` и столбец `event_datetime` в таблице `actions` нужно привести к формату даты. Ещё добавим в `actions` столбец с датой (понадобится потом для расчёта количества построек в первый день игры)."
   ]
  },
  {
   "cell_type": "code",
   "execution_count": 25,
   "metadata": {
    "scrolled": true
   },
   "outputs": [
    {
     "name": "stdout",
     "output_type": "stream",
     "text": [
      "<class 'pandas.core.frame.DataFrame'>\n",
      "RangeIndex: 28 entries, 0 to 27\n",
      "Data columns (total 3 columns):\n",
      " #   Column  Non-Null Count  Dtype         \n",
      "---  ------  --------------  -----         \n",
      " 0   source  28 non-null     object        \n",
      " 1   day     28 non-null     datetime64[ns]\n",
      " 2   cost    28 non-null     float64       \n",
      "dtypes: datetime64[ns](1), float64(1), object(1)\n",
      "memory usage: 800.0+ bytes\n"
     ]
    },
    {
     "data": {
      "text/plain": [
       "None"
      ]
     },
     "metadata": {},
     "output_type": "display_data"
    },
    {
     "name": "stdout",
     "output_type": "stream",
     "text": [
      "<class 'pandas.core.frame.DataFrame'>\n",
      "Int64Index: 135639 entries, 0 to 135639\n",
      "Data columns (total 5 columns):\n",
      " #   Column          Non-Null Count   Dtype         \n",
      "---  ------          --------------   -----         \n",
      " 0   event_datetime  135639 non-null  datetime64[ns]\n",
      " 1   event           135639 non-null  object        \n",
      " 2   building_type   127956 non-null  object        \n",
      " 3   user_id         135639 non-null  object        \n",
      " 4   event_day       135639 non-null  datetime64[ns]\n",
      "dtypes: datetime64[ns](2), object(3)\n",
      "memory usage: 6.2+ MB\n"
     ]
    }
   ],
   "source": [
    "costs['day'] = pd.to_datetime(costs['day'], format='%Y-%m-%d')\n",
    "actions['event_datetime'] = pd.to_datetime(actions['event_datetime'], format='%Y-%m-%d %H:%M:%S')\n",
    "actions['event_day'] = actions['event_datetime'].dt.date.astype('datetime64[ns]')\n",
    "display(costs.info())\n",
    "actions.info()"
   ]
  },
  {
   "cell_type": "markdown",
   "metadata": {},
   "source": [
    "Для удобства объединения таблиц переименуем *day* в *dt* в таблице `costs`:"
   ]
  },
  {
   "cell_type": "code",
   "execution_count": 26,
   "metadata": {},
   "outputs": [],
   "source": [
    "costs = costs.rename(columns={'day':'dt'})"
   ]
  },
  {
   "cell_type": "markdown",
   "metadata": {},
   "source": [
    "В таблице `costs` указываются даты оплаты, а реклама показывалась на следующий день. Для корректного расчёта САС сдвинем даты в `costs` на один день."
   ]
  },
  {
   "cell_type": "code",
   "execution_count": 27,
   "metadata": {
    "scrolled": true
   },
   "outputs": [
    {
     "data": {
      "text/html": [
       "<div>\n",
       "<style scoped>\n",
       "    .dataframe tbody tr th:only-of-type {\n",
       "        vertical-align: middle;\n",
       "    }\n",
       "\n",
       "    .dataframe tbody tr th {\n",
       "        vertical-align: top;\n",
       "    }\n",
       "\n",
       "    .dataframe thead th {\n",
       "        text-align: right;\n",
       "    }\n",
       "</style>\n",
       "<table border=\"1\" class=\"dataframe\">\n",
       "  <thead>\n",
       "    <tr style=\"text-align: right;\">\n",
       "      <th></th>\n",
       "      <th>source</th>\n",
       "      <th>dt</th>\n",
       "      <th>cost</th>\n",
       "    </tr>\n",
       "  </thead>\n",
       "  <tbody>\n",
       "    <tr>\n",
       "      <th>0</th>\n",
       "      <td>facebook_ads</td>\n",
       "      <td>2020-05-04</td>\n",
       "      <td>935.88</td>\n",
       "    </tr>\n",
       "    <tr>\n",
       "      <th>1</th>\n",
       "      <td>facebook_ads</td>\n",
       "      <td>2020-05-05</td>\n",
       "      <td>548.35</td>\n",
       "    </tr>\n",
       "    <tr>\n",
       "      <th>2</th>\n",
       "      <td>facebook_ads</td>\n",
       "      <td>2020-05-06</td>\n",
       "      <td>260.19</td>\n",
       "    </tr>\n",
       "    <tr>\n",
       "      <th>3</th>\n",
       "      <td>facebook_ads</td>\n",
       "      <td>2020-05-07</td>\n",
       "      <td>177.98</td>\n",
       "    </tr>\n",
       "    <tr>\n",
       "      <th>4</th>\n",
       "      <td>facebook_ads</td>\n",
       "      <td>2020-05-08</td>\n",
       "      <td>111.77</td>\n",
       "    </tr>\n",
       "  </tbody>\n",
       "</table>\n",
       "</div>"
      ],
      "text/plain": [
       "         source         dt   cost\n",
       "0  facebook_ads 2020-05-04 935.88\n",
       "1  facebook_ads 2020-05-05 548.35\n",
       "2  facebook_ads 2020-05-06 260.19\n",
       "3  facebook_ads 2020-05-07 177.98\n",
       "4  facebook_ads 2020-05-08 111.77"
      ]
     },
     "execution_count": 27,
     "metadata": {},
     "output_type": "execute_result"
    }
   ],
   "source": [
    "costs['dt'] = costs['dt'] + pd.Timedelta('1 day')\n",
    "costs.head()"
   ]
  },
  {
   "cell_type": "markdown",
   "metadata": {},
   "source": [
    "Столбцы `event` и `building_type` преобразуем в тип *Categorical*."
   ]
  },
  {
   "cell_type": "code",
   "execution_count": 28,
   "metadata": {},
   "outputs": [
    {
     "name": "stdout",
     "output_type": "stream",
     "text": [
      "<class 'pandas.core.frame.DataFrame'>\n",
      "Int64Index: 135639 entries, 0 to 135639\n",
      "Data columns (total 5 columns):\n",
      " #   Column          Non-Null Count   Dtype         \n",
      "---  ------          --------------   -----         \n",
      " 0   event_datetime  135639 non-null  datetime64[ns]\n",
      " 1   event           135639 non-null  category      \n",
      " 2   building_type   127956 non-null  category      \n",
      " 3   user_id         135639 non-null  object        \n",
      " 4   event_day       135639 non-null  datetime64[ns]\n",
      "dtypes: category(2), datetime64[ns](2), object(1)\n",
      "memory usage: 4.4+ MB\n"
     ]
    }
   ],
   "source": [
    "actions = actions.astype({'event':'category', 'building_type':'category'})\n",
    "actions.info()"
   ]
  },
  {
   "cell_type": "markdown",
   "metadata": {},
   "source": [
    "Теперь данные занимают на треть меньше места в памяти.\n",
    "\n",
    "**Вывод:** Данные очищены от дубликатов и лишних столбцов. Столбцы с датой и временем приведены к формату `datetime`, столбцы `event` и `building_type` - к типу `category`."
   ]
  },
  {
   "cell_type": "markdown",
   "metadata": {},
   "source": [
    "## Исследовательский анализ данных"
   ]
  },
  {
   "cell_type": "markdown",
   "metadata": {},
   "source": [
    "### Профили пользователей\n",
    "Сформируем профили пользователей с помощью функции `get_profiles`."
   ]
  },
  {
   "cell_type": "code",
   "execution_count": 29,
   "metadata": {
    "scrolled": true
   },
   "outputs": [
    {
     "data": {
      "text/html": [
       "<div>\n",
       "<style scoped>\n",
       "    .dataframe tbody tr th:only-of-type {\n",
       "        vertical-align: middle;\n",
       "    }\n",
       "\n",
       "    .dataframe tbody tr th {\n",
       "        vertical-align: top;\n",
       "    }\n",
       "\n",
       "    .dataframe thead th {\n",
       "        text-align: right;\n",
       "    }\n",
       "</style>\n",
       "<table border=\"1\" class=\"dataframe\">\n",
       "  <thead>\n",
       "    <tr style=\"text-align: right;\">\n",
       "      <th></th>\n",
       "      <th>user_id</th>\n",
       "      <th>first_ts</th>\n",
       "      <th>days_active</th>\n",
       "      <th>buildings</th>\n",
       "      <th>dt</th>\n",
       "      <th>leveled_up</th>\n",
       "      <th>player_type</th>\n",
       "      <th>levelup_ts</th>\n",
       "      <th>levelup_time</th>\n",
       "      <th>source</th>\n",
       "      <th>acquisition_cost</th>\n",
       "    </tr>\n",
       "  </thead>\n",
       "  <tbody>\n",
       "    <tr>\n",
       "      <th>0</th>\n",
       "      <td>0001f83c-c6ac-4621-b7f0-8a28b283ac30</td>\n",
       "      <td>2020-05-06 01:07:37</td>\n",
       "      <td>8</td>\n",
       "      <td>13</td>\n",
       "      <td>2020-05-06</td>\n",
       "      <td>False</td>\n",
       "      <td>NaN</td>\n",
       "      <td>NaT</td>\n",
       "      <td>NaT</td>\n",
       "      <td>facebook_ads</td>\n",
       "      <td>0.75</td>\n",
       "    </tr>\n",
       "    <tr>\n",
       "      <th>1</th>\n",
       "      <td>00151b4f-ba38-44a8-a650-d7cf130a0105</td>\n",
       "      <td>2020-05-06 03:09:12</td>\n",
       "      <td>6</td>\n",
       "      <td>9</td>\n",
       "      <td>2020-05-06</td>\n",
       "      <td>False</td>\n",
       "      <td>NaN</td>\n",
       "      <td>NaT</td>\n",
       "      <td>NaT</td>\n",
       "      <td>yandex_direct</td>\n",
       "      <td>0.46</td>\n",
       "    </tr>\n",
       "    <tr>\n",
       "      <th>2</th>\n",
       "      <td>001aaea6-3d14-43f1-8ca8-7f48820f17aa</td>\n",
       "      <td>2020-05-05 18:08:52</td>\n",
       "      <td>3</td>\n",
       "      <td>4</td>\n",
       "      <td>2020-05-05</td>\n",
       "      <td>False</td>\n",
       "      <td>NaN</td>\n",
       "      <td>NaT</td>\n",
       "      <td>NaT</td>\n",
       "      <td>youtube_channel_reklama</td>\n",
       "      <td>0.39</td>\n",
       "    </tr>\n",
       "    <tr>\n",
       "      <th>3</th>\n",
       "      <td>001d39dc-366c-4021-9604-6a3b9ff01e25</td>\n",
       "      <td>2020-05-05 21:02:05</td>\n",
       "      <td>6</td>\n",
       "      <td>8</td>\n",
       "      <td>2020-05-05</td>\n",
       "      <td>True</td>\n",
       "      <td>warrior</td>\n",
       "      <td>2020-05-12 07:40:47</td>\n",
       "      <td>7.00</td>\n",
       "      <td>instagram_new_adverts</td>\n",
       "      <td>0.63</td>\n",
       "    </tr>\n",
       "    <tr>\n",
       "      <th>4</th>\n",
       "      <td>002f508f-67b6-479f-814b-b05f00d4e995</td>\n",
       "      <td>2020-05-05 13:49:58</td>\n",
       "      <td>9</td>\n",
       "      <td>12</td>\n",
       "      <td>2020-05-05</td>\n",
       "      <td>False</td>\n",
       "      <td>NaN</td>\n",
       "      <td>NaT</td>\n",
       "      <td>NaT</td>\n",
       "      <td>facebook_ads</td>\n",
       "      <td>0.79</td>\n",
       "    </tr>\n",
       "  </tbody>\n",
       "</table>\n",
       "</div>"
      ],
      "text/plain": [
       "                                user_id            first_ts  days_active  \\\n",
       "0  0001f83c-c6ac-4621-b7f0-8a28b283ac30 2020-05-06 01:07:37            8   \n",
       "1  00151b4f-ba38-44a8-a650-d7cf130a0105 2020-05-06 03:09:12            6   \n",
       "2  001aaea6-3d14-43f1-8ca8-7f48820f17aa 2020-05-05 18:08:52            3   \n",
       "3  001d39dc-366c-4021-9604-6a3b9ff01e25 2020-05-05 21:02:05            6   \n",
       "4  002f508f-67b6-479f-814b-b05f00d4e995 2020-05-05 13:49:58            9   \n",
       "\n",
       "   buildings         dt  leveled_up player_type          levelup_ts  \\\n",
       "0         13 2020-05-06       False         NaN                 NaT   \n",
       "1          9 2020-05-06       False         NaN                 NaT   \n",
       "2          4 2020-05-05       False         NaN                 NaT   \n",
       "3          8 2020-05-05        True     warrior 2020-05-12 07:40:47   \n",
       "4         12 2020-05-05       False         NaN                 NaT   \n",
       "\n",
       "  levelup_time                   source  acquisition_cost  \n",
       "0          NaT             facebook_ads              0.75  \n",
       "1          NaT            yandex_direct              0.46  \n",
       "2          NaT  youtube_channel_reklama              0.39  \n",
       "3         7.00    instagram_new_adverts              0.63  \n",
       "4          NaT             facebook_ads              0.79  "
      ]
     },
     "execution_count": 29,
     "metadata": {},
     "output_type": "execute_result"
    }
   ],
   "source": [
    "profiles = get_profiles(actions, sources, costs)\n",
    "profiles.head()"
   ]
  },
  {
   "cell_type": "markdown",
   "metadata": {},
   "source": [
    "### Откуда приходят пользователи\n",
    "Покажем на графике из каких источников приходит больше всего пользователей и сколько из них переходит на следующий уровень."
   ]
  },
  {
   "cell_type": "code",
   "execution_count": 30,
   "metadata": {
    "scrolled": true
   },
   "outputs": [
    {
     "data": {
      "image/png": "[encoded data removed]",
      "text/plain": [
       "<Figure size 648x432 with 1 Axes>"
      ]
     },
     "metadata": {},
     "output_type": "display_data"
    }
   ],
   "source": [
    "draw_count_bars(profiles, ['source', 'leveled_up'], 'Leveled up players by source, May 4-10')"
   ]
  },
  {
   "cell_type": "markdown",
   "metadata": {},
   "source": [
    "Больше всего пользователей пришло из Яндекс.Директ. Доля игроков, дошедших до второго уровня, от канала привлечения не зависит."
   ]
  },
  {
   "cell_type": "markdown",
   "metadata": {},
   "source": [
    "### Типы пользователей по источнику привлечения\n",
    "Покажем на графике откуда приходит больше \"исследователей\". Предполагается, что \"исследователи\" чаще заходят на экран выбора постройки, поэтому нам важно привлечь больше таких игроков."
   ]
  },
  {
   "cell_type": "code",
   "execution_count": 31,
   "metadata": {},
   "outputs": [
    {
     "data": {
      "image/png": "[encoded data removed]",
      "text/plain": [
       "<Figure size 648x432 with 1 Axes>"
      ]
     },
     "metadata": {},
     "output_type": "display_data"
    }
   ],
   "source": [
    "draw_count_bars(profiles, ['source', 'player_type'], 'Player types by source, May 4-10')"
   ]
  },
  {
   "cell_type": "markdown",
   "metadata": {},
   "source": [
    "Чуть больше \"исследователей\" приходит из Фейсбука и чуть меньше из Яндекс.Директа, но разница не выглядит существенной."
   ]
  },
  {
   "cell_type": "markdown",
   "metadata": {},
   "source": [
    "### Среднее количество построек на игрока\n",
    "Проверим, зависит ли количество построек от типа игрока и канала привлечения."
   ]
  },
  {
   "cell_type": "code",
   "execution_count": 32,
   "metadata": {
    "scrolled": true
   },
   "outputs": [
    {
     "data": {
      "image/png": "[encoded data removed]",
      "text/plain": [
       "<Figure size 720x432 with 1 Axes>"
      ]
     },
     "metadata": {},
     "output_type": "display_data"
    }
   ],
   "source": [
    "draw_mean_bars(profiles, 'player_type', 'buildings', \"Buildings per player by player type, May 4-10\")"
   ]
  },
  {
   "cell_type": "markdown",
   "metadata": {},
   "source": [
    "\"Исследователи\" строят заметно больше."
   ]
  },
  {
   "cell_type": "code",
   "execution_count": 33,
   "metadata": {},
   "outputs": [
    {
     "data": {
      "image/png": "[encoded data removed]",
      "text/plain": [
       "<Figure size 720x432 with 1 Axes>"
      ]
     },
     "metadata": {},
     "output_type": "display_data"
    }
   ],
   "source": [
    "draw_mean_bars(profiles, 'source', 'buildings', \"Buildings per player by source, May 4-10\")"
   ]
  },
  {
   "cell_type": "markdown",
   "metadata": {},
   "source": [
    "От источника привлечения количество построек не зависит, а вот стиль игры явно влияет на этот показатель."
   ]
  },
  {
   "cell_type": "markdown",
   "metadata": {},
   "source": [
    "### Стоимость привлечения пользователей для разных источников\n",
    "Посмотрим как различается стоимость привлечения в разных каналах:"
   ]
  },
  {
   "cell_type": "code",
   "execution_count": 34,
   "metadata": {
    "scrolled": true
   },
   "outputs": [
    {
     "data": {
      "image/png": "[encoded data removed]",
      "text/plain": [
       "<Figure size 720x432 with 1 Axes>"
      ]
     },
     "metadata": {},
     "output_type": "display_data"
    }
   ],
   "source": [
    "draw_mean_bars(profiles, 'source', 'acquisition_cost', \"Average CAC for different sources\")"
   ]
  },
  {
   "cell_type": "markdown",
   "metadata": {},
   "source": [
    "Самые \"дорогие\" клиенты приходят из Фейсбука и Инстаграма, самые \"дешёвые\" - из YouTube. Проверим на сколько этот показатель стабилен, не было ли в нём сильных колебаний:"
   ]
  },
  {
   "cell_type": "code",
   "execution_count": 35,
   "metadata": {
    "scrolled": true
   },
   "outputs": [
    {
     "data": {
      "image/png": "[encoded data removed]",
      "text/plain": [
       "<Figure size 720x360 with 1 Axes>"
      ]
     },
     "metadata": {},
     "output_type": "display_data"
    }
   ],
   "source": [
    "df = profiles.pivot_table(index='dt', columns='source', values='acquisition_cost', aggfunc='mean')\n",
    "\n",
    "# строим график истории изменений CAC по каналам привлечения\n",
    "fig, ax = plt.subplots(figsize=(10, 5))\n",
    "ax.plot(df)\n",
    "ax.legend(df.columns, bbox_to_anchor=(1.02, 1), loc='upper left', borderaxespad=0)\n",
    "plt.xlabel('Date of acquisition')\n",
    "plt.ylabel('CAC, $')\n",
    "plt.title('САС dynamics by channel')\n",
    "plt.grid(axis='y');\n",
    "\n",
    "plt.show()"
   ]
  },
  {
   "cell_type": "markdown",
   "metadata": {},
   "source": [
    "В последний день - 10 мая - снизилась стоимость привлечения на Фейсбуке. Возможно, там былка какая-то очень удачная реклама? Посмотрим, как менялось количество привлечённых пользователей по дням."
   ]
  },
  {
   "cell_type": "code",
   "execution_count": 36,
   "metadata": {
    "scrolled": true
   },
   "outputs": [
    {
     "data": {
      "image/png": "[encoded data removed]",
      "text/plain": [
       "<Figure size 720x360 with 1 Axes>"
      ]
     },
     "metadata": {},
     "output_type": "display_data"
    }
   ],
   "source": [
    "df = profiles.pivot_table(index='dt', columns='source', values='user_id', aggfunc='count')\n",
    "\n",
    "# строим график истории изменений CAC по каналам привлечения\n",
    "fig, ax = plt.subplots(figsize=(10, 5))\n",
    "ax.plot(df)\n",
    "ax.legend(df.columns, bbox_to_anchor=(1.02, 1), loc='upper left', borderaxespad=0)\n",
    "plt.xlabel('Date of acquisition')\n",
    "plt.ylabel('New users')\n",
    "plt.title('User acquisition dynamics by channel')\n",
    "plt.grid(axis='y');\n",
    "\n",
    "plt.show()"
   ]
  },
  {
   "cell_type": "markdown",
   "metadata": {},
   "source": [
    "Посмотрим поближе на период с 8 по 10 мая:"
   ]
  },
  {
   "cell_type": "code",
   "execution_count": 37,
   "metadata": {
    "scrolled": true
   },
   "outputs": [
    {
     "data": {
      "image/png": "[encoded data removed]",
      "text/plain": [
       "<Figure size 720x360 with 1 Axes>"
      ]
     },
     "metadata": {},
     "output_type": "display_data"
    }
   ],
   "source": [
    "df = profiles.pivot_table(index='dt', columns='source', values='user_id', aggfunc='count')\n",
    "\n",
    "# строим график истории изменений CAC по каналам привлечения\n",
    "fig, ax = plt.subplots(figsize=(10, 5))\n",
    "ax.plot(df)\n",
    "ax.legend(df.columns, bbox_to_anchor=(1.02, 1), loc='upper left', borderaxespad=0)\n",
    "plt.xlabel('Date of acquisition')\n",
    "plt.ylabel('New users')\n",
    "plt.title('User acquisition dynamics by channel')\n",
    "plt.grid(axis='y');\n",
    "ax.set_ylim(top=500)\n",
    "\n",
    "plt.show()"
   ]
  },
  {
   "cell_type": "markdown",
   "metadata": {},
   "source": [
    "Видим, что количество привлекаемых пользователей резко снижается, при этом рейтинг каналов практически не меняется: больше всего приходят из Яндекс.Директ, на втором месте Инстаграм, потом YouTube и Фейсбук примерно на одном уровне.\n",
    "\n",
    "Можно порекомендовать разработчикам игры оптимизировать расходы на рекламу, чтобы быстрее выйти на окупаемость:\n",
    "- снизить количество рекламы в Фейсбуке и Инстаграме, \n",
    "- увеличить количество рекламы в Яндекс.Директ,\n",
    "- рекламу в YouTube оставить без изменений."
   ]
  },
  {
   "cell_type": "markdown",
   "metadata": {},
   "source": [
    "### Потенциальная окупаемость рекламы по каналам привлечения и по типам игроков\n",
    "Реклама окупится, если сумма, которую разработчики заработают на показе рекламы в игре, будет равна затратам на приобретение рекламы для привлечения пользователей. Допустим, что вся реклама, затраченная на привлечение пользователей, должна окупиться, пока игрок проходит первый уровень. Если планируется показывать рекламу на странице выбора постройки, то для расчёта целевого CPM для каждого канала нужно поделить расходы на количество построек на первом уровне у пользователей, пришедших из этого канала, и умножить на 1000."
   ]
  },
  {
   "cell_type": "code",
   "execution_count": 38,
   "metadata": {
    "scrolled": true
   },
   "outputs": [
    {
     "data": {
      "text/html": [
       "<div>\n",
       "<style scoped>\n",
       "    .dataframe tbody tr th:only-of-type {\n",
       "        vertical-align: middle;\n",
       "    }\n",
       "\n",
       "    .dataframe tbody tr th {\n",
       "        vertical-align: top;\n",
       "    }\n",
       "\n",
       "    .dataframe thead th {\n",
       "        text-align: right;\n",
       "    }\n",
       "</style>\n",
       "<table border=\"1\" class=\"dataframe\">\n",
       "  <thead>\n",
       "    <tr style=\"text-align: right;\">\n",
       "      <th></th>\n",
       "      <th>source</th>\n",
       "      <th>cpm</th>\n",
       "    </tr>\n",
       "  </thead>\n",
       "  <tbody>\n",
       "    <tr>\n",
       "      <th>0</th>\n",
       "      <td>facebook_ads</td>\n",
       "      <td>81.93</td>\n",
       "    </tr>\n",
       "    <tr>\n",
       "      <th>1</th>\n",
       "      <td>instagram_new_adverts</td>\n",
       "      <td>67.94</td>\n",
       "    </tr>\n",
       "    <tr>\n",
       "      <th>2</th>\n",
       "      <td>yandex_direct</td>\n",
       "      <td>49.59</td>\n",
       "    </tr>\n",
       "    <tr>\n",
       "      <th>3</th>\n",
       "      <td>youtube_channel_reklama</td>\n",
       "      <td>42.76</td>\n",
       "    </tr>\n",
       "  </tbody>\n",
       "</table>\n",
       "</div>"
      ],
      "text/plain": [
       "                    source   cpm\n",
       "0             facebook_ads 81.93\n",
       "1    instagram_new_adverts 67.94\n",
       "2            yandex_direct 49.59\n",
       "3  youtube_channel_reklama 42.76"
      ]
     },
     "execution_count": 38,
     "metadata": {},
     "output_type": "execute_result"
    }
   ],
   "source": [
    "# общие затраты с 4 по 10 мая\n",
    "total_costs = costs.groupby('source')['cost'].sum() \n",
    "\n",
    "# всего построек на первом уровне для игроков, привлечённых 4-10 мая\n",
    "total_buildings = profiles.groupby('source')['buildings'].sum()\n",
    "\n",
    "cpm = (total_costs.div(total_buildings) * 1000).reset_index().rename(columns={0:'cpm'})\n",
    "cpm"
   ]
  },
  {
   "cell_type": "code",
   "execution_count": 39,
   "metadata": {},
   "outputs": [
    {
     "data": {
      "image/png": "[encoded data removed]",
      "text/plain": [
       "<Figure size 720x432 with 1 Axes>"
      ]
     },
     "metadata": {},
     "output_type": "display_data"
    }
   ],
   "source": [
    "sns.set_theme(style=\"darkgrid\")\n",
    "\n",
    "plt.figure(figsize=(10, 6))\n",
    "\n",
    "ax = sns.barplot(\n",
    "    x=\"source\", \n",
    "    y=\"cpm\", \n",
    "    data=cpm,\n",
    "    palette=current_palette)\n",
    "\n",
    "ax.set_title('Target CPM by source',fontsize=18)\n",
    "\n",
    "for i, v in enumerate(round(cpm['cpm'],2)):\n",
    "    ax.text(i, v/6*5, str(v), ha='center', color='white')\n",
    "plt.show();"
   ]
  },
  {
   "cell_type": "markdown",
   "metadata": {},
   "source": [
    "CPM в 40-80 долларов выглядит нереалистично. По информации из [открытых источников](https://www.businessofapps.com/ads/research/mobile-app-advertising-cpm-rates/) даже на рынках Северной Америки и Японии СРМ не превышает 10-15 долларов. Чтобы выйти на окупаемость, нужно показывать игрокам больше рекламы. \n",
    "\n",
    "Имеющихся данных недостаточно, чтобы предложить конкретные \"точки\" показа рекламы, но можно рассчитать, сколько раз в день пользователи должны смотреть рекламу, чтобы отбить затраты на их привлечение. Для этого разделим затраты на потенциальную выручку с продажи одного объявления и на количество дней, которые пользователи из этого канала заходили в игру."
   ]
  },
  {
   "cell_type": "code",
   "execution_count": 40,
   "metadata": {},
   "outputs": [
    {
     "data": {
      "image/png": "[encoded data removed]",
      "text/plain": [
       "<Figure size 720x432 with 1 Axes>"
      ]
     },
     "metadata": {},
     "output_type": "display_data"
    }
   ],
   "source": [
    "ads_daily = (round(costs.groupby('source')['cost'].sum().div(profiles.groupby('source')['days_active'].sum() * 10 / 1000))\n",
    "             .reset_index()\n",
    "             .rename(columns={0:'Ads per player per day'}))\n",
    "\n",
    "plt.figure(figsize=(10, 6))\n",
    "\n",
    "ax = sns.barplot(\n",
    "    x=\"source\", \n",
    "    y=\"Ads per player per day\", \n",
    "    data=ads_daily,\n",
    "    palette=current_palette)\n",
    "\n",
    "ax.set_title('How many ads per day to reach 100% ROMI',fontsize=18)\n",
    "\n",
    "for i, v in enumerate(ads_daily['Ads per player per day']):\n",
    "    ax.text(i, v/6*5, str(round(v)), ha='center', color='white')\n",
    "plt.show();"
   ]
  },
  {
   "cell_type": "markdown",
   "metadata": {},
   "source": [
    "Даже для каналов с низкой стоимостью привлечения (Яндекс и YouTube) для окупаемости нужно показывать рекламу 6-7 раз в день. Чтобы реклама не вызывала раздражения у игроков, можно предложить им внутриигровой бонус за её просмотр (например, ускорение времени постройки или исследования, дополнительные попытки в сражениях). Дополнительные точки для размещения рекламы можно поискать в механике сражений."
   ]
  },
  {
   "cell_type": "markdown",
   "metadata": {},
   "source": [
    "## Проверка гипотез\n",
    "### Различается ли время прохождения уровня между игроками разных типов\n",
    "Посмотрим, какая стратегия более выгодна игрокам, то есть позволяет быстрее проходить уровни. Если у одной из стратегий (исследование или победа в сражении) есть значительное преимущество, то игра в целом будет более привлекательна для игроков этого типа.\n",
    "\n",
    "Для \"исследователей\" среднее время до перехода на второй уровень:"
   ]
  },
  {
   "cell_type": "code",
   "execution_count": 41,
   "metadata": {},
   "outputs": [
    {
     "data": {
      "text/plain": [
       "'13 дней'"
      ]
     },
     "execution_count": 41,
     "metadata": {},
     "output_type": "execute_result"
    }
   ],
   "source": [
    "f\"{round(profiles.loc[(profiles['player_type']=='researcher')&(profiles['leveled_up']==True), 'levelup_time'].mean())} дней\""
   ]
  },
  {
   "cell_type": "markdown",
   "metadata": {},
   "source": [
    "Для \"воинов\" это будет:"
   ]
  },
  {
   "cell_type": "code",
   "execution_count": 42,
   "metadata": {},
   "outputs": [
    {
     "data": {
      "text/plain": [
       "'11 дней'"
      ]
     },
     "execution_count": 42,
     "metadata": {},
     "output_type": "execute_result"
    }
   ],
   "source": [
    "f\"{round(profiles.loc[(profiles['player_type']=='warrior')&(profiles['leveled_up']==True), 'levelup_time'].mean())} дней\""
   ]
  },
  {
   "cell_type": "markdown",
   "metadata": {},
   "source": [
    "Два дня разницы. Трудно сказать значимо это различие или нет, нужна дополнительная проверка с помощью статистических методов.\n",
    "\n",
    "Сформулируем нулевую и альтернативную гипотезы и зададим пороговое значение *alpha*:\n",
    "```\n",
    "H_0: Среднее время, требующееся для перехода на второй уровень (levelup_time) для игроков типа researcher = Среднее время, требующееся для перехода на второй уровень (levelup_time) для игроков типа warrior`\n",
    "H_a: Среднее время, требующееся для перехода на второй уровень (levelup_time) для игроков типа researcher ≠ Среднее время, требующееся для перехода на второй уровень (levelup_time) для игроков типа warrior`\n",
    "alpha = 0.05\n",
    "```"
   ]
  },
  {
   "cell_type": "markdown",
   "metadata": {},
   "source": [
    "*Нулевая гипотеза* выражает предположение, что различия между средними значениями двух совокупностей имеют случайный характер. *Альтернативная гипотеза* предполагает, что между средними значениями двух совокупностей есть достоверные различия.\n",
    "\n",
    "Чтобы определиться с критерием для тестирования гипотез, посмотрим, как распределяются значения в выборках:"
   ]
  },
  {
   "cell_type": "code",
   "execution_count": 43,
   "metadata": {},
   "outputs": [
    {
     "data": {
      "image/png": "[encoded data removed]",
      "text/plain": [
       "<Figure size 432x288 with 1 Axes>"
      ]
     },
     "metadata": {},
     "output_type": "display_data"
    }
   ],
   "source": [
    "# распределение значений для \"исследователей\"\n",
    "profiles.loc[profiles['player_type']=='researcher', 'levelup_time'].hist();"
   ]
  },
  {
   "cell_type": "code",
   "execution_count": 44,
   "metadata": {},
   "outputs": [
    {
     "data": {
      "image/png": "[encoded data removed]",
      "text/plain": [
       "<Figure size 432x288 with 1 Axes>"
      ]
     },
     "metadata": {},
     "output_type": "display_data"
    }
   ],
   "source": [
    "# распределение значений для \"воинов\"\n",
    "profiles.loc[profiles['player_type']=='warrior', 'levelup_time'].hist();"
   ]
  },
  {
   "cell_type": "markdown",
   "metadata": {},
   "source": [
    "Распределение данных \"исследователей\" явно скошено вправо, у \"воинов\" распределение тоже не совсем нормальное. Выборки при этом независимые (время, за которое один игрок достигает второго уровня, не зависит от того, за какое время это сделает другой игрок). Для проверки гипотез используем u-критерий Манна-Уитни."
   ]
  },
  {
   "cell_type": "code",
   "execution_count": 45,
   "metadata": {},
   "outputs": [
    {
     "name": "stdout",
     "output_type": "stream",
     "text": [
      "p-значение:  4.7866103584542195e-105\n",
      "Отвергаем нулевую гипотезу: разница статистически значима\n"
     ]
    }
   ],
   "source": [
    "researchers = profiles.loc[profiles['player_type']=='researcher', 'levelup_time'].astype('int')\n",
    "warriors = profiles.loc[profiles['player_type']=='warrior', 'levelup_time'].astype('int')\n",
    "\n",
    "alpha = 0.05  # критический уровень статистической значимости\n",
    "\n",
    "results = st.mannwhitneyu(researchers, warriors)\n",
    "\n",
    "print('p-значение: ', results.pvalue)\n",
    "\n",
    "if results.pvalue < alpha:\n",
    "    print('Отвергаем нулевую гипотезу: разница статистически значима')\n",
    "else:\n",
    "    print(\n",
    "        'Не получилось отвергнуть нулевую гипотезу, вывод о различии сделать нельзя'\n",
    "    ) "
   ]
  },
  {
   "cell_type": "markdown",
   "metadata": {},
   "source": [
    "\"Исследователи\" действительно в среднем дольше идут до второго уровня."
   ]
  },
  {
   "cell_type": "markdown",
   "metadata": {},
   "source": [
    "### Различается ли количество построенных зданий в первый день игры для удержанных и потерянных пользователей\n",
    "\n",
    "Сначала добавим в датафрейм `profiles` зданий построил каждый пользователь в первый день."
   ]
  },
  {
   "cell_type": "code",
   "execution_count": 46,
   "metadata": {},
   "outputs": [
    {
     "name": "stdout",
     "output_type": "stream",
     "text": [
      "<class 'pandas.core.frame.DataFrame'>\n",
      "Int64Index: 135639 entries, 0 to 135639\n",
      "Data columns (total 6 columns):\n",
      " #   Column          Non-Null Count   Dtype         \n",
      "---  ------          --------------   -----         \n",
      " 0   event_datetime  135639 non-null  datetime64[ns]\n",
      " 1   event           135639 non-null  category      \n",
      " 2   building_type   127956 non-null  category      \n",
      " 3   user_id         135639 non-null  object        \n",
      " 4   event_day       135639 non-null  datetime64[ns]\n",
      " 5   event_dt        135639 non-null  int64         \n",
      "dtypes: category(2), datetime64[ns](2), int64(1), object(1)\n",
      "memory usage: 5.4+ MB\n"
     ]
    }
   ],
   "source": [
    "actions.info()"
   ]
  },
  {
   "cell_type": "code",
   "execution_count": 47,
   "metadata": {},
   "outputs": [
    {
     "data": {
      "text/html": [
       "<div>\n",
       "<style scoped>\n",
       "    .dataframe tbody tr th:only-of-type {\n",
       "        vertical-align: middle;\n",
       "    }\n",
       "\n",
       "    .dataframe tbody tr th {\n",
       "        vertical-align: top;\n",
       "    }\n",
       "\n",
       "    .dataframe thead th {\n",
       "        text-align: right;\n",
       "    }\n",
       "</style>\n",
       "<table border=\"1\" class=\"dataframe\">\n",
       "  <thead>\n",
       "    <tr style=\"text-align: right;\">\n",
       "      <th></th>\n",
       "      <th>user_id</th>\n",
       "      <th>dt</th>\n",
       "      <th>buildings_daily</th>\n",
       "    </tr>\n",
       "  </thead>\n",
       "  <tbody>\n",
       "    <tr>\n",
       "      <th>0</th>\n",
       "      <td>0001f83c-c6ac-4621-b7f0-8a28b283ac30</td>\n",
       "      <td>2020-05-06</td>\n",
       "      <td>3</td>\n",
       "    </tr>\n",
       "    <tr>\n",
       "      <th>1</th>\n",
       "      <td>0001f83c-c6ac-4621-b7f0-8a28b283ac30</td>\n",
       "      <td>2020-05-09</td>\n",
       "      <td>3</td>\n",
       "    </tr>\n",
       "    <tr>\n",
       "      <th>2</th>\n",
       "      <td>0001f83c-c6ac-4621-b7f0-8a28b283ac30</td>\n",
       "      <td>2020-05-11</td>\n",
       "      <td>1</td>\n",
       "    </tr>\n",
       "    <tr>\n",
       "      <th>3</th>\n",
       "      <td>0001f83c-c6ac-4621-b7f0-8a28b283ac30</td>\n",
       "      <td>2020-05-12</td>\n",
       "      <td>2</td>\n",
       "    </tr>\n",
       "    <tr>\n",
       "      <th>4</th>\n",
       "      <td>0001f83c-c6ac-4621-b7f0-8a28b283ac30</td>\n",
       "      <td>2020-05-14</td>\n",
       "      <td>1</td>\n",
       "    </tr>\n",
       "  </tbody>\n",
       "</table>\n",
       "</div>"
      ],
      "text/plain": [
       "                                user_id         dt  buildings_daily\n",
       "0  0001f83c-c6ac-4621-b7f0-8a28b283ac30 2020-05-06                3\n",
       "1  0001f83c-c6ac-4621-b7f0-8a28b283ac30 2020-05-09                3\n",
       "2  0001f83c-c6ac-4621-b7f0-8a28b283ac30 2020-05-11                1\n",
       "3  0001f83c-c6ac-4621-b7f0-8a28b283ac30 2020-05-12                2\n",
       "4  0001f83c-c6ac-4621-b7f0-8a28b283ac30 2020-05-14                1"
      ]
     },
     "execution_count": 47,
     "metadata": {},
     "output_type": "execute_result"
    }
   ],
   "source": [
    "# рассчитаем сколько построек было у каждого игрока в каждый день активности\n",
    "buildings = (actions.loc[actions['event']=='building']\n",
    "             .sort_values(['user_id','event_datetime'])\n",
    "             .groupby(['user_id','event_day'])['event']\n",
    "             .count()\n",
    "             .reset_index().rename(columns={'event':'buildings_daily', 'event_day':'dt'}))\n",
    "buildings['dt'] = buildings['dt'].astype('datetime64[ns]')\n",
    "buildings.head()"
   ]
  },
  {
   "cell_type": "code",
   "execution_count": 48,
   "metadata": {},
   "outputs": [
    {
     "data": {
      "text/html": [
       "<div>\n",
       "<style scoped>\n",
       "    .dataframe tbody tr th:only-of-type {\n",
       "        vertical-align: middle;\n",
       "    }\n",
       "\n",
       "    .dataframe tbody tr th {\n",
       "        vertical-align: top;\n",
       "    }\n",
       "\n",
       "    .dataframe thead th {\n",
       "        text-align: right;\n",
       "    }\n",
       "</style>\n",
       "<table border=\"1\" class=\"dataframe\">\n",
       "  <thead>\n",
       "    <tr style=\"text-align: right;\">\n",
       "      <th></th>\n",
       "      <th>user_id</th>\n",
       "      <th>first_ts</th>\n",
       "      <th>days_active</th>\n",
       "      <th>buildings</th>\n",
       "      <th>dt</th>\n",
       "      <th>leveled_up</th>\n",
       "      <th>player_type</th>\n",
       "      <th>levelup_ts</th>\n",
       "      <th>levelup_time</th>\n",
       "      <th>source</th>\n",
       "      <th>acquisition_cost</th>\n",
       "      <th>buildings_daily</th>\n",
       "    </tr>\n",
       "  </thead>\n",
       "  <tbody>\n",
       "    <tr>\n",
       "      <th>0</th>\n",
       "      <td>0001f83c-c6ac-4621-b7f0-8a28b283ac30</td>\n",
       "      <td>2020-05-06 01:07:37</td>\n",
       "      <td>8</td>\n",
       "      <td>13</td>\n",
       "      <td>2020-05-06</td>\n",
       "      <td>False</td>\n",
       "      <td>NaN</td>\n",
       "      <td>NaT</td>\n",
       "      <td>NaT</td>\n",
       "      <td>facebook_ads</td>\n",
       "      <td>0.75</td>\n",
       "      <td>3</td>\n",
       "    </tr>\n",
       "    <tr>\n",
       "      <th>1</th>\n",
       "      <td>00151b4f-ba38-44a8-a650-d7cf130a0105</td>\n",
       "      <td>2020-05-06 03:09:12</td>\n",
       "      <td>6</td>\n",
       "      <td>9</td>\n",
       "      <td>2020-05-06</td>\n",
       "      <td>False</td>\n",
       "      <td>NaN</td>\n",
       "      <td>NaT</td>\n",
       "      <td>NaT</td>\n",
       "      <td>yandex_direct</td>\n",
       "      <td>0.46</td>\n",
       "      <td>2</td>\n",
       "    </tr>\n",
       "    <tr>\n",
       "      <th>2</th>\n",
       "      <td>001aaea6-3d14-43f1-8ca8-7f48820f17aa</td>\n",
       "      <td>2020-05-05 18:08:52</td>\n",
       "      <td>3</td>\n",
       "      <td>4</td>\n",
       "      <td>2020-05-05</td>\n",
       "      <td>False</td>\n",
       "      <td>NaN</td>\n",
       "      <td>NaT</td>\n",
       "      <td>NaT</td>\n",
       "      <td>youtube_channel_reklama</td>\n",
       "      <td>0.39</td>\n",
       "      <td>2</td>\n",
       "    </tr>\n",
       "    <tr>\n",
       "      <th>3</th>\n",
       "      <td>001d39dc-366c-4021-9604-6a3b9ff01e25</td>\n",
       "      <td>2020-05-05 21:02:05</td>\n",
       "      <td>6</td>\n",
       "      <td>8</td>\n",
       "      <td>2020-05-05</td>\n",
       "      <td>True</td>\n",
       "      <td>warrior</td>\n",
       "      <td>2020-05-12 07:40:47</td>\n",
       "      <td>7.00</td>\n",
       "      <td>instagram_new_adverts</td>\n",
       "      <td>0.63</td>\n",
       "      <td>1</td>\n",
       "    </tr>\n",
       "    <tr>\n",
       "      <th>4</th>\n",
       "      <td>002f508f-67b6-479f-814b-b05f00d4e995</td>\n",
       "      <td>2020-05-05 13:49:58</td>\n",
       "      <td>9</td>\n",
       "      <td>12</td>\n",
       "      <td>2020-05-05</td>\n",
       "      <td>False</td>\n",
       "      <td>NaN</td>\n",
       "      <td>NaT</td>\n",
       "      <td>NaT</td>\n",
       "      <td>facebook_ads</td>\n",
       "      <td>0.79</td>\n",
       "      <td>1</td>\n",
       "    </tr>\n",
       "  </tbody>\n",
       "</table>\n",
       "</div>"
      ],
      "text/plain": [
       "                                user_id            first_ts  days_active  \\\n",
       "0  0001f83c-c6ac-4621-b7f0-8a28b283ac30 2020-05-06 01:07:37            8   \n",
       "1  00151b4f-ba38-44a8-a650-d7cf130a0105 2020-05-06 03:09:12            6   \n",
       "2  001aaea6-3d14-43f1-8ca8-7f48820f17aa 2020-05-05 18:08:52            3   \n",
       "3  001d39dc-366c-4021-9604-6a3b9ff01e25 2020-05-05 21:02:05            6   \n",
       "4  002f508f-67b6-479f-814b-b05f00d4e995 2020-05-05 13:49:58            9   \n",
       "\n",
       "   buildings         dt  leveled_up player_type          levelup_ts  \\\n",
       "0         13 2020-05-06       False         NaN                 NaT   \n",
       "1          9 2020-05-06       False         NaN                 NaT   \n",
       "2          4 2020-05-05       False         NaN                 NaT   \n",
       "3          8 2020-05-05        True     warrior 2020-05-12 07:40:47   \n",
       "4         12 2020-05-05       False         NaN                 NaT   \n",
       "\n",
       "  levelup_time                   source  acquisition_cost  buildings_daily  \n",
       "0          NaT             facebook_ads              0.75                3  \n",
       "1          NaT            yandex_direct              0.46                2  \n",
       "2          NaT  youtube_channel_reklama              0.39                2  \n",
       "3         7.00    instagram_new_adverts              0.63                1  \n",
       "4          NaT             facebook_ads              0.79                1  "
      ]
     },
     "execution_count": 48,
     "metadata": {},
     "output_type": "execute_result"
    }
   ],
   "source": [
    "# теперь подтянем количество построек только для первого дня в profiles\n",
    "profiles = profiles.merge(buildings, on=['user_id','dt'], how='left')\n",
    "profiles.head()"
   ]
  },
  {
   "cell_type": "markdown",
   "metadata": {},
   "source": [
    "Теперь можно посчитать среднее количество построек в первый день для тех, кто дошёл до второго уровня, и тех, кто забросил игру."
   ]
  },
  {
   "cell_type": "code",
   "execution_count": 49,
   "metadata": {},
   "outputs": [
    {
     "data": {
      "text/plain": [
       "'1.42 - для игроков, перешедших на второй уровень'"
      ]
     },
     "execution_count": 49,
     "metadata": {},
     "output_type": "execute_result"
    }
   ],
   "source": [
    "f\"{round(profiles.loc[profiles['leveled_up']==True, 'buildings_daily'].mean(), 2)} - для игроков, перешедших на второй уровень\""
   ]
  },
  {
   "cell_type": "code",
   "execution_count": 50,
   "metadata": {},
   "outputs": [
    {
     "data": {
      "text/plain": [
       "'1.36 - для игроков, забросивших игру'"
      ]
     },
     "execution_count": 50,
     "metadata": {},
     "output_type": "execute_result"
    }
   ],
   "source": [
    "f\"{round(profiles.loc[profiles['leveled_up']==False, 'buildings_daily'].mean(), 2)} - для игроков, забросивших игру\""
   ]
  },
  {
   "cell_type": "markdown",
   "metadata": {},
   "source": [
    "Разница в 0,06 здания вроде и небольшая, но вдруг этот показатель в будущем поможет разработчикам прогнозировать поведение игроков на раннем этапе? Для этого нужно проверить значимость этой разницы.\n",
    "\n",
    "Сформулируем нулевую и альтернативную гипотезы и зададим пороговое значение *alpha*:\n",
    "```\n",
    "H_0: Среднее количество зданий (buildings_daily), построенных игроками, оставшимися в игре (leveled_up==True), в первый день игры = Среднее количество зданий (buildings_daily), построенных игроками, забросившими игру (leveled_up==False), в первый день игры`\n",
    "H_a: Среднее количество зданий (buildings_daily), построенных игроками, оставшимися в игре (leveled_up==True), в первый день игры ≠ Среднее количество зданий (buildings_daily), построенных игроками, забросившими игру (leveled_up==False), в первый день игры`\n",
    "alpha = 0.05\n",
    "```\n",
    "\n",
    "Теперь посмотрим, как распределяются значения в выборках:"
   ]
  },
  {
   "cell_type": "code",
   "execution_count": 51,
   "metadata": {},
   "outputs": [
    {
     "data": {
      "image/png": "[encoded data removed]",
      "text/plain": [
       "<Figure size 432x288 with 1 Axes>"
      ]
     },
     "metadata": {},
     "output_type": "display_data"
    }
   ],
   "source": [
    "retained = profiles.loc[profiles['leveled_up']==True, 'buildings_daily']\n",
    "retained.hist();"
   ]
  },
  {
   "cell_type": "code",
   "execution_count": 52,
   "metadata": {},
   "outputs": [
    {
     "data": {
      "image/png": "[encoded data removed]",
      "text/plain": [
       "<Figure size 432x288 with 1 Axes>"
      ]
     },
     "metadata": {},
     "output_type": "display_data"
    }
   ],
   "source": [
    "lost = profiles.loc[profiles['leveled_up']==False, 'buildings_daily']\n",
    "lost.hist();"
   ]
  },
  {
   "cell_type": "markdown",
   "metadata": {},
   "source": [
    "В обеих выборках данные распределены ненормально, при этом выборки независимые. Для проверки гипотез используем u-критерий Манна-Уитни."
   ]
  },
  {
   "cell_type": "code",
   "execution_count": 53,
   "metadata": {},
   "outputs": [
    {
     "name": "stdout",
     "output_type": "stream",
     "text": [
      "p-значение:  2.7958787371801503e-08\n",
      "Отвергаем нулевую гипотезу: разница статистически значима\n"
     ]
    }
   ],
   "source": [
    "alpha = 0.05  # критический уровень статистической значимости\n",
    "\n",
    "results = st.mannwhitneyu(retained, lost)\n",
    "\n",
    "print('p-значение: ', results.pvalue)\n",
    "\n",
    "if results.pvalue < alpha:\n",
    "    print('Отвергаем нулевую гипотезу: разница статистически значима')\n",
    "else:\n",
    "    print(\n",
    "        'Не получилось отвергнуть нулевую гипотезу, вывод о различии сделать нельзя'\n",
    "    ) "
   ]
  },
  {
   "cell_type": "markdown",
   "metadata": {},
   "source": [
    "Получается, что по количеству построек в первый день игры можно заранее предположить, продолжит пользователь играть или нет."
   ]
  },
  {
   "cell_type": "markdown",
   "metadata": {},
   "source": [
    "## Выводы и рекомендации\n",
    "Вот что можно сказать о поведении пользователей и затратах на их привлечение на основе данных пользователей, пришедших с 4 по 10 мая:\n",
    "- Больше всего пользователей пришло из Яндекс.Директ. \n",
    "- 43% игроков переходят на второй уровень. Это значение одинаково для всех каналов привлечения.\n",
    "- 68% игроков переходят на второй уровень с помощью победы над другим игроком, 32% - с помощью завершения проекта.\n",
    "- \"Воины\" в среднем переходят на второй уровень за 11 дней, а \"исследователи\" - за 13 дней.\n",
    "- На первом уровне \"исследователи\" строят в среднем 12,65 построек, а \"воины\" - 9,41.\n",
    "- Игрок, построивший за первый день игры больше одной постройки, с большей вероятностью перейдёт на второй уровень, чем игрок, построивший в первый день игры только одну постройку.\n",
    "- От источника привлечения количество построек не зависит.\n",
    "- Самые \"дорогие\" клиенты приходят из Фейсбука (САС 0,79) и Инстаграма, самые \"дешёвые\" - из YouTube (САС 0,40), при этом пользователей из этих каналов приходит поровну.\n",
    "\n",
    "**Модель монетизации:**\n",
    "\n",
    "С предложенной моделью монетизации (показывать рекламу на странице выбора постройки) приложению, чтобы выйти на окупаемость маркетинговых затрат на первом уровне игроков, нужно зарабатывать от 43 до 82 долларов за тысячу просмотров рекламы в зависимости от канала привлечения. Такие расценки выглядят нереалистичными. \n",
    "\n",
    "**Рекомендации:**\n",
    "\n",
    "1. Оптимизировать расходы на привлечение пользователей: \n",
    "    - снизить количество рекламы в Фейсбуке и Инстаграме, \n",
    "    - увеличить количество рекламы в Яндекс.Директ и YouTube;\n",
    "2. Пересмотреть модель монетизации:\n",
    "    - Найти дополнительные точки размещения рекламы в механике сражений,\n",
    "    - Исходить из того, что каждый игрок должен увидеть рекламу не менее 6-7 раз в день,\n",
    "    - Чтобы реклама не вызывала раздражения у игроков, можно предложить им внутриигровой бонус за её просмотр (например, ускорение времени постройки или исследования, дополнительные попытки в сражениях)."
   ]
  }
 ],
 "metadata": {
  "ExecuteTimeLog": [
   {
    "duration": 482,
    "start_time": "2023-08-31T10:49:18.699Z"
   },
   {
    "duration": 3775,
    "start_time": "2023-08-31T10:49:31.809Z"
   },
   {
    "duration": 1207,
    "start_time": "2023-08-31T10:49:38.567Z"
   },
   {
    "duration": 565,
    "start_time": "2023-08-31T13:17:18.294Z"
   },
   {
    "duration": 14,
    "start_time": "2023-08-31T13:29:45.532Z"
   },
   {
    "duration": 80,
    "start_time": "2023-08-31T13:30:01.213Z"
   },
   {
    "duration": 49,
    "start_time": "2023-08-31T13:30:12.849Z"
   },
   {
    "duration": 74,
    "start_time": "2023-08-31T13:30:21.545Z"
   },
   {
    "duration": 79,
    "start_time": "2023-08-31T13:30:46.437Z"
   },
   {
    "duration": 90,
    "start_time": "2023-08-31T13:31:32.446Z"
   },
   {
    "duration": 9,
    "start_time": "2023-08-31T13:32:10.245Z"
   },
   {
    "duration": 16,
    "start_time": "2023-08-31T13:32:32.348Z"
   },
   {
    "duration": 52,
    "start_time": "2023-08-31T13:38:24.204Z"
   },
   {
    "duration": 126,
    "start_time": "2023-08-31T13:38:32.469Z"
   },
   {
    "duration": 1033,
    "start_time": "2023-08-31T13:40:48.830Z"
   },
   {
    "duration": 738,
    "start_time": "2023-08-31T13:41:49.302Z"
   },
   {
    "duration": 946,
    "start_time": "2023-08-31T13:42:32.677Z"
   },
   {
    "duration": 1000,
    "start_time": "2023-08-31T13:42:47.261Z"
   },
   {
    "duration": 858,
    "start_time": "2023-08-31T13:43:17.494Z"
   },
   {
    "duration": 802,
    "start_time": "2023-08-31T13:43:27.702Z"
   },
   {
    "duration": 11,
    "start_time": "2023-08-31T13:43:47.213Z"
   },
   {
    "duration": 737,
    "start_time": "2023-08-31T13:44:16.376Z"
   },
   {
    "duration": 11,
    "start_time": "2023-08-31T13:51:55.725Z"
   },
   {
    "duration": 12,
    "start_time": "2023-08-31T13:54:14.119Z"
   },
   {
    "duration": 13,
    "start_time": "2023-08-31T13:54:24.884Z"
   },
   {
    "duration": 22,
    "start_time": "2023-08-31T13:54:55.917Z"
   },
   {
    "duration": 34,
    "start_time": "2023-08-31T14:00:07.553Z"
   },
   {
    "duration": 14,
    "start_time": "2023-08-31T14:00:24.805Z"
   },
   {
    "duration": 12,
    "start_time": "2023-08-31T14:02:29.619Z"
   },
   {
    "duration": 39,
    "start_time": "2023-08-31T14:09:10.004Z"
   },
   {
    "duration": 8,
    "start_time": "2023-08-31T14:16:05.687Z"
   },
   {
    "duration": 10,
    "start_time": "2023-08-31T14:35:23.880Z"
   },
   {
    "duration": 100,
    "start_time": "2023-08-31T14:37:26.430Z"
   },
   {
    "duration": 41,
    "start_time": "2023-08-31T14:54:49.428Z"
   },
   {
    "duration": 48,
    "start_time": "2023-09-03T11:19:09.974Z"
   },
   {
    "duration": 3081,
    "start_time": "2023-09-03T11:19:17.015Z"
   },
   {
    "duration": 1440,
    "start_time": "2023-09-03T11:19:20.098Z"
   },
   {
    "duration": 741,
    "start_time": "2023-09-03T11:19:21.540Z"
   },
   {
    "duration": 117,
    "start_time": "2023-09-03T11:19:22.284Z"
   },
   {
    "duration": 18,
    "start_time": "2023-09-03T11:19:25.976Z"
   },
   {
    "duration": 21,
    "start_time": "2023-09-03T11:25:23.098Z"
   },
   {
    "duration": 16,
    "start_time": "2023-09-03T11:27:59.137Z"
   },
   {
    "duration": 7,
    "start_time": "2023-09-03T11:41:46.363Z"
   },
   {
    "duration": 2011,
    "start_time": "2023-09-03T11:42:00.497Z"
   },
   {
    "duration": 3,
    "start_time": "2023-09-03T11:42:02.511Z"
   },
   {
    "duration": 616,
    "start_time": "2023-09-03T11:42:02.516Z"
   },
   {
    "duration": 6,
    "start_time": "2023-09-03T11:42:03.133Z"
   },
   {
    "duration": 87,
    "start_time": "2023-09-03T11:42:03.141Z"
   },
   {
    "duration": 7,
    "start_time": "2023-09-03T11:42:03.230Z"
   },
   {
    "duration": 28,
    "start_time": "2023-09-03T11:42:03.238Z"
   },
   {
    "duration": 118,
    "start_time": "2023-09-03T11:42:03.267Z"
   },
   {
    "duration": 918,
    "start_time": "2023-09-03T11:42:03.386Z"
   },
   {
    "duration": 10,
    "start_time": "2023-09-03T11:42:04.306Z"
   },
   {
    "duration": 13,
    "start_time": "2023-09-03T11:42:04.317Z"
   },
   {
    "duration": 10,
    "start_time": "2023-09-03T11:42:04.332Z"
   },
   {
    "duration": 18,
    "start_time": "2023-09-03T11:42:04.356Z"
   },
   {
    "duration": 17,
    "start_time": "2023-09-03T11:42:04.377Z"
   },
   {
    "duration": 10,
    "start_time": "2023-09-03T11:42:04.395Z"
   },
   {
    "duration": 13,
    "start_time": "2023-09-03T11:42:04.406Z"
   },
   {
    "duration": 66,
    "start_time": "2023-09-03T11:42:04.421Z"
   },
   {
    "duration": 9,
    "start_time": "2023-09-03T11:42:04.489Z"
   },
   {
    "duration": 9,
    "start_time": "2023-09-03T11:42:04.500Z"
   },
   {
    "duration": 89,
    "start_time": "2023-09-03T11:42:04.511Z"
   },
   {
    "duration": 36,
    "start_time": "2023-09-03T11:42:04.602Z"
   },
   {
    "duration": 189,
    "start_time": "2023-09-03T11:42:04.640Z"
   },
   {
    "duration": 8,
    "start_time": "2023-09-03T11:44:44.538Z"
   },
   {
    "duration": 6,
    "start_time": "2023-09-03T11:49:29.609Z"
   },
   {
    "duration": 1455,
    "start_time": "2023-09-03T11:49:46.736Z"
   },
   {
    "duration": 111,
    "start_time": "2023-09-03T11:50:40.614Z"
   },
   {
    "duration": 112,
    "start_time": "2023-09-03T11:50:45.848Z"
   },
   {
    "duration": 108,
    "start_time": "2023-09-03T11:51:10.864Z"
   },
   {
    "duration": 1478,
    "start_time": "2023-09-03T11:51:42.992Z"
   },
   {
    "duration": 10,
    "start_time": "2023-09-03T11:52:15.311Z"
   },
   {
    "duration": 9,
    "start_time": "2023-09-03T11:52:30.830Z"
   },
   {
    "duration": 9,
    "start_time": "2023-09-03T11:52:48.678Z"
   },
   {
    "duration": 8,
    "start_time": "2023-09-03T11:53:01.574Z"
   },
   {
    "duration": 16,
    "start_time": "2023-09-03T11:53:48.589Z"
   },
   {
    "duration": 123,
    "start_time": "2023-09-03T11:53:57.022Z"
   },
   {
    "duration": 122,
    "start_time": "2023-09-03T11:54:20.661Z"
   },
   {
    "duration": 149,
    "start_time": "2023-09-03T11:54:38.942Z"
   },
   {
    "duration": 128,
    "start_time": "2023-09-03T11:55:41.734Z"
   },
   {
    "duration": 127,
    "start_time": "2023-09-03T11:56:33.238Z"
   },
   {
    "duration": 124,
    "start_time": "2023-09-03T11:59:17.221Z"
   },
   {
    "duration": 115,
    "start_time": "2023-09-03T11:59:49.324Z"
   },
   {
    "duration": 129,
    "start_time": "2023-09-03T12:04:18.146Z"
   },
   {
    "duration": 134,
    "start_time": "2023-09-03T12:04:33.274Z"
   },
   {
    "duration": 9,
    "start_time": "2023-09-03T12:05:46.905Z"
   },
   {
    "duration": 17,
    "start_time": "2023-09-03T12:05:51.945Z"
   },
   {
    "duration": 137,
    "start_time": "2023-09-03T12:07:17.257Z"
   },
   {
    "duration": 118,
    "start_time": "2023-09-03T12:11:41.695Z"
   },
   {
    "duration": 107,
    "start_time": "2023-09-03T12:15:27.214Z"
   },
   {
    "duration": 124,
    "start_time": "2023-09-03T12:15:55.463Z"
   },
   {
    "duration": 114,
    "start_time": "2023-09-03T12:16:57.341Z"
   },
   {
    "duration": 111,
    "start_time": "2023-09-03T12:17:06.636Z"
   },
   {
    "duration": 157,
    "start_time": "2023-09-03T12:17:30.005Z"
   },
   {
    "duration": 119,
    "start_time": "2023-09-03T12:17:40.069Z"
   },
   {
    "duration": 125,
    "start_time": "2023-09-03T12:17:43.405Z"
   },
   {
    "duration": 118,
    "start_time": "2023-09-03T12:17:55.525Z"
   },
   {
    "duration": 112,
    "start_time": "2023-09-03T12:18:29.741Z"
   },
   {
    "duration": 115,
    "start_time": "2023-09-03T12:18:53.748Z"
   },
   {
    "duration": 116,
    "start_time": "2023-09-03T12:19:03.948Z"
   },
   {
    "duration": 124,
    "start_time": "2023-09-03T12:19:23.275Z"
   },
   {
    "duration": 129,
    "start_time": "2023-09-03T12:19:38.118Z"
   },
   {
    "duration": 137,
    "start_time": "2023-09-03T12:20:01.708Z"
   },
   {
    "duration": 2010,
    "start_time": "2023-09-03T12:21:19.521Z"
   },
   {
    "duration": 3,
    "start_time": "2023-09-03T12:21:21.534Z"
   },
   {
    "duration": 675,
    "start_time": "2023-09-03T12:21:21.539Z"
   },
   {
    "duration": 6,
    "start_time": "2023-09-03T12:21:22.216Z"
   },
   {
    "duration": 110,
    "start_time": "2023-09-03T12:21:35.195Z"
   },
   {
    "duration": 1981,
    "start_time": "2023-09-03T12:22:19.541Z"
   },
   {
    "duration": 1154,
    "start_time": "2023-09-03T12:22:21.524Z"
   },
   {
    "duration": 475,
    "start_time": "2023-09-03T12:22:22.680Z"
   },
   {
    "duration": 6,
    "start_time": "2023-09-03T12:22:23.157Z"
   },
   {
    "duration": 155,
    "start_time": "2023-09-03T12:22:33.635Z"
   },
   {
    "duration": 338,
    "start_time": "2023-09-03T12:23:55.297Z"
   },
   {
    "duration": 251,
    "start_time": "2023-09-03T12:24:19.890Z"
   },
   {
    "duration": 1982,
    "start_time": "2023-09-03T12:24:41.928Z"
   },
   {
    "duration": 4,
    "start_time": "2023-09-03T12:24:43.913Z"
   },
   {
    "duration": 496,
    "start_time": "2023-09-03T12:24:43.918Z"
   },
   {
    "duration": 5,
    "start_time": "2023-09-03T12:24:44.417Z"
   },
   {
    "duration": 262,
    "start_time": "2023-09-03T12:24:44.424Z"
   },
   {
    "duration": 13,
    "start_time": "2023-09-03T12:24:44.688Z"
   },
   {
    "duration": 87,
    "start_time": "2023-09-03T12:24:44.703Z"
   },
   {
    "duration": 8,
    "start_time": "2023-09-03T12:24:44.792Z"
   },
   {
    "duration": 15,
    "start_time": "2023-09-03T12:24:44.802Z"
   },
   {
    "duration": 137,
    "start_time": "2023-09-03T12:24:44.819Z"
   },
   {
    "duration": 863,
    "start_time": "2023-09-03T12:24:44.958Z"
   },
   {
    "duration": 10,
    "start_time": "2023-09-03T12:24:45.823Z"
   },
   {
    "duration": 27,
    "start_time": "2023-09-03T12:24:45.835Z"
   },
   {
    "duration": 19,
    "start_time": "2023-09-03T12:24:45.866Z"
   },
   {
    "duration": 23,
    "start_time": "2023-09-03T12:24:45.887Z"
   },
   {
    "duration": 19,
    "start_time": "2023-09-03T12:24:45.912Z"
   },
   {
    "duration": 9,
    "start_time": "2023-09-03T12:24:45.932Z"
   },
   {
    "duration": 10,
    "start_time": "2023-09-03T12:24:45.956Z"
   },
   {
    "duration": 50,
    "start_time": "2023-09-03T12:24:45.968Z"
   },
   {
    "duration": 7,
    "start_time": "2023-09-03T12:24:46.020Z"
   },
   {
    "duration": 31,
    "start_time": "2023-09-03T12:24:46.028Z"
   },
   {
    "duration": 61,
    "start_time": "2023-09-03T12:24:46.061Z"
   },
   {
    "duration": 47,
    "start_time": "2023-09-03T12:24:46.124Z"
   },
   {
    "duration": 135,
    "start_time": "2023-09-03T12:24:46.173Z"
   },
   {
    "duration": 125,
    "start_time": "2023-09-03T12:25:02.610Z"
   },
   {
    "duration": 101,
    "start_time": "2023-09-03T12:25:11.595Z"
   },
   {
    "duration": 111,
    "start_time": "2023-09-03T12:25:25.690Z"
   },
   {
    "duration": 148,
    "start_time": "2023-09-03T12:26:10.251Z"
   },
   {
    "duration": 130,
    "start_time": "2023-09-03T12:26:17.106Z"
   },
   {
    "duration": 136,
    "start_time": "2023-09-03T12:26:35.281Z"
   },
   {
    "duration": 122,
    "start_time": "2023-09-03T12:26:45.426Z"
   },
   {
    "duration": 158,
    "start_time": "2023-09-03T12:27:46.465Z"
   },
   {
    "duration": 132,
    "start_time": "2023-09-03T12:28:27.729Z"
   },
   {
    "duration": 119,
    "start_time": "2023-09-03T12:28:44.001Z"
   },
   {
    "duration": 121,
    "start_time": "2023-09-03T12:30:01.185Z"
   },
   {
    "duration": 174,
    "start_time": "2023-09-03T12:32:27.959Z"
   },
   {
    "duration": 129,
    "start_time": "2023-09-03T12:32:46.743Z"
   },
   {
    "duration": 129,
    "start_time": "2023-09-03T12:33:06.975Z"
   },
   {
    "duration": 129,
    "start_time": "2023-09-03T12:34:10.294Z"
   },
   {
    "duration": 145,
    "start_time": "2023-09-03T12:35:42.758Z"
   },
   {
    "duration": 121,
    "start_time": "2023-09-03T12:36:10.262Z"
   },
   {
    "duration": 6,
    "start_time": "2023-09-03T12:36:32.805Z"
   },
   {
    "duration": 145,
    "start_time": "2023-09-03T12:36:39.326Z"
   },
   {
    "duration": 4,
    "start_time": "2023-09-03T13:01:20.549Z"
   },
   {
    "duration": 81,
    "start_time": "2023-09-03T13:03:29.780Z"
   },
   {
    "duration": 15,
    "start_time": "2023-09-03T13:05:21.484Z"
   },
   {
    "duration": 18,
    "start_time": "2023-09-03T13:06:38.732Z"
   },
   {
    "duration": 549,
    "start_time": "2023-09-03T13:08:22.332Z"
   },
   {
    "duration": 116,
    "start_time": "2023-09-03T13:11:32.554Z"
   },
   {
    "duration": 56,
    "start_time": "2023-09-03T13:11:39.603Z"
   },
   {
    "duration": 74,
    "start_time": "2023-09-03T13:15:33.618Z"
   },
   {
    "duration": 54,
    "start_time": "2023-09-03T13:15:55.026Z"
   },
   {
    "duration": 34,
    "start_time": "2023-09-03T13:22:58.815Z"
   },
   {
    "duration": 22,
    "start_time": "2023-09-03T13:24:04.696Z"
   },
   {
    "duration": 22,
    "start_time": "2023-09-03T13:24:20.854Z"
   },
   {
    "duration": 56,
    "start_time": "2023-09-03T13:25:05.276Z"
   },
   {
    "duration": 62,
    "start_time": "2023-09-03T13:25:35.024Z"
   },
   {
    "duration": 57,
    "start_time": "2023-09-03T13:40:20.771Z"
   },
   {
    "duration": 5,
    "start_time": "2023-09-03T13:43:23.201Z"
   },
   {
    "duration": 4,
    "start_time": "2023-09-03T13:45:44.649Z"
   },
   {
    "duration": 57,
    "start_time": "2023-09-03T13:45:58.513Z"
   },
   {
    "duration": 5,
    "start_time": "2023-09-03T13:48:50.065Z"
   },
   {
    "duration": 2048,
    "start_time": "2023-09-03T13:49:35.182Z"
   },
   {
    "duration": 5,
    "start_time": "2023-09-03T13:49:37.234Z"
   },
   {
    "duration": 600,
    "start_time": "2023-09-03T13:49:37.242Z"
   },
   {
    "duration": 6,
    "start_time": "2023-09-03T13:49:37.844Z"
   },
   {
    "duration": 10,
    "start_time": "2023-09-03T13:49:37.853Z"
   },
   {
    "duration": 89,
    "start_time": "2023-09-03T13:49:37.866Z"
   },
   {
    "duration": 13,
    "start_time": "2023-09-03T13:49:37.957Z"
   },
   {
    "duration": 49,
    "start_time": "2023-09-03T13:49:37.972Z"
   },
   {
    "duration": 145,
    "start_time": "2023-09-03T13:49:38.024Z"
   },
   {
    "duration": 986,
    "start_time": "2023-09-03T13:49:38.170Z"
   },
   {
    "duration": 17,
    "start_time": "2023-09-03T13:49:39.159Z"
   },
   {
    "duration": 15,
    "start_time": "2023-09-03T13:49:39.178Z"
   },
   {
    "duration": 15,
    "start_time": "2023-09-03T13:49:39.195Z"
   },
   {
    "duration": 46,
    "start_time": "2023-09-03T13:49:39.213Z"
   },
   {
    "duration": 18,
    "start_time": "2023-09-03T13:49:39.261Z"
   },
   {
    "duration": 10,
    "start_time": "2023-09-03T13:49:39.281Z"
   },
   {
    "duration": 16,
    "start_time": "2023-09-03T13:49:39.293Z"
   },
   {
    "duration": 64,
    "start_time": "2023-09-03T13:49:39.311Z"
   },
   {
    "duration": 8,
    "start_time": "2023-09-03T13:49:39.376Z"
   },
   {
    "duration": 13,
    "start_time": "2023-09-03T13:49:39.386Z"
   },
   {
    "duration": 75,
    "start_time": "2023-09-03T13:49:39.400Z"
   },
   {
    "duration": 36,
    "start_time": "2023-09-03T13:49:39.476Z"
   },
   {
    "duration": 167,
    "start_time": "2023-09-03T13:49:39.513Z"
   },
   {
    "duration": 75,
    "start_time": "2023-09-03T13:49:50.869Z"
   },
   {
    "duration": 76,
    "start_time": "2023-09-03T13:50:12.972Z"
   },
   {
    "duration": 3297,
    "start_time": "2023-09-04T10:49:31.265Z"
   },
   {
    "duration": 1491,
    "start_time": "2023-09-04T10:49:34.564Z"
   },
   {
    "duration": 924,
    "start_time": "2023-09-04T10:49:36.058Z"
   },
   {
    "duration": 6,
    "start_time": "2023-09-04T10:49:36.984Z"
   },
   {
    "duration": 16,
    "start_time": "2023-09-04T10:49:36.991Z"
   },
   {
    "duration": 104,
    "start_time": "2023-09-04T10:49:37.009Z"
   },
   {
    "duration": 9,
    "start_time": "2023-09-04T10:49:37.115Z"
   },
   {
    "duration": 35,
    "start_time": "2023-09-04T10:49:37.126Z"
   },
   {
    "duration": 123,
    "start_time": "2023-09-04T10:49:37.163Z"
   },
   {
    "duration": 948,
    "start_time": "2023-09-04T10:49:37.289Z"
   },
   {
    "duration": 13,
    "start_time": "2023-09-04T10:49:38.245Z"
   },
   {
    "duration": 20,
    "start_time": "2023-09-04T10:49:38.261Z"
   },
   {
    "duration": 23,
    "start_time": "2023-09-04T10:49:38.283Z"
   },
   {
    "duration": 27,
    "start_time": "2023-09-04T10:49:38.308Z"
   },
   {
    "duration": 27,
    "start_time": "2023-09-04T10:49:38.337Z"
   },
   {
    "duration": 9,
    "start_time": "2023-09-04T10:49:38.366Z"
   },
   {
    "duration": 11,
    "start_time": "2023-09-04T10:49:38.377Z"
   },
   {
    "duration": 40,
    "start_time": "2023-09-04T10:49:38.389Z"
   },
   {
    "duration": 13,
    "start_time": "2023-09-04T10:49:38.446Z"
   },
   {
    "duration": 8,
    "start_time": "2023-09-04T10:49:38.461Z"
   },
   {
    "duration": 56,
    "start_time": "2023-09-04T10:49:38.470Z"
   },
   {
    "duration": 42,
    "start_time": "2023-09-04T10:49:38.544Z"
   },
   {
    "duration": 140,
    "start_time": "2023-09-04T10:49:38.588Z"
   },
   {
    "duration": 500,
    "start_time": "2023-09-04T10:49:38.729Z"
   },
   {
    "duration": 121,
    "start_time": "2023-09-04T10:49:39.231Z"
   },
   {
    "duration": 9,
    "start_time": "2023-09-04T10:50:01.814Z"
   },
   {
    "duration": 13,
    "start_time": "2023-09-04T10:50:12.175Z"
   },
   {
    "duration": 14,
    "start_time": "2023-09-04T10:51:36.070Z"
   },
   {
    "duration": 2061,
    "start_time": "2023-09-04T10:53:19.215Z"
   },
   {
    "duration": 54,
    "start_time": "2023-09-04T10:53:29.163Z"
   },
   {
    "duration": 44,
    "start_time": "2023-09-04T10:54:29.784Z"
   },
   {
    "duration": 6,
    "start_time": "2023-09-04T10:54:55.263Z"
   },
   {
    "duration": 63,
    "start_time": "2023-09-04T10:55:01.191Z"
   },
   {
    "duration": 90,
    "start_time": "2023-09-04T10:55:10.311Z"
   },
   {
    "duration": 5,
    "start_time": "2023-09-04T10:55:27.670Z"
   },
   {
    "duration": 58,
    "start_time": "2023-09-04T10:55:33.761Z"
   },
   {
    "duration": 9,
    "start_time": "2023-09-04T10:55:53.851Z"
   },
   {
    "duration": 58,
    "start_time": "2023-09-04T10:55:59.136Z"
   },
   {
    "duration": 64,
    "start_time": "2023-09-04T10:56:08.199Z"
   },
   {
    "duration": 5,
    "start_time": "2023-09-04T10:56:17.686Z"
   },
   {
    "duration": 70,
    "start_time": "2023-09-04T10:56:23.591Z"
   },
   {
    "duration": 63,
    "start_time": "2023-09-04T10:56:30.935Z"
   },
   {
    "duration": 45,
    "start_time": "2023-09-04T10:56:40.957Z"
   },
   {
    "duration": 12,
    "start_time": "2023-09-04T14:46:52.887Z"
   },
   {
    "duration": 21,
    "start_time": "2023-09-04T14:48:26.096Z"
   },
   {
    "duration": 17,
    "start_time": "2023-09-04T14:50:42.403Z"
   },
   {
    "duration": 28,
    "start_time": "2023-09-04T14:52:44.995Z"
   },
   {
    "duration": 29,
    "start_time": "2023-09-04T14:53:05.194Z"
   },
   {
    "duration": 61,
    "start_time": "2023-09-04T14:55:56.551Z"
   },
   {
    "duration": 2416,
    "start_time": "2023-09-04T14:58:04.249Z"
   },
   {
    "duration": 4,
    "start_time": "2023-09-04T14:58:06.667Z"
   },
   {
    "duration": 728,
    "start_time": "2023-09-04T14:58:06.673Z"
   },
   {
    "duration": 6,
    "start_time": "2023-09-04T14:58:07.404Z"
   },
   {
    "duration": 10,
    "start_time": "2023-09-04T14:58:07.412Z"
   },
   {
    "duration": 87,
    "start_time": "2023-09-04T14:58:07.423Z"
   },
   {
    "duration": 7,
    "start_time": "2023-09-04T14:58:07.511Z"
   },
   {
    "duration": 32,
    "start_time": "2023-09-04T14:58:07.520Z"
   },
   {
    "duration": 130,
    "start_time": "2023-09-04T14:58:07.555Z"
   },
   {
    "duration": 926,
    "start_time": "2023-09-04T14:58:07.688Z"
   },
   {
    "duration": 11,
    "start_time": "2023-09-04T14:58:08.615Z"
   },
   {
    "duration": 25,
    "start_time": "2023-09-04T14:58:08.627Z"
   },
   {
    "duration": 16,
    "start_time": "2023-09-04T14:58:08.654Z"
   },
   {
    "duration": 23,
    "start_time": "2023-09-04T14:58:08.672Z"
   },
   {
    "duration": 18,
    "start_time": "2023-09-04T14:58:08.696Z"
   },
   {
    "duration": 15,
    "start_time": "2023-09-04T14:58:08.743Z"
   },
   {
    "duration": 26,
    "start_time": "2023-09-04T14:58:08.760Z"
   },
   {
    "duration": 69,
    "start_time": "2023-09-04T14:58:08.789Z"
   },
   {
    "duration": 12,
    "start_time": "2023-09-04T14:58:08.859Z"
   },
   {
    "duration": 13,
    "start_time": "2023-09-04T14:58:08.873Z"
   },
   {
    "duration": 99,
    "start_time": "2023-09-04T14:58:08.888Z"
   },
   {
    "duration": 45,
    "start_time": "2023-09-04T14:58:08.989Z"
   },
   {
    "duration": 216,
    "start_time": "2023-09-04T14:58:09.050Z"
   },
   {
    "duration": 98,
    "start_time": "2023-09-04T14:58:09.268Z"
   },
   {
    "duration": 62,
    "start_time": "2023-09-04T14:58:09.367Z"
   },
   {
    "duration": 65,
    "start_time": "2023-09-04T14:58:09.432Z"
   },
   {
    "duration": 4,
    "start_time": "2023-09-04T15:11:00.778Z"
   },
   {
    "duration": 4,
    "start_time": "2023-09-04T15:16:20.706Z"
   },
   {
    "duration": 57,
    "start_time": "2023-09-04T15:17:33.064Z"
   },
   {
    "duration": 5,
    "start_time": "2023-09-04T15:17:55.785Z"
   },
   {
    "duration": 57,
    "start_time": "2023-09-04T15:18:01.586Z"
   },
   {
    "duration": 89,
    "start_time": "2023-09-04T15:19:02.546Z"
   },
   {
    "duration": 4,
    "start_time": "2023-09-04T15:21:10.016Z"
   },
   {
    "duration": 47,
    "start_time": "2023-09-04T15:22:06.888Z"
   },
   {
    "duration": 2436,
    "start_time": "2023-09-04T15:26:47.372Z"
   },
   {
    "duration": 2427,
    "start_time": "2023-09-04T15:27:25.531Z"
   },
   {
    "duration": 8,
    "start_time": "2023-09-04T15:27:27.961Z"
   },
   {
    "duration": 694,
    "start_time": "2023-09-04T15:27:27.970Z"
   },
   {
    "duration": 9,
    "start_time": "2023-09-04T15:27:28.666Z"
   },
   {
    "duration": 7,
    "start_time": "2023-09-04T15:27:28.680Z"
   },
   {
    "duration": 10,
    "start_time": "2023-09-04T15:27:28.688Z"
   },
   {
    "duration": 88,
    "start_time": "2023-09-04T15:27:28.700Z"
   },
   {
    "duration": 7,
    "start_time": "2023-09-04T15:27:28.790Z"
   },
   {
    "duration": 16,
    "start_time": "2023-09-04T15:27:28.798Z"
   },
   {
    "duration": 138,
    "start_time": "2023-09-04T15:27:28.816Z"
   },
   {
    "duration": 953,
    "start_time": "2023-09-04T15:27:28.956Z"
   },
   {
    "duration": 11,
    "start_time": "2023-09-04T15:27:29.910Z"
   },
   {
    "duration": 26,
    "start_time": "2023-09-04T15:27:29.923Z"
   },
   {
    "duration": 20,
    "start_time": "2023-09-04T15:27:29.953Z"
   },
   {
    "duration": 21,
    "start_time": "2023-09-04T15:27:29.977Z"
   },
   {
    "duration": 19,
    "start_time": "2023-09-04T15:27:30.000Z"
   },
   {
    "duration": 46,
    "start_time": "2023-09-04T15:27:30.021Z"
   },
   {
    "duration": 82,
    "start_time": "2023-09-04T15:27:30.069Z"
   },
   {
    "duration": 60,
    "start_time": "2023-09-04T15:27:30.157Z"
   },
   {
    "duration": 25,
    "start_time": "2023-09-04T15:27:30.219Z"
   },
   {
    "duration": 39,
    "start_time": "2023-09-04T15:27:30.249Z"
   },
   {
    "duration": 108,
    "start_time": "2023-09-04T15:27:30.290Z"
   },
   {
    "duration": 46,
    "start_time": "2023-09-04T15:27:30.399Z"
   },
   {
    "duration": 194,
    "start_time": "2023-09-04T15:27:30.447Z"
   },
   {
    "duration": 73,
    "start_time": "2023-09-04T15:27:30.643Z"
   },
   {
    "duration": 83,
    "start_time": "2023-09-04T15:27:30.718Z"
   },
   {
    "duration": 63,
    "start_time": "2023-09-04T15:27:30.803Z"
   },
   {
    "duration": 2236,
    "start_time": "2023-09-04T15:27:30.872Z"
   },
   {
    "duration": 9,
    "start_time": "2023-09-04T15:29:45.189Z"
   },
   {
    "duration": 18,
    "start_time": "2023-09-04T15:29:49.778Z"
   },
   {
    "duration": 3028,
    "start_time": "2023-09-04T15:32:23.732Z"
   },
   {
    "duration": 18,
    "start_time": "2023-09-04T15:32:26.764Z"
   },
   {
    "duration": 824,
    "start_time": "2023-09-04T15:32:26.784Z"
   },
   {
    "duration": 8,
    "start_time": "2023-09-04T15:32:27.612Z"
   },
   {
    "duration": 40,
    "start_time": "2023-09-04T15:32:27.622Z"
   },
   {
    "duration": 11,
    "start_time": "2023-09-04T15:32:27.664Z"
   },
   {
    "duration": 127,
    "start_time": "2023-09-04T15:32:27.676Z"
   },
   {
    "duration": 8,
    "start_time": "2023-09-04T15:32:27.804Z"
   },
   {
    "duration": 19,
    "start_time": "2023-09-04T15:32:27.814Z"
   },
   {
    "duration": 185,
    "start_time": "2023-09-04T15:32:27.835Z"
   },
   {
    "duration": 1114,
    "start_time": "2023-09-04T15:32:28.023Z"
   },
   {
    "duration": 30,
    "start_time": "2023-09-04T15:32:29.139Z"
   },
   {
    "duration": 18,
    "start_time": "2023-09-04T15:32:29.173Z"
   },
   {
    "duration": 25,
    "start_time": "2023-09-04T15:32:29.196Z"
   },
   {
    "duration": 21,
    "start_time": "2023-09-04T15:32:29.223Z"
   },
   {
    "duration": 43,
    "start_time": "2023-09-04T15:32:29.249Z"
   },
   {
    "duration": 26,
    "start_time": "2023-09-04T15:32:29.294Z"
   },
   {
    "duration": 17,
    "start_time": "2023-09-04T15:32:29.321Z"
   },
   {
    "duration": 74,
    "start_time": "2023-09-04T15:32:29.341Z"
   },
   {
    "duration": 8,
    "start_time": "2023-09-04T15:32:29.417Z"
   },
   {
    "duration": 7,
    "start_time": "2023-09-04T15:32:29.427Z"
   },
   {
    "duration": 118,
    "start_time": "2023-09-04T15:32:29.436Z"
   },
   {
    "duration": 61,
    "start_time": "2023-09-04T15:32:29.556Z"
   },
   {
    "duration": 239,
    "start_time": "2023-09-04T15:32:33.128Z"
   },
   {
    "duration": 3106,
    "start_time": "2023-09-04T15:35:05.369Z"
   },
   {
    "duration": 9,
    "start_time": "2023-09-04T15:35:08.483Z"
   },
   {
    "duration": 1043,
    "start_time": "2023-09-04T15:35:08.494Z"
   },
   {
    "duration": 15,
    "start_time": "2023-09-04T15:35:09.539Z"
   },
   {
    "duration": 6,
    "start_time": "2023-09-04T15:35:09.557Z"
   },
   {
    "duration": 37,
    "start_time": "2023-09-04T15:35:09.565Z"
   },
   {
    "duration": 117,
    "start_time": "2023-09-04T15:35:09.606Z"
   },
   {
    "duration": 7,
    "start_time": "2023-09-04T15:35:09.724Z"
   },
   {
    "duration": 28,
    "start_time": "2023-09-04T15:35:09.733Z"
   },
   {
    "duration": 156,
    "start_time": "2023-09-04T15:35:09.762Z"
   },
   {
    "duration": 937,
    "start_time": "2023-09-04T15:35:09.920Z"
   },
   {
    "duration": 16,
    "start_time": "2023-09-04T15:35:10.859Z"
   },
   {
    "duration": 42,
    "start_time": "2023-09-04T15:35:10.880Z"
   },
   {
    "duration": 17,
    "start_time": "2023-09-04T15:35:10.926Z"
   },
   {
    "duration": 49,
    "start_time": "2023-09-04T15:35:10.947Z"
   },
   {
    "duration": 25,
    "start_time": "2023-09-04T15:35:10.998Z"
   },
   {
    "duration": 11,
    "start_time": "2023-09-04T15:35:11.025Z"
   },
   {
    "duration": 34,
    "start_time": "2023-09-04T15:35:11.038Z"
   },
   {
    "duration": 63,
    "start_time": "2023-09-04T15:35:11.075Z"
   },
   {
    "duration": 15,
    "start_time": "2023-09-04T15:35:11.140Z"
   },
   {
    "duration": 22,
    "start_time": "2023-09-04T15:35:11.156Z"
   },
   {
    "duration": 87,
    "start_time": "2023-09-04T15:35:11.180Z"
   },
   {
    "duration": 56,
    "start_time": "2023-09-04T15:35:11.269Z"
   },
   {
    "duration": 333,
    "start_time": "2023-09-04T15:35:11.327Z"
   },
   {
    "duration": 2842,
    "start_time": "2023-09-04T15:36:21.464Z"
   },
   {
    "duration": 5,
    "start_time": "2023-09-04T15:36:24.309Z"
   },
   {
    "duration": 790,
    "start_time": "2023-09-04T15:36:24.316Z"
   },
   {
    "duration": 7,
    "start_time": "2023-09-04T15:36:25.108Z"
   },
   {
    "duration": 16,
    "start_time": "2023-09-04T15:36:25.117Z"
   },
   {
    "duration": 28,
    "start_time": "2023-09-04T15:36:25.134Z"
   },
   {
    "duration": 114,
    "start_time": "2023-09-04T15:36:25.165Z"
   },
   {
    "duration": 9,
    "start_time": "2023-09-04T15:36:25.286Z"
   },
   {
    "duration": 14,
    "start_time": "2023-09-04T15:36:25.296Z"
   },
   {
    "duration": 129,
    "start_time": "2023-09-04T15:36:25.311Z"
   },
   {
    "duration": 985,
    "start_time": "2023-09-04T15:36:25.441Z"
   },
   {
    "duration": 11,
    "start_time": "2023-09-04T15:36:26.428Z"
   },
   {
    "duration": 22,
    "start_time": "2023-09-04T15:36:26.440Z"
   },
   {
    "duration": 26,
    "start_time": "2023-09-04T15:36:26.466Z"
   },
   {
    "duration": 18,
    "start_time": "2023-09-04T15:36:26.494Z"
   },
   {
    "duration": 18,
    "start_time": "2023-09-04T15:36:26.514Z"
   },
   {
    "duration": 43,
    "start_time": "2023-09-04T15:36:26.547Z"
   },
   {
    "duration": 19,
    "start_time": "2023-09-04T15:36:26.592Z"
   },
   {
    "duration": 85,
    "start_time": "2023-09-04T15:36:26.613Z"
   },
   {
    "duration": 8,
    "start_time": "2023-09-04T15:36:26.700Z"
   },
   {
    "duration": 9,
    "start_time": "2023-09-04T15:36:26.710Z"
   },
   {
    "duration": 88,
    "start_time": "2023-09-04T15:36:26.720Z"
   },
   {
    "duration": 48,
    "start_time": "2023-09-04T15:36:26.810Z"
   },
   {
    "duration": 242,
    "start_time": "2023-09-04T15:36:26.860Z"
   },
   {
    "duration": 2393,
    "start_time": "2023-09-04T15:36:39.101Z"
   },
   {
    "duration": 2924,
    "start_time": "2023-09-04T15:39:56.908Z"
   },
   {
    "duration": 5,
    "start_time": "2023-09-04T15:39:59.835Z"
   },
   {
    "duration": 810,
    "start_time": "2023-09-04T15:39:59.841Z"
   },
   {
    "duration": 13,
    "start_time": "2023-09-04T15:40:00.653Z"
   },
   {
    "duration": 46,
    "start_time": "2023-09-04T15:40:00.668Z"
   },
   {
    "duration": 53,
    "start_time": "2023-09-04T15:40:00.716Z"
   },
   {
    "duration": 146,
    "start_time": "2023-09-04T15:40:00.771Z"
   },
   {
    "duration": 10,
    "start_time": "2023-09-04T15:40:00.919Z"
   },
   {
    "duration": 57,
    "start_time": "2023-09-04T15:40:00.930Z"
   },
   {
    "duration": 154,
    "start_time": "2023-09-04T15:40:00.988Z"
   },
   {
    "duration": 1051,
    "start_time": "2023-09-04T15:40:01.143Z"
   },
   {
    "duration": 16,
    "start_time": "2023-09-04T15:40:02.196Z"
   },
   {
    "duration": 21,
    "start_time": "2023-09-04T15:40:02.214Z"
   },
   {
    "duration": 85,
    "start_time": "2023-09-04T15:40:02.238Z"
   },
   {
    "duration": 87,
    "start_time": "2023-09-04T15:40:02.326Z"
   },
   {
    "duration": 33,
    "start_time": "2023-09-04T15:40:02.416Z"
   },
   {
    "duration": 59,
    "start_time": "2023-09-04T15:40:02.451Z"
   },
   {
    "duration": 44,
    "start_time": "2023-09-04T15:40:02.513Z"
   },
   {
    "duration": 152,
    "start_time": "2023-09-04T15:40:02.562Z"
   },
   {
    "duration": 9,
    "start_time": "2023-09-04T15:40:02.715Z"
   },
   {
    "duration": 41,
    "start_time": "2023-09-04T15:40:02.726Z"
   },
   {
    "duration": 105,
    "start_time": "2023-09-04T15:40:02.769Z"
   },
   {
    "duration": 54,
    "start_time": "2023-09-04T15:40:02.876Z"
   },
   {
    "duration": 392,
    "start_time": "2023-09-04T15:40:02.932Z"
   },
   {
    "duration": 2562,
    "start_time": "2023-09-04T15:40:25.032Z"
   },
   {
    "duration": 12,
    "start_time": "2023-09-04T15:44:05.391Z"
   },
   {
    "duration": 4,
    "start_time": "2023-09-04T15:45:37.616Z"
   },
   {
    "duration": 13,
    "start_time": "2023-09-04T15:45:58.895Z"
   },
   {
    "duration": 27,
    "start_time": "2023-09-04T15:46:46.764Z"
   },
   {
    "duration": 7,
    "start_time": "2023-09-04T15:52:19.623Z"
   },
   {
    "duration": 9,
    "start_time": "2023-09-04T15:53:01.175Z"
   },
   {
    "duration": 8,
    "start_time": "2023-09-04T15:55:26.492Z"
   },
   {
    "duration": 26,
    "start_time": "2023-09-04T15:55:38.838Z"
   },
   {
    "duration": 6,
    "start_time": "2023-09-04T15:55:50.294Z"
   },
   {
    "duration": 9,
    "start_time": "2023-09-04T15:55:53.830Z"
   },
   {
    "duration": 3348,
    "start_time": "2023-09-05T10:49:38.130Z"
   },
   {
    "duration": 1605,
    "start_time": "2023-09-05T10:49:41.481Z"
   },
   {
    "duration": 924,
    "start_time": "2023-09-05T10:49:43.088Z"
   },
   {
    "duration": 9,
    "start_time": "2023-09-05T10:49:44.014Z"
   },
   {
    "duration": 7,
    "start_time": "2023-09-05T10:49:44.025Z"
   },
   {
    "duration": 8,
    "start_time": "2023-09-05T10:49:44.034Z"
   },
   {
    "duration": 98,
    "start_time": "2023-09-05T10:49:44.044Z"
   },
   {
    "duration": 9,
    "start_time": "2023-09-05T10:49:44.144Z"
   },
   {
    "duration": 118,
    "start_time": "2023-09-05T10:49:44.155Z"
   },
   {
    "duration": 140,
    "start_time": "2023-09-05T10:49:44.278Z"
   },
   {
    "duration": 1013,
    "start_time": "2023-09-05T10:49:44.420Z"
   },
   {
    "duration": 20,
    "start_time": "2023-09-05T10:49:45.435Z"
   },
   {
    "duration": 22,
    "start_time": "2023-09-05T10:49:45.457Z"
   },
   {
    "duration": 31,
    "start_time": "2023-09-05T10:49:45.481Z"
   },
   {
    "duration": 29,
    "start_time": "2023-09-05T10:49:45.514Z"
   },
   {
    "duration": 30,
    "start_time": "2023-09-05T10:49:45.548Z"
   },
   {
    "duration": 13,
    "start_time": "2023-09-05T10:49:45.580Z"
   },
   {
    "duration": 38,
    "start_time": "2023-09-05T10:49:45.595Z"
   },
   {
    "duration": 65,
    "start_time": "2023-09-05T10:49:45.636Z"
   },
   {
    "duration": 10,
    "start_time": "2023-09-05T10:49:45.704Z"
   },
   {
    "duration": 13,
    "start_time": "2023-09-05T10:49:45.716Z"
   },
   {
    "duration": 88,
    "start_time": "2023-09-05T10:49:45.732Z"
   },
   {
    "duration": 61,
    "start_time": "2023-09-05T10:49:45.823Z"
   },
   {
    "duration": 345,
    "start_time": "2023-09-05T10:49:45.887Z"
   },
   {
    "duration": 572,
    "start_time": "2023-09-05T10:49:46.234Z"
   },
   {
    "duration": 143,
    "start_time": "2023-09-05T10:49:46.808Z"
   },
   {
    "duration": 236,
    "start_time": "2023-09-05T10:49:46.953Z"
   },
   {
    "duration": 0,
    "start_time": "2023-09-05T10:49:47.191Z"
   },
   {
    "duration": 0,
    "start_time": "2023-09-05T10:49:47.192Z"
   },
   {
    "duration": 72,
    "start_time": "2023-09-05T10:52:00.825Z"
   },
   {
    "duration": 7,
    "start_time": "2023-09-05T10:52:09.362Z"
   },
   {
    "duration": 9,
    "start_time": "2023-09-05T10:52:11.271Z"
   },
   {
    "duration": 19,
    "start_time": "2023-09-05T10:52:13.375Z"
   },
   {
    "duration": 98,
    "start_time": "2023-09-05T10:55:14.078Z"
   },
   {
    "duration": 136,
    "start_time": "2023-09-05T10:55:47.983Z"
   },
   {
    "duration": 8,
    "start_time": "2023-09-05T10:59:03.182Z"
   },
   {
    "duration": 85,
    "start_time": "2023-09-05T10:59:46.349Z"
   },
   {
    "duration": 7,
    "start_time": "2023-09-05T11:00:00.886Z"
   },
   {
    "duration": 120,
    "start_time": "2023-09-05T11:01:18.158Z"
   },
   {
    "duration": 102,
    "start_time": "2023-09-05T11:01:25.541Z"
   },
   {
    "duration": 9,
    "start_time": "2023-09-05T11:03:45.496Z"
   },
   {
    "duration": 8,
    "start_time": "2023-09-05T11:04:12.998Z"
   },
   {
    "duration": 7,
    "start_time": "2023-09-05T11:05:20.423Z"
   },
   {
    "duration": 7,
    "start_time": "2023-09-05T11:06:24.701Z"
   },
   {
    "duration": 17,
    "start_time": "2023-09-05T12:49:00.124Z"
   },
   {
    "duration": 22,
    "start_time": "2023-09-05T12:49:12.629Z"
   },
   {
    "duration": 17,
    "start_time": "2023-09-05T12:51:36.707Z"
   },
   {
    "duration": 16,
    "start_time": "2023-09-05T12:53:17.478Z"
   },
   {
    "duration": 3,
    "start_time": "2023-09-05T12:59:47.148Z"
   },
   {
    "duration": 5,
    "start_time": "2023-09-05T12:59:59.408Z"
   },
   {
    "duration": 807,
    "start_time": "2023-09-05T13:00:01.777Z"
   },
   {
    "duration": 85,
    "start_time": "2023-09-05T13:00:10.382Z"
   },
   {
    "duration": 9,
    "start_time": "2023-09-05T13:00:13.479Z"
   },
   {
    "duration": 13,
    "start_time": "2023-09-05T13:00:15.177Z"
   },
   {
    "duration": 138,
    "start_time": "2023-09-05T13:00:17.200Z"
   },
   {
    "duration": 11,
    "start_time": "2023-09-05T13:00:20.450Z"
   },
   {
    "duration": 12,
    "start_time": "2023-09-05T13:00:22.721Z"
   },
   {
    "duration": 13,
    "start_time": "2023-09-05T13:00:27.441Z"
   },
   {
    "duration": 22,
    "start_time": "2023-09-05T13:00:29.731Z"
   },
   {
    "duration": 22,
    "start_time": "2023-09-05T13:00:33.283Z"
   },
   {
    "duration": 11,
    "start_time": "2023-09-05T13:00:35.191Z"
   },
   {
    "duration": 13,
    "start_time": "2023-09-05T13:00:37.937Z"
   },
   {
    "duration": 46,
    "start_time": "2023-09-05T13:00:40.077Z"
   },
   {
    "duration": 8,
    "start_time": "2023-09-05T13:00:43.443Z"
   },
   {
    "duration": 9,
    "start_time": "2023-09-05T13:00:46.594Z"
   },
   {
    "duration": 69,
    "start_time": "2023-09-05T13:00:53.033Z"
   },
   {
    "duration": 4,
    "start_time": "2023-09-05T13:00:59.752Z"
   },
   {
    "duration": 50,
    "start_time": "2023-09-05T13:01:02.430Z"
   },
   {
    "duration": 21,
    "start_time": "2023-09-05T13:01:29.810Z"
   },
   {
    "duration": 9,
    "start_time": "2023-09-05T13:01:37.810Z"
   },
   {
    "duration": 11,
    "start_time": "2023-09-05T13:01:46.824Z"
   },
   {
    "duration": 304,
    "start_time": "2023-09-05T13:01:54.703Z"
   },
   {
    "duration": 22,
    "start_time": "2023-09-05T13:02:11.696Z"
   },
   {
    "duration": 15,
    "start_time": "2023-09-05T13:02:14.577Z"
   },
   {
    "duration": 17,
    "start_time": "2023-09-05T13:02:25.682Z"
   },
   {
    "duration": 11,
    "start_time": "2023-09-05T13:22:08.039Z"
   },
   {
    "duration": 15,
    "start_time": "2023-09-05T13:22:35.531Z"
   },
   {
    "duration": 10,
    "start_time": "2023-09-05T13:24:28.073Z"
   },
   {
    "duration": 404,
    "start_time": "2023-09-05T13:24:33.329Z"
   },
   {
    "duration": 20,
    "start_time": "2023-09-05T13:24:45.042Z"
   },
   {
    "duration": 15,
    "start_time": "2023-09-05T13:24:48.737Z"
   },
   {
    "duration": 17,
    "start_time": "2023-09-05T13:24:55.394Z"
   },
   {
    "duration": 13,
    "start_time": "2023-09-05T13:27:52.281Z"
   },
   {
    "duration": 2515,
    "start_time": "2023-09-05T13:30:16.010Z"
   },
   {
    "duration": 4,
    "start_time": "2023-09-05T13:30:18.528Z"
   },
   {
    "duration": 730,
    "start_time": "2023-09-05T13:30:18.534Z"
   },
   {
    "duration": 11,
    "start_time": "2023-09-05T13:30:19.266Z"
   },
   {
    "duration": 21,
    "start_time": "2023-09-05T13:30:19.279Z"
   },
   {
    "duration": 85,
    "start_time": "2023-09-05T13:30:19.302Z"
   },
   {
    "duration": 8,
    "start_time": "2023-09-05T13:30:19.389Z"
   },
   {
    "duration": 14,
    "start_time": "2023-09-05T13:30:19.398Z"
   },
   {
    "duration": 135,
    "start_time": "2023-09-05T13:30:19.414Z"
   },
   {
    "duration": 965,
    "start_time": "2023-09-05T13:30:19.550Z"
   },
   {
    "duration": 12,
    "start_time": "2023-09-05T13:30:20.517Z"
   },
   {
    "duration": 23,
    "start_time": "2023-09-05T13:30:20.531Z"
   },
   {
    "duration": 23,
    "start_time": "2023-09-05T13:30:20.556Z"
   },
   {
    "duration": 24,
    "start_time": "2023-09-05T13:30:20.581Z"
   },
   {
    "duration": 20,
    "start_time": "2023-09-05T13:30:20.606Z"
   },
   {
    "duration": 35,
    "start_time": "2023-09-05T13:30:20.628Z"
   },
   {
    "duration": 54,
    "start_time": "2023-09-05T13:30:20.664Z"
   },
   {
    "duration": 58,
    "start_time": "2023-09-05T13:30:20.720Z"
   },
   {
    "duration": 9,
    "start_time": "2023-09-05T13:30:20.779Z"
   },
   {
    "duration": 48,
    "start_time": "2023-09-05T13:30:20.789Z"
   },
   {
    "duration": 87,
    "start_time": "2023-09-05T13:30:20.838Z"
   },
   {
    "duration": 4,
    "start_time": "2023-09-05T13:30:20.926Z"
   },
   {
    "duration": 11,
    "start_time": "2023-09-05T13:30:30.824Z"
   },
   {
    "duration": 17,
    "start_time": "2023-09-05T13:33:19.512Z"
   },
   {
    "duration": 11,
    "start_time": "2023-09-05T13:33:53.843Z"
   },
   {
    "duration": 2466,
    "start_time": "2023-09-05T13:34:23.722Z"
   },
   {
    "duration": 4,
    "start_time": "2023-09-05T13:34:26.191Z"
   },
   {
    "duration": 539,
    "start_time": "2023-09-05T13:34:26.197Z"
   },
   {
    "duration": 12,
    "start_time": "2023-09-05T13:34:26.738Z"
   },
   {
    "duration": 24,
    "start_time": "2023-09-05T13:34:26.753Z"
   },
   {
    "duration": 87,
    "start_time": "2023-09-05T13:34:26.778Z"
   },
   {
    "duration": 9,
    "start_time": "2023-09-05T13:34:26.867Z"
   },
   {
    "duration": 18,
    "start_time": "2023-09-05T13:34:26.878Z"
   },
   {
    "duration": 132,
    "start_time": "2023-09-05T13:34:26.898Z"
   },
   {
    "duration": 974,
    "start_time": "2023-09-05T13:34:27.033Z"
   },
   {
    "duration": 11,
    "start_time": "2023-09-05T13:34:28.009Z"
   },
   {
    "duration": 58,
    "start_time": "2023-09-05T13:34:28.022Z"
   },
   {
    "duration": 32,
    "start_time": "2023-09-05T13:34:28.082Z"
   },
   {
    "duration": 34,
    "start_time": "2023-09-05T13:34:28.117Z"
   },
   {
    "duration": 19,
    "start_time": "2023-09-05T13:34:28.153Z"
   },
   {
    "duration": 12,
    "start_time": "2023-09-05T13:34:28.174Z"
   },
   {
    "duration": 15,
    "start_time": "2023-09-05T13:34:28.187Z"
   },
   {
    "duration": 70,
    "start_time": "2023-09-05T13:34:28.204Z"
   },
   {
    "duration": 9,
    "start_time": "2023-09-05T13:34:28.277Z"
   },
   {
    "duration": 54,
    "start_time": "2023-09-05T13:34:28.288Z"
   },
   {
    "duration": 97,
    "start_time": "2023-09-05T13:34:28.344Z"
   },
   {
    "duration": 4,
    "start_time": "2023-09-05T13:34:28.443Z"
   },
   {
    "duration": 31,
    "start_time": "2023-09-05T13:34:28.448Z"
   },
   {
    "duration": 131,
    "start_time": "2023-09-05T13:34:28.481Z"
   },
   {
    "duration": 310,
    "start_time": "2023-09-05T13:34:36.384Z"
   },
   {
    "duration": 68,
    "start_time": "2023-09-05T13:34:50.151Z"
   },
   {
    "duration": 68,
    "start_time": "2023-09-05T13:34:54.439Z"
   },
   {
    "duration": 57,
    "start_time": "2023-09-05T13:35:01.076Z"
   },
   {
    "duration": 7,
    "start_time": "2023-09-05T13:35:06.284Z"
   },
   {
    "duration": 7,
    "start_time": "2023-09-05T13:35:08.535Z"
   },
   {
    "duration": 54,
    "start_time": "2023-09-05T13:40:04.622Z"
   },
   {
    "duration": 5,
    "start_time": "2023-09-05T13:44:55.127Z"
   },
   {
    "duration": 4,
    "start_time": "2023-09-05T13:46:09.030Z"
   },
   {
    "duration": 1343,
    "start_time": "2023-09-05T13:46:50.039Z"
   },
   {
    "duration": 4,
    "start_time": "2023-09-05T13:48:16.796Z"
   },
   {
    "duration": 24,
    "start_time": "2023-09-05T13:48:24.774Z"
   },
   {
    "duration": 4,
    "start_time": "2023-09-05T13:48:51.332Z"
   },
   {
    "duration": 53,
    "start_time": "2023-09-05T13:49:00.430Z"
   },
   {
    "duration": 6,
    "start_time": "2023-09-05T13:49:13.492Z"
   },
   {
    "duration": 67,
    "start_time": "2023-09-05T13:49:18.430Z"
   },
   {
    "duration": 66,
    "start_time": "2023-09-05T13:49:59.151Z"
   },
   {
    "duration": 27,
    "start_time": "2023-09-05T13:57:48.805Z"
   },
   {
    "duration": 289,
    "start_time": "2023-09-05T13:58:05.227Z"
   },
   {
    "duration": 244,
    "start_time": "2023-09-05T14:03:41.628Z"
   },
   {
    "duration": 222,
    "start_time": "2023-09-05T14:03:51.577Z"
   },
   {
    "duration": 19,
    "start_time": "2023-09-05T14:04:21.500Z"
   },
   {
    "duration": 223,
    "start_time": "2023-09-05T14:04:30.466Z"
   },
   {
    "duration": 232,
    "start_time": "2023-09-05T14:06:50.747Z"
   },
   {
    "duration": 249,
    "start_time": "2023-09-05T14:07:38.827Z"
   },
   {
    "duration": 226,
    "start_time": "2023-09-05T14:08:11.648Z"
   },
   {
    "duration": 244,
    "start_time": "2023-09-05T14:16:12.186Z"
   },
   {
    "duration": 428,
    "start_time": "2023-09-05T14:16:58.677Z"
   },
   {
    "duration": 283,
    "start_time": "2023-09-05T14:17:25.289Z"
   },
   {
    "duration": 222,
    "start_time": "2023-09-05T14:18:36.354Z"
   },
   {
    "duration": 218,
    "start_time": "2023-09-05T14:18:52.678Z"
   },
   {
    "duration": 256,
    "start_time": "2023-09-05T14:19:47.338Z"
   },
   {
    "duration": 259,
    "start_time": "2023-09-05T14:20:16.395Z"
   },
   {
    "duration": 260,
    "start_time": "2023-09-05T14:21:35.176Z"
   },
   {
    "duration": 25,
    "start_time": "2023-09-05T14:22:00.857Z"
   },
   {
    "duration": 235,
    "start_time": "2023-09-05T14:23:02.075Z"
   },
   {
    "duration": 263,
    "start_time": "2023-09-05T14:23:48.826Z"
   },
   {
    "duration": 54,
    "start_time": "2023-09-05T14:26:46.297Z"
   },
   {
    "duration": 290,
    "start_time": "2023-09-05T14:30:30.088Z"
   },
   {
    "duration": 255,
    "start_time": "2023-09-05T14:31:33.727Z"
   },
   {
    "duration": 259,
    "start_time": "2023-09-05T14:32:21.997Z"
   },
   {
    "duration": 259,
    "start_time": "2023-09-05T14:32:33.958Z"
   },
   {
    "duration": 244,
    "start_time": "2023-09-05T14:33:10.439Z"
   },
   {
    "duration": 124,
    "start_time": "2023-09-05T14:33:27.487Z"
   },
   {
    "duration": 85,
    "start_time": "2023-09-05T14:33:32.889Z"
   },
   {
    "duration": 251,
    "start_time": "2023-09-05T14:34:04.598Z"
   },
   {
    "duration": 10,
    "start_time": "2023-09-05T15:19:38.676Z"
   },
   {
    "duration": 25,
    "start_time": "2023-09-05T15:21:18.101Z"
   },
   {
    "duration": 29,
    "start_time": "2023-09-05T15:22:33.865Z"
   },
   {
    "duration": 20,
    "start_time": "2023-09-05T15:23:20.578Z"
   },
   {
    "duration": 44,
    "start_time": "2023-09-05T15:25:51.419Z"
   },
   {
    "duration": 14,
    "start_time": "2023-09-05T15:28:48.314Z"
   },
   {
    "duration": 16,
    "start_time": "2023-09-05T15:28:57.747Z"
   },
   {
    "duration": 5,
    "start_time": "2023-09-05T15:33:16.219Z"
   },
   {
    "duration": 7,
    "start_time": "2023-09-05T15:33:23.859Z"
   },
   {
    "duration": 10,
    "start_time": "2023-09-05T15:33:40.290Z"
   },
   {
    "duration": 11,
    "start_time": "2023-09-05T15:34:26.108Z"
   },
   {
    "duration": 46,
    "start_time": "2023-09-05T15:34:52.580Z"
   },
   {
    "duration": 27,
    "start_time": "2023-09-05T15:36:09.779Z"
   },
   {
    "duration": 10,
    "start_time": "2023-09-05T15:38:32.885Z"
   },
   {
    "duration": 16,
    "start_time": "2023-09-05T15:43:51.929Z"
   },
   {
    "duration": 142,
    "start_time": "2023-09-05T15:44:07.794Z"
   },
   {
    "duration": 307,
    "start_time": "2023-09-05T15:44:13.674Z"
   },
   {
    "duration": 14,
    "start_time": "2023-09-05T15:46:38.177Z"
   },
   {
    "duration": 16,
    "start_time": "2023-09-05T15:46:57.881Z"
   },
   {
    "duration": 54,
    "start_time": "2023-09-05T15:48:39.736Z"
   },
   {
    "duration": 52,
    "start_time": "2023-09-05T15:50:03.473Z"
   },
   {
    "duration": 61,
    "start_time": "2023-09-05T15:50:21.314Z"
   },
   {
    "duration": 3477,
    "start_time": "2023-09-06T05:55:53.770Z"
   },
   {
    "duration": 1494,
    "start_time": "2023-09-06T05:55:57.250Z"
   },
   {
    "duration": 760,
    "start_time": "2023-09-06T05:55:58.746Z"
   },
   {
    "duration": 10,
    "start_time": "2023-09-06T05:55:59.508Z"
   },
   {
    "duration": 27,
    "start_time": "2023-09-06T05:55:59.521Z"
   },
   {
    "duration": 36,
    "start_time": "2023-09-06T05:55:59.550Z"
   },
   {
    "duration": 110,
    "start_time": "2023-09-06T05:55:59.588Z"
   },
   {
    "duration": 8,
    "start_time": "2023-09-06T05:55:59.699Z"
   },
   {
    "duration": 34,
    "start_time": "2023-09-06T05:55:59.708Z"
   },
   {
    "duration": 145,
    "start_time": "2023-09-06T05:55:59.743Z"
   },
   {
    "duration": 1003,
    "start_time": "2023-09-06T05:55:59.890Z"
   },
   {
    "duration": 15,
    "start_time": "2023-09-06T05:56:00.896Z"
   },
   {
    "duration": 46,
    "start_time": "2023-09-06T05:56:00.924Z"
   },
   {
    "duration": 65,
    "start_time": "2023-09-06T05:56:00.974Z"
   },
   {
    "duration": 110,
    "start_time": "2023-09-06T05:56:01.042Z"
   },
   {
    "duration": 108,
    "start_time": "2023-09-06T05:56:01.153Z"
   },
   {
    "duration": 88,
    "start_time": "2023-09-06T05:56:01.263Z"
   },
   {
    "duration": 123,
    "start_time": "2023-09-06T05:56:01.353Z"
   },
   {
    "duration": 125,
    "start_time": "2023-09-06T05:56:01.478Z"
   },
   {
    "duration": 16,
    "start_time": "2023-09-06T05:56:01.604Z"
   },
   {
    "duration": 75,
    "start_time": "2023-09-06T05:56:01.621Z"
   },
   {
    "duration": 83,
    "start_time": "2023-09-06T05:56:01.698Z"
   },
   {
    "duration": 4,
    "start_time": "2023-09-06T05:56:01.782Z"
   },
   {
    "duration": 361,
    "start_time": "2023-09-06T05:56:01.788Z"
   },
   {
    "duration": 575,
    "start_time": "2023-09-06T05:56:02.151Z"
   },
   {
    "duration": 621,
    "start_time": "2023-09-06T05:56:02.729Z"
   },
   {
    "duration": 516,
    "start_time": "2023-09-06T05:56:03.352Z"
   },
   {
    "duration": 155,
    "start_time": "2023-09-06T05:56:03.870Z"
   },
   {
    "duration": 66,
    "start_time": "2023-09-06T05:56:04.027Z"
   },
   {
    "duration": 76,
    "start_time": "2023-09-06T05:56:04.095Z"
   },
   {
    "duration": 8,
    "start_time": "2023-09-06T05:56:04.173Z"
   },
   {
    "duration": 20,
    "start_time": "2023-09-06T05:56:04.183Z"
   },
   {
    "duration": 70,
    "start_time": "2023-09-06T05:56:04.205Z"
   },
   {
    "duration": 328,
    "start_time": "2023-09-06T05:56:04.277Z"
   },
   {
    "duration": 252,
    "start_time": "2023-09-06T05:56:04.608Z"
   },
   {
    "duration": 236,
    "start_time": "2023-09-06T05:56:04.862Z"
   },
   {
    "duration": 24,
    "start_time": "2023-09-06T05:56:05.100Z"
   },
   {
    "duration": 57,
    "start_time": "2023-09-06T05:56:05.127Z"
   },
   {
    "duration": 6,
    "start_time": "2023-09-06T06:05:15.887Z"
   },
   {
    "duration": 72,
    "start_time": "2023-09-06T06:05:24.454Z"
   },
   {
    "duration": 54,
    "start_time": "2023-09-06T06:05:27.774Z"
   },
   {
    "duration": 85,
    "start_time": "2023-09-06T06:06:42.634Z"
   },
   {
    "duration": 5,
    "start_time": "2023-09-06T06:06:52.440Z"
   },
   {
    "duration": 58,
    "start_time": "2023-09-06T06:07:01.700Z"
   },
   {
    "duration": 143,
    "start_time": "2023-09-06T06:07:08.360Z"
   },
   {
    "duration": 74,
    "start_time": "2023-09-06T06:07:47.878Z"
   },
   {
    "duration": 5,
    "start_time": "2023-09-06T06:10:50.417Z"
   },
   {
    "duration": 4,
    "start_time": "2023-09-06T06:12:33.485Z"
   },
   {
    "duration": 9,
    "start_time": "2023-09-06T06:14:44.132Z"
   },
   {
    "duration": 65,
    "start_time": "2023-09-06T06:14:54.098Z"
   },
   {
    "duration": 64,
    "start_time": "2023-09-06T06:15:06.600Z"
   },
   {
    "duration": 57,
    "start_time": "2023-09-06T06:15:17.414Z"
   },
   {
    "duration": 70,
    "start_time": "2023-09-06T06:15:22.286Z"
   },
   {
    "duration": 63,
    "start_time": "2023-09-06T06:15:30.752Z"
   },
   {
    "duration": 4,
    "start_time": "2023-09-06T06:32:23.442Z"
   },
   {
    "duration": 7,
    "start_time": "2023-09-06T06:32:39.038Z"
   },
   {
    "duration": 4,
    "start_time": "2023-09-06T06:32:41.748Z"
   },
   {
    "duration": 61,
    "start_time": "2023-09-06T06:32:51.110Z"
   },
   {
    "duration": 57,
    "start_time": "2023-09-06T06:32:55.006Z"
   },
   {
    "duration": 53,
    "start_time": "2023-09-06T06:32:57.943Z"
   },
   {
    "duration": 78,
    "start_time": "2023-09-06T06:33:00.461Z"
   },
   {
    "duration": 59,
    "start_time": "2023-09-06T06:33:04.261Z"
   },
   {
    "duration": 89,
    "start_time": "2023-09-06T06:34:43.669Z"
   },
   {
    "duration": 212,
    "start_time": "2023-09-06T06:35:07.252Z"
   },
   {
    "duration": 5,
    "start_time": "2023-09-06T07:06:17.017Z"
   },
   {
    "duration": 94,
    "start_time": "2023-09-06T07:06:33.921Z"
   },
   {
    "duration": 2149,
    "start_time": "2023-09-06T07:09:46.733Z"
   },
   {
    "duration": 11,
    "start_time": "2023-09-06T07:10:10.568Z"
   },
   {
    "duration": 108,
    "start_time": "2023-09-06T07:10:23.592Z"
   },
   {
    "duration": 5,
    "start_time": "2023-09-06T07:12:30.911Z"
   },
   {
    "duration": 92,
    "start_time": "2023-09-06T07:12:38.916Z"
   },
   {
    "duration": 5,
    "start_time": "2023-09-06T07:14:18.015Z"
   },
   {
    "duration": 125,
    "start_time": "2023-09-06T07:14:26.184Z"
   },
   {
    "duration": 245,
    "start_time": "2023-09-06T07:14:49.667Z"
   },
   {
    "duration": 4,
    "start_time": "2023-09-06T07:16:03.076Z"
   },
   {
    "duration": 2881,
    "start_time": "2023-09-06T07:16:11.479Z"
   },
   {
    "duration": 6,
    "start_time": "2023-09-06T07:16:14.364Z"
   },
   {
    "duration": 1028,
    "start_time": "2023-09-06T07:16:14.372Z"
   },
   {
    "duration": 10,
    "start_time": "2023-09-06T07:16:15.403Z"
   },
   {
    "duration": 16,
    "start_time": "2023-09-06T07:16:15.415Z"
   },
   {
    "duration": 19,
    "start_time": "2023-09-06T07:16:15.433Z"
   },
   {
    "duration": 20,
    "start_time": "2023-09-06T07:16:15.454Z"
   },
   {
    "duration": 138,
    "start_time": "2023-09-06T07:16:15.477Z"
   },
   {
    "duration": 16,
    "start_time": "2023-09-06T07:16:15.617Z"
   },
   {
    "duration": 31,
    "start_time": "2023-09-06T07:16:15.634Z"
   },
   {
    "duration": 195,
    "start_time": "2023-09-06T07:16:15.668Z"
   },
   {
    "duration": 1138,
    "start_time": "2023-09-06T07:16:15.870Z"
   },
   {
    "duration": 23,
    "start_time": "2023-09-06T07:16:17.010Z"
   },
   {
    "duration": 22,
    "start_time": "2023-09-06T07:16:17.042Z"
   },
   {
    "duration": 19,
    "start_time": "2023-09-06T07:16:17.069Z"
   },
   {
    "duration": 21,
    "start_time": "2023-09-06T07:16:17.090Z"
   },
   {
    "duration": 39,
    "start_time": "2023-09-06T07:16:17.124Z"
   },
   {
    "duration": 18,
    "start_time": "2023-09-06T07:16:17.166Z"
   },
   {
    "duration": 40,
    "start_time": "2023-09-06T07:16:17.186Z"
   },
   {
    "duration": 72,
    "start_time": "2023-09-06T07:16:17.230Z"
   },
   {
    "duration": 9,
    "start_time": "2023-09-06T07:16:17.305Z"
   },
   {
    "duration": 37,
    "start_time": "2023-09-06T07:16:17.317Z"
   },
   {
    "duration": 96,
    "start_time": "2023-09-06T07:16:17.357Z"
   },
   {
    "duration": 13,
    "start_time": "2023-09-06T07:16:17.456Z"
   },
   {
    "duration": 20,
    "start_time": "2023-09-06T07:16:17.471Z"
   },
   {
    "duration": 75,
    "start_time": "2023-09-06T07:16:17.493Z"
   },
   {
    "duration": 631,
    "start_time": "2023-09-06T07:16:17.571Z"
   },
   {
    "duration": 115,
    "start_time": "2023-09-06T07:16:18.205Z"
   },
   {
    "duration": 88,
    "start_time": "2023-09-06T07:16:18.322Z"
   },
   {
    "duration": 99,
    "start_time": "2023-09-06T07:16:18.413Z"
   },
   {
    "duration": 97,
    "start_time": "2023-09-06T07:16:18.514Z"
   },
   {
    "duration": 19,
    "start_time": "2023-09-06T07:16:18.613Z"
   },
   {
    "duration": 17,
    "start_time": "2023-09-06T07:16:18.634Z"
   },
   {
    "duration": 139,
    "start_time": "2023-09-06T07:16:18.653Z"
   },
   {
    "duration": 307,
    "start_time": "2023-09-06T07:16:18.795Z"
   },
   {
    "duration": 326,
    "start_time": "2023-09-06T07:16:19.105Z"
   },
   {
    "duration": 327,
    "start_time": "2023-09-06T07:16:19.433Z"
   },
   {
    "duration": 21,
    "start_time": "2023-09-06T07:16:19.766Z"
   },
   {
    "duration": 90,
    "start_time": "2023-09-06T07:16:19.789Z"
   },
   {
    "duration": 73,
    "start_time": "2023-09-06T07:37:54.574Z"
   },
   {
    "duration": 9,
    "start_time": "2023-09-06T08:28:09.858Z"
   },
   {
    "duration": 20,
    "start_time": "2023-09-06T08:28:20.468Z"
   },
   {
    "duration": 14,
    "start_time": "2023-09-06T08:42:33.407Z"
   },
   {
    "duration": 26,
    "start_time": "2023-09-06T08:42:38.316Z"
   },
   {
    "duration": 22,
    "start_time": "2023-09-06T08:44:24.798Z"
   },
   {
    "duration": 23,
    "start_time": "2023-09-06T08:45:02.495Z"
   },
   {
    "duration": 10,
    "start_time": "2023-09-06T08:47:54.912Z"
   },
   {
    "duration": 22,
    "start_time": "2023-09-06T08:49:18.567Z"
   },
   {
    "duration": 20,
    "start_time": "2023-09-06T08:54:37.087Z"
   },
   {
    "duration": 507,
    "start_time": "2023-09-06T08:56:11.808Z"
   },
   {
    "duration": 21,
    "start_time": "2023-09-06T08:56:34.985Z"
   },
   {
    "duration": 25,
    "start_time": "2023-09-06T08:57:25.807Z"
   },
   {
    "duration": 74,
    "start_time": "2023-09-06T08:58:10.245Z"
   },
   {
    "duration": 547,
    "start_time": "2023-09-06T08:58:24.909Z"
   },
   {
    "duration": 153,
    "start_time": "2023-09-06T08:58:35.548Z"
   },
   {
    "duration": 9,
    "start_time": "2023-09-06T09:01:03.469Z"
   },
   {
    "duration": 11,
    "start_time": "2023-09-06T09:01:59.272Z"
   },
   {
    "duration": 15,
    "start_time": "2023-09-06T09:03:28.083Z"
   },
   {
    "duration": 24,
    "start_time": "2023-09-06T09:04:53.869Z"
   },
   {
    "duration": 153,
    "start_time": "2023-09-06T09:08:05.608Z"
   },
   {
    "duration": 178,
    "start_time": "2023-09-06T09:08:30.099Z"
   },
   {
    "duration": 162,
    "start_time": "2023-09-06T09:11:02.601Z"
   },
   {
    "duration": 168,
    "start_time": "2023-09-06T09:11:15.026Z"
   },
   {
    "duration": 910,
    "start_time": "2023-09-06T09:13:03.385Z"
   },
   {
    "duration": 139,
    "start_time": "2023-09-06T09:13:42.475Z"
   },
   {
    "duration": 128,
    "start_time": "2023-09-06T09:14:08.385Z"
   },
   {
    "duration": 106,
    "start_time": "2023-09-06T09:19:54.882Z"
   },
   {
    "duration": 123,
    "start_time": "2023-09-06T09:20:08.458Z"
   },
   {
    "duration": 10,
    "start_time": "2023-09-06T09:20:23.791Z"
   },
   {
    "duration": 425,
    "start_time": "2023-09-06T09:20:31.009Z"
   },
   {
    "duration": 12,
    "start_time": "2023-09-06T09:21:18.037Z"
   },
   {
    "duration": 12,
    "start_time": "2023-09-06T09:21:39.231Z"
   },
   {
    "duration": 9,
    "start_time": "2023-09-06T09:23:19.494Z"
   },
   {
    "duration": 11,
    "start_time": "2023-09-06T09:23:37.758Z"
   },
   {
    "duration": 9,
    "start_time": "2023-09-06T09:24:00.955Z"
   },
   {
    "duration": 15,
    "start_time": "2023-09-06T09:28:14.144Z"
   },
   {
    "duration": 134,
    "start_time": "2023-09-06T09:58:42.239Z"
   },
   {
    "duration": 137,
    "start_time": "2023-09-06T09:58:50.903Z"
   },
   {
    "duration": 7,
    "start_time": "2023-09-06T10:06:12.145Z"
   },
   {
    "duration": 10,
    "start_time": "2023-09-06T10:06:16.454Z"
   },
   {
    "duration": 14,
    "start_time": "2023-09-06T10:06:25.879Z"
   },
   {
    "duration": 18,
    "start_time": "2023-09-06T10:06:47.102Z"
   },
   {
    "duration": 157,
    "start_time": "2023-09-06T10:08:19.225Z"
   },
   {
    "duration": 11,
    "start_time": "2023-09-06T10:08:26.111Z"
   },
   {
    "duration": 68,
    "start_time": "2023-09-06T10:11:08.164Z"
   },
   {
    "duration": 83,
    "start_time": "2023-09-06T10:11:38.112Z"
   },
   {
    "duration": 97,
    "start_time": "2023-09-06T10:11:50.846Z"
   },
   {
    "duration": 11,
    "start_time": "2023-09-06T12:45:52.817Z"
   },
   {
    "duration": 8,
    "start_time": "2023-09-06T12:46:23.670Z"
   },
   {
    "duration": 12,
    "start_time": "2023-09-06T12:55:38.552Z"
   },
   {
    "duration": 12,
    "start_time": "2023-09-06T12:56:01.391Z"
   },
   {
    "duration": 8,
    "start_time": "2023-09-06T12:56:58.977Z"
   },
   {
    "duration": 271,
    "start_time": "2023-09-06T12:57:06.310Z"
   },
   {
    "duration": 149,
    "start_time": "2023-09-06T12:57:58.206Z"
   },
   {
    "duration": 131,
    "start_time": "2023-09-06T13:04:36.268Z"
   },
   {
    "duration": 194,
    "start_time": "2023-09-06T13:11:57.392Z"
   },
   {
    "duration": 4,
    "start_time": "2023-09-06T13:13:56.209Z"
   },
   {
    "duration": 5,
    "start_time": "2023-09-06T13:14:06.217Z"
   },
   {
    "duration": 24,
    "start_time": "2023-09-06T13:14:32.342Z"
   },
   {
    "duration": 11,
    "start_time": "2023-09-06T15:23:24.678Z"
   },
   {
    "duration": 22,
    "start_time": "2023-09-06T15:24:24.366Z"
   },
   {
    "duration": 99,
    "start_time": "2023-09-06T15:25:03.496Z"
   },
   {
    "duration": 99,
    "start_time": "2023-09-06T15:26:09.094Z"
   },
   {
    "duration": 137,
    "start_time": "2023-09-06T15:26:22.566Z"
   },
   {
    "duration": 138,
    "start_time": "2023-09-06T15:26:53.877Z"
   },
   {
    "duration": 190,
    "start_time": "2023-09-06T15:27:05.398Z"
   },
   {
    "duration": 203,
    "start_time": "2023-09-06T15:30:30.273Z"
   },
   {
    "duration": 167,
    "start_time": "2023-09-06T15:31:32.737Z"
   },
   {
    "duration": 158,
    "start_time": "2023-09-06T15:34:10.502Z"
   },
   {
    "duration": 23,
    "start_time": "2023-09-06T15:34:41.102Z"
   },
   {
    "duration": 16,
    "start_time": "2023-09-06T15:35:02.405Z"
   },
   {
    "duration": 31,
    "start_time": "2023-09-06T15:35:10.830Z"
   },
   {
    "duration": 196,
    "start_time": "2023-09-06T15:36:15.455Z"
   },
   {
    "duration": 36,
    "start_time": "2023-09-06T15:36:19.085Z"
   },
   {
    "duration": 5,
    "start_time": "2023-09-06T15:40:14.917Z"
   },
   {
    "duration": 8,
    "start_time": "2023-09-06T15:40:26.650Z"
   },
   {
    "duration": 93,
    "start_time": "2023-09-06T15:41:16.221Z"
   },
   {
    "duration": 9,
    "start_time": "2023-09-06T15:41:35.326Z"
   },
   {
    "duration": 10,
    "start_time": "2023-09-06T15:41:59.232Z"
   },
   {
    "duration": 139,
    "start_time": "2023-09-06T15:47:54.660Z"
   },
   {
    "duration": 121,
    "start_time": "2023-09-06T15:48:41.578Z"
   },
   {
    "duration": 13,
    "start_time": "2023-09-06T15:50:23.171Z"
   },
   {
    "duration": 3246,
    "start_time": "2023-09-07T10:26:11.850Z"
   },
   {
    "duration": 1503,
    "start_time": "2023-09-07T10:26:15.098Z"
   },
   {
    "duration": 590,
    "start_time": "2023-09-07T10:26:16.603Z"
   },
   {
    "duration": 10,
    "start_time": "2023-09-07T10:26:17.195Z"
   },
   {
    "duration": 34,
    "start_time": "2023-09-07T10:26:17.207Z"
   },
   {
    "duration": 18,
    "start_time": "2023-09-07T10:26:17.243Z"
   },
   {
    "duration": 15,
    "start_time": "2023-09-07T10:26:17.262Z"
   },
   {
    "duration": 114,
    "start_time": "2023-09-07T10:26:17.278Z"
   },
   {
    "duration": 7,
    "start_time": "2023-09-07T10:26:17.394Z"
   },
   {
    "duration": 25,
    "start_time": "2023-09-07T10:26:17.404Z"
   },
   {
    "duration": 141,
    "start_time": "2023-09-07T10:26:17.431Z"
   },
   {
    "duration": 1088,
    "start_time": "2023-09-07T10:26:17.573Z"
   },
   {
    "duration": 16,
    "start_time": "2023-09-07T10:26:18.663Z"
   },
   {
    "duration": 16,
    "start_time": "2023-09-07T10:26:18.681Z"
   },
   {
    "duration": 38,
    "start_time": "2023-09-07T10:26:18.700Z"
   },
   {
    "duration": 20,
    "start_time": "2023-09-07T10:26:18.743Z"
   },
   {
    "duration": 18,
    "start_time": "2023-09-07T10:26:18.765Z"
   },
   {
    "duration": 20,
    "start_time": "2023-09-07T10:26:18.784Z"
   },
   {
    "duration": 29,
    "start_time": "2023-09-07T10:26:18.805Z"
   },
   {
    "duration": 38,
    "start_time": "2023-09-07T10:26:18.840Z"
   },
   {
    "duration": 9,
    "start_time": "2023-09-07T10:26:18.880Z"
   },
   {
    "duration": 39,
    "start_time": "2023-09-07T10:26:18.891Z"
   },
   {
    "duration": 75,
    "start_time": "2023-09-07T10:26:18.932Z"
   },
   {
    "duration": 4,
    "start_time": "2023-09-07T10:26:19.008Z"
   },
   {
    "duration": 43,
    "start_time": "2023-09-07T10:26:19.013Z"
   },
   {
    "duration": 42,
    "start_time": "2023-09-07T10:26:19.058Z"
   },
   {
    "duration": 353,
    "start_time": "2023-09-07T10:26:19.103Z"
   },
   {
    "duration": 588,
    "start_time": "2023-09-07T10:26:19.460Z"
   },
   {
    "duration": 102,
    "start_time": "2023-09-07T10:26:20.050Z"
   },
   {
    "duration": 111,
    "start_time": "2023-09-07T10:26:20.154Z"
   },
   {
    "duration": 102,
    "start_time": "2023-09-07T10:26:20.267Z"
   },
   {
    "duration": 87,
    "start_time": "2023-09-07T10:26:20.371Z"
   },
   {
    "duration": 313,
    "start_time": "2023-09-07T10:26:20.459Z"
   },
   {
    "duration": 245,
    "start_time": "2023-09-07T10:26:20.774Z"
   },
   {
    "duration": 233,
    "start_time": "2023-09-07T10:26:21.023Z"
   },
   {
    "duration": 18,
    "start_time": "2023-09-07T10:26:21.257Z"
   },
   {
    "duration": 94,
    "start_time": "2023-09-07T10:26:21.277Z"
   },
   {
    "duration": 92,
    "start_time": "2023-09-07T10:26:21.373Z"
   },
   {
    "duration": 8,
    "start_time": "2023-09-07T10:26:21.468Z"
   },
   {
    "duration": 38,
    "start_time": "2023-09-07T10:26:21.478Z"
   },
   {
    "duration": 159,
    "start_time": "2023-09-07T10:26:21.518Z"
   },
   {
    "duration": 237,
    "start_time": "2023-09-07T10:26:21.679Z"
   },
   {
    "duration": 17,
    "start_time": "2023-09-07T10:26:21.926Z"
   },
   {
    "duration": 263,
    "start_time": "2023-09-07T10:26:21.945Z"
   },
   {
    "duration": 0,
    "start_time": "2023-09-07T10:26:22.210Z"
   },
   {
    "duration": 0,
    "start_time": "2023-09-07T10:26:22.211Z"
   },
   {
    "duration": 0,
    "start_time": "2023-09-07T10:26:22.212Z"
   },
   {
    "duration": 0,
    "start_time": "2023-09-07T10:26:22.224Z"
   },
   {
    "duration": 0,
    "start_time": "2023-09-07T10:26:22.228Z"
   },
   {
    "duration": 0,
    "start_time": "2023-09-07T10:26:22.229Z"
   },
   {
    "duration": 27,
    "start_time": "2023-09-07T10:27:27.821Z"
   },
   {
    "duration": 1851,
    "start_time": "2023-09-07T10:36:18.672Z"
   },
   {
    "duration": 2285,
    "start_time": "2023-09-07T10:36:50.262Z"
   },
   {
    "duration": 4,
    "start_time": "2023-09-07T10:36:52.549Z"
   },
   {
    "duration": 862,
    "start_time": "2023-09-07T10:36:52.554Z"
   },
   {
    "duration": 18,
    "start_time": "2023-09-07T10:36:53.418Z"
   },
   {
    "duration": 6,
    "start_time": "2023-09-07T10:36:53.439Z"
   },
   {
    "duration": 5,
    "start_time": "2023-09-07T10:36:53.446Z"
   },
   {
    "duration": 20,
    "start_time": "2023-09-07T10:36:53.453Z"
   },
   {
    "duration": 91,
    "start_time": "2023-09-07T10:36:53.475Z"
   },
   {
    "duration": 8,
    "start_time": "2023-09-07T10:36:53.568Z"
   },
   {
    "duration": 22,
    "start_time": "2023-09-07T10:36:53.578Z"
   },
   {
    "duration": 122,
    "start_time": "2023-09-07T10:36:53.602Z"
   },
   {
    "duration": 884,
    "start_time": "2023-09-07T10:36:53.730Z"
   },
   {
    "duration": 16,
    "start_time": "2023-09-07T10:36:54.615Z"
   },
   {
    "duration": 14,
    "start_time": "2023-09-07T10:36:54.632Z"
   },
   {
    "duration": 63,
    "start_time": "2023-09-07T10:36:54.647Z"
   },
   {
    "duration": 50,
    "start_time": "2023-09-07T10:36:54.712Z"
   },
   {
    "duration": 55,
    "start_time": "2023-09-07T10:36:54.764Z"
   },
   {
    "duration": 31,
    "start_time": "2023-09-07T10:36:54.820Z"
   },
   {
    "duration": 39,
    "start_time": "2023-09-07T10:36:54.852Z"
   },
   {
    "duration": 97,
    "start_time": "2023-09-07T10:36:54.893Z"
   },
   {
    "duration": 107,
    "start_time": "2023-09-07T10:36:54.992Z"
   },
   {
    "duration": 58,
    "start_time": "2023-09-07T10:36:55.101Z"
   },
   {
    "duration": 113,
    "start_time": "2023-09-07T10:36:59.791Z"
   },
   {
    "duration": 111,
    "start_time": "2023-09-07T10:37:39.360Z"
   },
   {
    "duration": 4,
    "start_time": "2023-09-07T10:37:47.897Z"
   },
   {
    "duration": 26,
    "start_time": "2023-09-07T10:37:47.903Z"
   },
   {
    "duration": 74,
    "start_time": "2023-09-07T10:37:47.938Z"
   },
   {
    "duration": 330,
    "start_time": "2023-09-07T10:37:48.014Z"
   },
   {
    "duration": 58,
    "start_time": "2023-09-07T10:37:48.345Z"
   },
   {
    "duration": 75,
    "start_time": "2023-09-07T10:37:48.410Z"
   },
   {
    "duration": 64,
    "start_time": "2023-09-07T10:37:48.487Z"
   },
   {
    "duration": 112,
    "start_time": "2023-09-07T10:37:48.553Z"
   },
   {
    "duration": 74,
    "start_time": "2023-09-07T10:37:48.666Z"
   },
   {
    "duration": 205,
    "start_time": "2023-09-07T10:37:48.742Z"
   },
   {
    "duration": 229,
    "start_time": "2023-09-07T10:37:48.949Z"
   },
   {
    "duration": 220,
    "start_time": "2023-09-07T10:37:49.180Z"
   },
   {
    "duration": 22,
    "start_time": "2023-09-07T10:37:49.401Z"
   },
   {
    "duration": 167,
    "start_time": "2023-09-07T10:37:49.426Z"
   },
   {
    "duration": 245,
    "start_time": "2023-09-07T10:37:49.595Z"
   },
   {
    "duration": 7,
    "start_time": "2023-09-07T10:37:49.842Z"
   },
   {
    "duration": 74,
    "start_time": "2023-09-07T10:37:49.850Z"
   },
   {
    "duration": 130,
    "start_time": "2023-09-07T10:37:49.933Z"
   },
   {
    "duration": 134,
    "start_time": "2023-09-07T10:37:50.065Z"
   },
   {
    "duration": 23,
    "start_time": "2023-09-07T10:37:50.201Z"
   },
   {
    "duration": 64,
    "start_time": "2023-09-07T10:37:50.227Z"
   },
   {
    "duration": 269,
    "start_time": "2023-09-07T10:37:50.293Z"
   },
   {
    "duration": 35,
    "start_time": "2023-09-07T10:37:50.564Z"
   },
   {
    "duration": 5,
    "start_time": "2023-09-07T10:37:50.601Z"
   },
   {
    "duration": 28,
    "start_time": "2023-09-07T10:37:50.607Z"
   },
   {
    "duration": 236,
    "start_time": "2023-09-07T10:37:50.637Z"
   },
   {
    "duration": 134,
    "start_time": "2023-09-07T10:37:50.874Z"
   },
   {
    "duration": 24,
    "start_time": "2023-09-07T10:37:51.012Z"
   },
   {
    "duration": 3969,
    "start_time": "2023-09-08T08:30:26.766Z"
   },
   {
    "duration": 1700,
    "start_time": "2023-09-08T08:30:30.737Z"
   },
   {
    "duration": 1017,
    "start_time": "2023-09-08T08:30:32.447Z"
   },
   {
    "duration": 13,
    "start_time": "2023-09-08T08:30:33.466Z"
   },
   {
    "duration": 22,
    "start_time": "2023-09-08T08:30:33.482Z"
   },
   {
    "duration": 12,
    "start_time": "2023-09-08T08:30:33.512Z"
   },
   {
    "duration": 20,
    "start_time": "2023-09-08T08:30:33.526Z"
   },
   {
    "duration": 141,
    "start_time": "2023-09-08T08:30:33.548Z"
   },
   {
    "duration": 9,
    "start_time": "2023-09-08T08:30:33.690Z"
   },
   {
    "duration": 43,
    "start_time": "2023-09-08T08:30:33.701Z"
   },
   {
    "duration": 145,
    "start_time": "2023-09-08T08:30:33.746Z"
   },
   {
    "duration": 1002,
    "start_time": "2023-09-08T08:30:33.894Z"
   },
   {
    "duration": 26,
    "start_time": "2023-09-08T08:30:34.899Z"
   },
   {
    "duration": 17,
    "start_time": "2023-09-08T08:30:34.929Z"
   },
   {
    "duration": 14,
    "start_time": "2023-09-08T08:30:34.954Z"
   },
   {
    "duration": 50,
    "start_time": "2023-09-08T08:30:34.970Z"
   },
   {
    "duration": 37,
    "start_time": "2023-09-08T08:30:35.023Z"
   },
   {
    "duration": 15,
    "start_time": "2023-09-08T08:30:35.062Z"
   },
   {
    "duration": 45,
    "start_time": "2023-09-08T08:30:35.079Z"
   },
   {
    "duration": 48,
    "start_time": "2023-09-08T08:30:35.132Z"
   },
   {
    "duration": 8,
    "start_time": "2023-09-08T08:30:35.182Z"
   },
   {
    "duration": 35,
    "start_time": "2023-09-08T08:30:35.192Z"
   },
   {
    "duration": 162,
    "start_time": "2023-09-08T08:30:35.229Z"
   },
   {
    "duration": 27,
    "start_time": "2023-09-08T08:30:35.392Z"
   },
   {
    "duration": 85,
    "start_time": "2023-09-08T08:30:35.433Z"
   },
   {
    "duration": 60,
    "start_time": "2023-09-08T08:30:35.520Z"
   },
   {
    "duration": 403,
    "start_time": "2023-09-08T08:30:35.583Z"
   },
   {
    "duration": 603,
    "start_time": "2023-09-08T08:30:35.988Z"
   },
   {
    "duration": 141,
    "start_time": "2023-09-08T08:30:36.593Z"
   },
   {
    "duration": 131,
    "start_time": "2023-09-08T08:30:36.736Z"
   },
   {
    "duration": 105,
    "start_time": "2023-09-08T08:30:36.869Z"
   },
   {
    "duration": 83,
    "start_time": "2023-09-08T08:30:36.976Z"
   },
   {
    "duration": 358,
    "start_time": "2023-09-08T08:30:37.061Z"
   },
   {
    "duration": 293,
    "start_time": "2023-09-08T08:30:37.421Z"
   },
   {
    "duration": 280,
    "start_time": "2023-09-08T08:30:37.717Z"
   },
   {
    "duration": 27,
    "start_time": "2023-09-08T08:30:37.999Z"
   },
   {
    "duration": 78,
    "start_time": "2023-09-08T08:30:38.028Z"
   },
   {
    "duration": 75,
    "start_time": "2023-09-08T08:30:38.110Z"
   },
   {
    "duration": 24,
    "start_time": "2023-09-08T08:30:38.187Z"
   },
   {
    "duration": 10,
    "start_time": "2023-09-08T08:30:38.216Z"
   },
   {
    "duration": 157,
    "start_time": "2023-09-08T08:30:38.232Z"
   },
   {
    "duration": 291,
    "start_time": "2023-09-08T08:30:38.391Z"
   },
   {
    "duration": 41,
    "start_time": "2023-09-08T08:30:38.684Z"
   },
   {
    "duration": 108,
    "start_time": "2023-09-08T08:30:38.741Z"
   },
   {
    "duration": 194,
    "start_time": "2023-09-08T08:30:38.852Z"
   },
   {
    "duration": 40,
    "start_time": "2023-09-08T08:30:39.047Z"
   },
   {
    "duration": 27,
    "start_time": "2023-09-08T08:30:39.089Z"
   },
   {
    "duration": 24,
    "start_time": "2023-09-08T08:30:39.119Z"
   },
   {
    "duration": 201,
    "start_time": "2023-09-08T08:30:39.145Z"
   },
   {
    "duration": 175,
    "start_time": "2023-09-08T08:30:39.348Z"
   },
   {
    "duration": 25,
    "start_time": "2023-09-08T08:30:39.524Z"
   },
   {
    "duration": 3288,
    "start_time": "2023-09-08T18:36:47.589Z"
   },
   {
    "duration": 1497,
    "start_time": "2023-09-08T18:36:50.880Z"
   },
   {
    "duration": 911,
    "start_time": "2023-09-08T18:36:52.378Z"
   },
   {
    "duration": 14,
    "start_time": "2023-09-08T18:36:53.292Z"
   },
   {
    "duration": 11,
    "start_time": "2023-09-08T18:36:53.309Z"
   },
   {
    "duration": 8,
    "start_time": "2023-09-08T18:36:53.322Z"
   },
   {
    "duration": 23,
    "start_time": "2023-09-08T18:36:53.332Z"
   },
   {
    "duration": 106,
    "start_time": "2023-09-08T18:36:53.363Z"
   },
   {
    "duration": 8,
    "start_time": "2023-09-08T18:36:53.473Z"
   },
   {
    "duration": 15,
    "start_time": "2023-09-08T18:36:53.482Z"
   },
   {
    "duration": 124,
    "start_time": "2023-09-08T18:36:53.498Z"
   },
   {
    "duration": 987,
    "start_time": "2023-09-08T18:36:53.624Z"
   },
   {
    "duration": 12,
    "start_time": "2023-09-08T18:36:54.613Z"
   },
   {
    "duration": 22,
    "start_time": "2023-09-08T18:36:54.629Z"
   },
   {
    "duration": 18,
    "start_time": "2023-09-08T18:36:54.654Z"
   },
   {
    "duration": 33,
    "start_time": "2023-09-08T18:36:54.674Z"
   },
   {
    "duration": 51,
    "start_time": "2023-09-08T18:36:54.709Z"
   },
   {
    "duration": 15,
    "start_time": "2023-09-08T18:36:54.762Z"
   },
   {
    "duration": 18,
    "start_time": "2023-09-08T18:36:54.779Z"
   },
   {
    "duration": 71,
    "start_time": "2023-09-08T18:36:54.799Z"
   },
   {
    "duration": 18,
    "start_time": "2023-09-08T18:36:54.872Z"
   },
   {
    "duration": 10,
    "start_time": "2023-09-08T18:36:54.892Z"
   },
   {
    "duration": 208,
    "start_time": "2023-09-08T18:36:54.904Z"
   },
   {
    "duration": 3,
    "start_time": "2023-09-08T18:36:55.114Z"
   },
   {
    "duration": 35,
    "start_time": "2023-09-08T18:36:55.118Z"
   },
   {
    "duration": 53,
    "start_time": "2023-09-08T18:36:55.155Z"
   },
   {
    "duration": 361,
    "start_time": "2023-09-08T18:36:55.210Z"
   },
   {
    "duration": 600,
    "start_time": "2023-09-08T18:36:55.576Z"
   },
   {
    "duration": 104,
    "start_time": "2023-09-08T18:36:56.178Z"
   },
   {
    "duration": 115,
    "start_time": "2023-09-08T18:36:56.284Z"
   },
   {
    "duration": 94,
    "start_time": "2023-09-08T18:36:56.401Z"
   },
   {
    "duration": 81,
    "start_time": "2023-09-08T18:36:56.497Z"
   },
   {
    "duration": 325,
    "start_time": "2023-09-08T18:36:56.579Z"
   },
   {
    "duration": 334,
    "start_time": "2023-09-08T18:36:56.909Z"
   },
   {
    "duration": 255,
    "start_time": "2023-09-08T18:36:57.246Z"
   },
   {
    "duration": 14,
    "start_time": "2023-09-08T18:36:57.503Z"
   },
   {
    "duration": 28,
    "start_time": "2023-09-08T18:36:57.519Z"
   },
   {
    "duration": 69,
    "start_time": "2023-09-08T18:36:57.552Z"
   },
   {
    "duration": 92,
    "start_time": "2023-09-08T18:36:57.624Z"
   },
   {
    "duration": 22,
    "start_time": "2023-09-08T18:36:57.718Z"
   },
   {
    "duration": 14,
    "start_time": "2023-09-08T18:36:57.756Z"
   },
   {
    "duration": 135,
    "start_time": "2023-09-08T18:36:57.774Z"
   },
   {
    "duration": 313,
    "start_time": "2023-09-08T18:36:57.911Z"
   },
   {
    "duration": 27,
    "start_time": "2023-09-08T18:36:58.225Z"
   },
   {
    "duration": 34,
    "start_time": "2023-09-08T18:36:58.256Z"
   },
   {
    "duration": 176,
    "start_time": "2023-09-08T18:36:58.292Z"
   },
   {
    "duration": 41,
    "start_time": "2023-09-08T18:36:58.473Z"
   },
   {
    "duration": 8,
    "start_time": "2023-09-08T18:36:58.516Z"
   },
   {
    "duration": 8,
    "start_time": "2023-09-08T18:36:58.526Z"
   },
   {
    "duration": 150,
    "start_time": "2023-09-08T18:36:58.535Z"
   },
   {
    "duration": 156,
    "start_time": "2023-09-08T18:36:58.689Z"
   },
   {
    "duration": 22,
    "start_time": "2023-09-08T18:36:58.853Z"
   },
   {
    "duration": 5,
    "start_time": "2023-09-08T18:38:42.273Z"
   },
   {
    "duration": 468,
    "start_time": "2023-09-10T15:03:20.651Z"
   },
   {
    "duration": 3604,
    "start_time": "2023-09-10T15:03:31.548Z"
   },
   {
    "duration": 1115,
    "start_time": "2023-09-10T15:03:35.156Z"
   },
   {
    "duration": 713,
    "start_time": "2023-09-10T15:03:36.274Z"
   },
   {
    "duration": 12,
    "start_time": "2023-09-10T15:03:36.989Z"
   },
   {
    "duration": 203,
    "start_time": "2023-09-10T15:03:37.004Z"
   },
   {
    "duration": 171,
    "start_time": "2023-09-10T15:03:37.209Z"
   },
   {
    "duration": 64,
    "start_time": "2023-09-10T15:03:37.382Z"
   },
   {
    "duration": 124,
    "start_time": "2023-09-10T15:03:37.448Z"
   },
   {
    "duration": 11,
    "start_time": "2023-09-10T15:03:37.575Z"
   },
   {
    "duration": 34,
    "start_time": "2023-09-10T15:03:37.588Z"
   },
   {
    "duration": 156,
    "start_time": "2023-09-10T15:03:37.625Z"
   },
   {
    "duration": 997,
    "start_time": "2023-09-10T15:03:37.783Z"
   },
   {
    "duration": 19,
    "start_time": "2023-09-10T15:03:38.782Z"
   },
   {
    "duration": 20,
    "start_time": "2023-09-10T15:03:38.805Z"
   },
   {
    "duration": 33,
    "start_time": "2023-09-10T15:03:38.827Z"
   },
   {
    "duration": 29,
    "start_time": "2023-09-10T15:03:38.862Z"
   },
   {
    "duration": 30,
    "start_time": "2023-09-10T15:03:38.893Z"
   },
   {
    "duration": 27,
    "start_time": "2023-09-10T15:03:38.925Z"
   },
   {
    "duration": 16,
    "start_time": "2023-09-10T15:03:38.953Z"
   },
   {
    "duration": 51,
    "start_time": "2023-09-10T15:03:38.971Z"
   },
   {
    "duration": 9,
    "start_time": "2023-09-10T15:03:39.024Z"
   },
   {
    "duration": 27,
    "start_time": "2023-09-10T15:03:39.034Z"
   },
   {
    "duration": 201,
    "start_time": "2023-09-10T15:03:39.063Z"
   },
   {
    "duration": 4,
    "start_time": "2023-09-10T15:03:39.266Z"
   },
   {
    "duration": 31,
    "start_time": "2023-09-10T15:03:39.272Z"
   },
   {
    "duration": 45,
    "start_time": "2023-09-10T15:03:39.305Z"
   },
   {
    "duration": 382,
    "start_time": "2023-09-10T15:03:39.352Z"
   },
   {
    "duration": 576,
    "start_time": "2023-09-10T15:03:39.737Z"
   },
   {
    "duration": 135,
    "start_time": "2023-09-10T15:03:40.314Z"
   },
   {
    "duration": 162,
    "start_time": "2023-09-10T15:03:40.451Z"
   },
   {
    "duration": 71,
    "start_time": "2023-09-10T15:03:40.615Z"
   },
   {
    "duration": 82,
    "start_time": "2023-09-10T15:03:40.688Z"
   },
   {
    "duration": 358,
    "start_time": "2023-09-10T15:03:40.771Z"
   },
   {
    "duration": 268,
    "start_time": "2023-09-10T15:03:41.132Z"
   },
   {
    "duration": 252,
    "start_time": "2023-09-10T15:03:41.402Z"
   },
   {
    "duration": 16,
    "start_time": "2023-09-10T15:03:41.655Z"
   },
   {
    "duration": 86,
    "start_time": "2023-09-10T15:03:41.673Z"
   },
   {
    "duration": 87,
    "start_time": "2023-09-10T15:03:41.761Z"
   },
   {
    "duration": 8,
    "start_time": "2023-09-10T15:03:41.850Z"
   },
   {
    "duration": 32,
    "start_time": "2023-09-10T15:03:41.860Z"
   },
   {
    "duration": 174,
    "start_time": "2023-09-10T15:03:41.897Z"
   },
   {
    "duration": 248,
    "start_time": "2023-09-10T15:03:42.072Z"
   },
   {
    "duration": 14,
    "start_time": "2023-09-10T15:03:42.322Z"
   },
   {
    "duration": 77,
    "start_time": "2023-09-10T15:03:42.338Z"
   },
   {
    "duration": 176,
    "start_time": "2023-09-10T15:03:42.418Z"
   },
   {
    "duration": 47,
    "start_time": "2023-09-10T15:03:42.596Z"
   },
   {
    "duration": 7,
    "start_time": "2023-09-10T15:03:42.644Z"
   },
   {
    "duration": 33,
    "start_time": "2023-09-10T15:03:42.653Z"
   },
   {
    "duration": 156,
    "start_time": "2023-09-10T15:03:42.688Z"
   },
   {
    "duration": 136,
    "start_time": "2023-09-10T15:03:42.846Z"
   },
   {
    "duration": 18,
    "start_time": "2023-09-10T15:03:42.984Z"
   },
   {
    "duration": 2436,
    "start_time": "2023-09-10T15:07:41.525Z"
   },
   {
    "duration": 5,
    "start_time": "2023-09-10T15:07:43.964Z"
   },
   {
    "duration": 600,
    "start_time": "2023-09-10T15:07:43.971Z"
   },
   {
    "duration": 18,
    "start_time": "2023-09-10T15:07:44.574Z"
   },
   {
    "duration": 23,
    "start_time": "2023-09-10T15:07:44.594Z"
   },
   {
    "duration": 9,
    "start_time": "2023-09-10T15:07:44.619Z"
   },
   {
    "duration": 30,
    "start_time": "2023-09-10T15:07:44.631Z"
   },
   {
    "duration": 119,
    "start_time": "2023-09-10T15:07:44.664Z"
   },
   {
    "duration": 18,
    "start_time": "2023-09-10T15:07:44.786Z"
   },
   {
    "duration": 25,
    "start_time": "2023-09-10T15:07:44.808Z"
   },
   {
    "duration": 145,
    "start_time": "2023-09-10T15:07:44.836Z"
   },
   {
    "duration": 986,
    "start_time": "2023-09-10T15:07:44.982Z"
   },
   {
    "duration": 12,
    "start_time": "2023-09-10T15:07:45.970Z"
   },
   {
    "duration": 52,
    "start_time": "2023-09-10T15:07:45.984Z"
   },
   {
    "duration": 39,
    "start_time": "2023-09-10T15:07:46.038Z"
   },
   {
    "duration": 25,
    "start_time": "2023-09-10T15:07:46.079Z"
   },
   {
    "duration": 42,
    "start_time": "2023-09-10T15:07:46.106Z"
   },
   {
    "duration": 37,
    "start_time": "2023-09-10T15:07:46.150Z"
   },
   {
    "duration": 25,
    "start_time": "2023-09-10T15:07:46.189Z"
   },
   {
    "duration": 80,
    "start_time": "2023-09-10T15:07:46.216Z"
   },
   {
    "duration": 9,
    "start_time": "2023-09-10T15:07:46.298Z"
   },
   {
    "duration": 50,
    "start_time": "2023-09-10T15:07:46.309Z"
   },
   {
    "duration": 176,
    "start_time": "2023-09-10T15:07:46.361Z"
   },
   {
    "duration": 4,
    "start_time": "2023-09-10T15:07:46.539Z"
   },
   {
    "duration": 43,
    "start_time": "2023-09-10T15:07:46.545Z"
   },
   {
    "duration": 61,
    "start_time": "2023-09-10T15:07:46.590Z"
   },
   {
    "duration": 357,
    "start_time": "2023-09-10T15:07:46.653Z"
   },
   {
    "duration": 87,
    "start_time": "2023-09-10T15:07:47.014Z"
   },
   {
    "duration": 69,
    "start_time": "2023-09-10T15:07:47.103Z"
   },
   {
    "duration": 79,
    "start_time": "2023-09-10T15:07:47.174Z"
   },
   {
    "duration": 78,
    "start_time": "2023-09-10T15:07:47.255Z"
   },
   {
    "duration": 81,
    "start_time": "2023-09-10T15:07:47.335Z"
   },
   {
    "duration": 247,
    "start_time": "2023-09-10T15:07:47.418Z"
   },
   {
    "duration": 267,
    "start_time": "2023-09-10T15:07:47.667Z"
   },
   {
    "duration": 245,
    "start_time": "2023-09-10T15:07:47.935Z"
   },
   {
    "duration": 27,
    "start_time": "2023-09-10T15:07:48.182Z"
   },
   {
    "duration": 68,
    "start_time": "2023-09-10T15:07:48.211Z"
   },
   {
    "duration": 84,
    "start_time": "2023-09-10T15:07:48.281Z"
   },
   {
    "duration": 7,
    "start_time": "2023-09-10T15:07:48.368Z"
   },
   {
    "duration": 79,
    "start_time": "2023-09-10T15:07:48.377Z"
   },
   {
    "duration": 152,
    "start_time": "2023-09-10T15:07:48.458Z"
   },
   {
    "duration": 179,
    "start_time": "2023-09-10T15:07:48.612Z"
   },
   {
    "duration": 19,
    "start_time": "2023-09-10T15:07:48.794Z"
   },
   {
    "duration": 25,
    "start_time": "2023-09-10T15:07:48.814Z"
   },
   {
    "duration": 181,
    "start_time": "2023-09-10T15:07:48.841Z"
   },
   {
    "duration": 46,
    "start_time": "2023-09-10T15:07:49.024Z"
   },
   {
    "duration": 30,
    "start_time": "2023-09-10T15:07:49.072Z"
   },
   {
    "duration": 144,
    "start_time": "2023-09-10T15:07:49.104Z"
   },
   {
    "duration": 300,
    "start_time": "2023-09-10T15:07:49.249Z"
   },
   {
    "duration": 152,
    "start_time": "2023-09-10T15:07:49.552Z"
   },
   {
    "duration": 14,
    "start_time": "2023-09-10T15:07:49.706Z"
   },
   {
    "duration": 155,
    "start_time": "2023-09-10T15:09:28.490Z"
   },
   {
    "duration": 32,
    "start_time": "2023-09-10T15:13:29.585Z"
   },
   {
    "duration": 3042,
    "start_time": "2023-12-22T08:27:13.163Z"
   },
   {
    "duration": 1421,
    "start_time": "2023-12-22T08:27:16.207Z"
   },
   {
    "duration": 658,
    "start_time": "2023-12-22T08:27:17.630Z"
   },
   {
    "duration": 10,
    "start_time": "2023-12-22T08:27:18.289Z"
   },
   {
    "duration": 5,
    "start_time": "2023-12-22T08:27:18.301Z"
   },
   {
    "duration": 16,
    "start_time": "2023-12-22T08:27:18.308Z"
   },
   {
    "duration": 4,
    "start_time": "2023-12-22T08:27:18.326Z"
   },
   {
    "duration": 86,
    "start_time": "2023-12-22T08:27:18.332Z"
   },
   {
    "duration": 7,
    "start_time": "2023-12-22T08:27:18.420Z"
   },
   {
    "duration": 18,
    "start_time": "2023-12-22T08:27:18.428Z"
   },
   {
    "duration": 123,
    "start_time": "2023-12-22T08:27:18.448Z"
   },
   {
    "duration": 926,
    "start_time": "2023-12-22T08:27:18.572Z"
   },
   {
    "duration": 17,
    "start_time": "2023-12-22T08:27:19.500Z"
   },
   {
    "duration": 17,
    "start_time": "2023-12-22T08:27:19.520Z"
   },
   {
    "duration": 18,
    "start_time": "2023-12-22T08:27:19.538Z"
   },
   {
    "duration": 31,
    "start_time": "2023-12-22T08:27:19.558Z"
   },
   {
    "duration": 33,
    "start_time": "2023-12-22T08:27:19.591Z"
   },
   {
    "duration": 12,
    "start_time": "2023-12-22T08:27:19.625Z"
   },
   {
    "duration": 27,
    "start_time": "2023-12-22T08:27:19.638Z"
   },
   {
    "duration": 54,
    "start_time": "2023-12-22T08:27:19.666Z"
   },
   {
    "duration": 7,
    "start_time": "2023-12-22T08:27:19.721Z"
   },
   {
    "duration": 18,
    "start_time": "2023-12-22T08:27:19.729Z"
   },
   {
    "duration": 138,
    "start_time": "2023-12-22T08:27:19.748Z"
   },
   {
    "duration": 3,
    "start_time": "2023-12-22T08:27:19.888Z"
   },
   {
    "duration": 44,
    "start_time": "2023-12-22T08:27:19.892Z"
   },
   {
    "duration": 51,
    "start_time": "2023-12-22T08:27:19.937Z"
   },
   {
    "duration": 306,
    "start_time": "2023-12-22T08:27:19.990Z"
   },
   {
    "duration": 462,
    "start_time": "2023-12-22T08:27:20.298Z"
   },
   {
    "duration": 81,
    "start_time": "2023-12-22T08:27:20.762Z"
   },
   {
    "duration": 109,
    "start_time": "2023-12-22T08:27:20.845Z"
   },
   {
    "duration": 79,
    "start_time": "2023-12-22T08:27:20.955Z"
   },
   {
    "duration": 65,
    "start_time": "2023-12-22T08:27:21.035Z"
   },
   {
    "duration": 280,
    "start_time": "2023-12-22T08:27:21.114Z"
   },
   {
    "duration": 228,
    "start_time": "2023-12-22T08:27:21.396Z"
   },
   {
    "duration": 217,
    "start_time": "2023-12-22T08:27:21.625Z"
   },
   {
    "duration": 13,
    "start_time": "2023-12-22T08:27:21.844Z"
   },
   {
    "duration": 69,
    "start_time": "2023-12-22T08:27:21.858Z"
   },
   {
    "duration": 56,
    "start_time": "2023-12-22T08:27:21.929Z"
   },
   {
    "duration": 7,
    "start_time": "2023-12-22T08:27:21.986Z"
   },
   {
    "duration": 28,
    "start_time": "2023-12-22T08:27:21.994Z"
   },
   {
    "duration": 128,
    "start_time": "2023-12-22T08:27:22.025Z"
   },
   {
    "duration": 228,
    "start_time": "2023-12-22T08:27:22.155Z"
   },
   {
    "duration": 11,
    "start_time": "2023-12-22T08:27:22.385Z"
   },
   {
    "duration": 29,
    "start_time": "2023-12-22T08:27:22.398Z"
   },
   {
    "duration": 143,
    "start_time": "2023-12-22T08:27:22.429Z"
   },
   {
    "duration": 45,
    "start_time": "2023-12-22T08:27:22.574Z"
   },
   {
    "duration": 5,
    "start_time": "2023-12-22T08:27:22.620Z"
   },
   {
    "duration": 20,
    "start_time": "2023-12-22T08:27:22.626Z"
   },
   {
    "duration": 130,
    "start_time": "2023-12-22T08:27:22.648Z"
   },
   {
    "duration": 120,
    "start_time": "2023-12-22T08:27:22.780Z"
   },
   {
    "duration": 19,
    "start_time": "2023-12-22T08:27:22.901Z"
   },
   {
    "duration": 170,
    "start_time": "2023-12-22T08:35:54.956Z"
   },
   {
    "duration": 148,
    "start_time": "2023-12-22T08:36:17.555Z"
   },
   {
    "duration": 179,
    "start_time": "2023-12-22T08:39:45.203Z"
   },
   {
    "duration": 17,
    "start_time": "2023-12-22T08:42:07.008Z"
   },
   {
    "duration": 152,
    "start_time": "2023-12-22T08:42:11.578Z"
   },
   {
    "duration": 174,
    "start_time": "2023-12-22T08:43:34.176Z"
   },
   {
    "duration": 159,
    "start_time": "2023-12-22T08:43:48.766Z"
   },
   {
    "duration": 168,
    "start_time": "2023-12-22T08:43:56.174Z"
   },
   {
    "duration": 167,
    "start_time": "2023-12-22T08:45:42.806Z"
   },
   {
    "duration": 156,
    "start_time": "2023-12-22T08:48:14.102Z"
   },
   {
    "duration": 151,
    "start_time": "2023-12-22T08:48:20.646Z"
   },
   {
    "duration": 167,
    "start_time": "2023-12-22T08:51:33.862Z"
   },
   {
    "duration": 154,
    "start_time": "2023-12-22T08:51:46.430Z"
   },
   {
    "duration": 302,
    "start_time": "2023-12-22T08:52:18.694Z"
   },
   {
    "duration": 5,
    "start_time": "2023-12-22T08:55:13.708Z"
   },
   {
    "duration": 160,
    "start_time": "2023-12-22T08:55:31.261Z"
   },
   {
    "duration": 4,
    "start_time": "2023-12-22T08:58:11.290Z"
   },
   {
    "duration": 97,
    "start_time": "2023-12-22T08:58:33.131Z"
   },
   {
    "duration": 148,
    "start_time": "2023-12-22T09:00:24.481Z"
   },
   {
    "duration": 166,
    "start_time": "2023-12-22T09:02:56.528Z"
   },
   {
    "duration": 165,
    "start_time": "2023-12-22T09:04:00.793Z"
   },
   {
    "duration": 41,
    "start_time": "2023-12-22T09:04:26.240Z"
   },
   {
    "duration": 153,
    "start_time": "2023-12-22T09:04:34.409Z"
   },
   {
    "duration": 173,
    "start_time": "2023-12-22T09:05:43.036Z"
   },
   {
    "duration": 153,
    "start_time": "2023-12-22T09:05:52.792Z"
   },
   {
    "duration": 162,
    "start_time": "2023-12-22T09:05:56.776Z"
   },
   {
    "duration": 160,
    "start_time": "2023-12-22T09:06:03.400Z"
   },
   {
    "duration": 5,
    "start_time": "2023-12-22T09:20:24.426Z"
   },
   {
    "duration": 131,
    "start_time": "2023-12-22T09:20:40.027Z"
   },
   {
    "duration": 5,
    "start_time": "2023-12-22T09:21:01.331Z"
   },
   {
    "duration": 137,
    "start_time": "2023-12-22T09:21:09.715Z"
   },
   {
    "duration": 150,
    "start_time": "2023-12-22T09:21:22.074Z"
   },
   {
    "duration": 342,
    "start_time": "2023-12-22T09:21:35.435Z"
   },
   {
    "duration": 4,
    "start_time": "2023-12-22T09:22:10.234Z"
   },
   {
    "duration": 135,
    "start_time": "2023-12-22T09:22:20.450Z"
   },
   {
    "duration": 160,
    "start_time": "2023-12-22T09:22:26.130Z"
   },
   {
    "duration": 202,
    "start_time": "2023-12-22T09:22:47.666Z"
   },
   {
    "duration": 5,
    "start_time": "2023-12-22T09:23:25.473Z"
   },
   {
    "duration": 135,
    "start_time": "2023-12-22T09:23:33.522Z"
   },
   {
    "duration": 151,
    "start_time": "2023-12-22T09:23:37.980Z"
   },
   {
    "duration": 165,
    "start_time": "2023-12-22T09:23:41.793Z"
   },
   {
    "duration": 162,
    "start_time": "2023-12-22T09:24:19.096Z"
   },
   {
    "duration": 167,
    "start_time": "2023-12-22T09:24:31.986Z"
   },
   {
    "duration": 182,
    "start_time": "2023-12-22T09:24:40.889Z"
   },
   {
    "duration": 4,
    "start_time": "2023-12-22T09:25:12.130Z"
   },
   {
    "duration": 127,
    "start_time": "2023-12-22T09:25:19.324Z"
   },
   {
    "duration": 158,
    "start_time": "2023-12-22T09:25:23.280Z"
   },
   {
    "duration": 164,
    "start_time": "2023-12-22T09:25:27.096Z"
   },
   {
    "duration": 3135,
    "start_time": "2023-12-26T09:52:14.227Z"
   },
   {
    "duration": 1403,
    "start_time": "2023-12-26T09:52:17.365Z"
   },
   {
    "duration": 692,
    "start_time": "2023-12-26T09:52:18.769Z"
   },
   {
    "duration": 9,
    "start_time": "2023-12-26T09:52:19.463Z"
   },
   {
    "duration": 36,
    "start_time": "2023-12-26T09:52:19.474Z"
   },
   {
    "duration": 24,
    "start_time": "2023-12-26T09:52:19.511Z"
   },
   {
    "duration": 19,
    "start_time": "2023-12-26T09:52:19.536Z"
   },
   {
    "duration": 22,
    "start_time": "2023-12-26T09:52:19.557Z"
   },
   {
    "duration": 17,
    "start_time": "2023-12-26T09:52:19.580Z"
   },
   {
    "duration": 99,
    "start_time": "2023-12-26T09:52:19.599Z"
   },
   {
    "duration": 7,
    "start_time": "2023-12-26T09:52:19.699Z"
   },
   {
    "duration": 37,
    "start_time": "2023-12-26T09:52:19.708Z"
   },
   {
    "duration": 111,
    "start_time": "2023-12-26T09:52:19.747Z"
   },
   {
    "duration": 874,
    "start_time": "2023-12-26T09:52:19.864Z"
   },
   {
    "duration": 11,
    "start_time": "2023-12-26T09:52:20.739Z"
   },
   {
    "duration": 40,
    "start_time": "2023-12-26T09:52:20.751Z"
   },
   {
    "duration": 28,
    "start_time": "2023-12-26T09:52:20.792Z"
   },
   {
    "duration": 47,
    "start_time": "2023-12-26T09:52:20.822Z"
   },
   {
    "duration": 33,
    "start_time": "2023-12-26T09:52:20.870Z"
   },
   {
    "duration": 17,
    "start_time": "2023-12-26T09:52:20.904Z"
   },
   {
    "duration": 28,
    "start_time": "2023-12-26T09:52:20.922Z"
   },
   {
    "duration": 62,
    "start_time": "2023-12-26T09:52:20.952Z"
   },
   {
    "duration": 7,
    "start_time": "2023-12-26T09:52:21.015Z"
   },
   {
    "duration": 45,
    "start_time": "2023-12-26T09:52:21.024Z"
   },
   {
    "duration": 147,
    "start_time": "2023-12-26T09:52:21.070Z"
   },
   {
    "duration": 3,
    "start_time": "2023-12-26T09:52:21.219Z"
   },
   {
    "duration": 42,
    "start_time": "2023-12-26T09:52:21.223Z"
   },
   {
    "duration": 84,
    "start_time": "2023-12-26T09:52:21.266Z"
   },
   {
    "duration": 323,
    "start_time": "2023-12-26T09:52:21.351Z"
   },
   {
    "duration": 319,
    "start_time": "2023-12-26T09:52:21.676Z"
   },
   {
    "duration": 422,
    "start_time": "2023-12-26T09:52:38.200Z"
   },
   {
    "duration": 22,
    "start_time": "2023-12-26T09:53:47.618Z"
   },
   {
    "duration": 276,
    "start_time": "2023-12-26T09:57:27.318Z"
   },
   {
    "duration": 4,
    "start_time": "2023-12-26T09:57:52.929Z"
   },
   {
    "duration": 229,
    "start_time": "2023-12-26T09:58:03.127Z"
   },
   {
    "duration": 173,
    "start_time": "2023-12-26T09:58:43.011Z"
   },
   {
    "duration": 170,
    "start_time": "2023-12-26T09:58:48.805Z"
   },
   {
    "duration": 188,
    "start_time": "2023-12-26T09:59:30.010Z"
   },
   {
    "duration": 175,
    "start_time": "2023-12-26T09:59:41.203Z"
   },
   {
    "duration": 191,
    "start_time": "2023-12-26T10:01:16.664Z"
   },
   {
    "duration": 209,
    "start_time": "2023-12-26T10:01:28.538Z"
   },
   {
    "duration": 256,
    "start_time": "2023-12-26T10:03:59.870Z"
   },
   {
    "duration": 177,
    "start_time": "2023-12-26T10:04:21.914Z"
   },
   {
    "duration": 209,
    "start_time": "2023-12-26T10:05:09.048Z"
   },
   {
    "duration": 204,
    "start_time": "2023-12-26T10:05:36.244Z"
   },
   {
    "duration": 209,
    "start_time": "2023-12-26T10:06:10.576Z"
   },
   {
    "duration": 206,
    "start_time": "2023-12-26T10:06:27.090Z"
   },
   {
    "duration": 200,
    "start_time": "2023-12-26T10:07:07.040Z"
   },
   {
    "duration": 212,
    "start_time": "2023-12-26T10:07:12.641Z"
   },
   {
    "duration": 215,
    "start_time": "2023-12-26T10:07:19.362Z"
   },
   {
    "duration": 217,
    "start_time": "2023-12-26T10:07:26.763Z"
   },
   {
    "duration": 211,
    "start_time": "2023-12-26T10:07:31.691Z"
   },
   {
    "duration": 295,
    "start_time": "2023-12-26T10:07:49.030Z"
   },
   {
    "duration": 209,
    "start_time": "2023-12-26T10:07:54.759Z"
   },
   {
    "duration": 216,
    "start_time": "2023-12-26T10:08:49.926Z"
   },
   {
    "duration": 223,
    "start_time": "2023-12-26T10:08:59.344Z"
   },
   {
    "duration": 225,
    "start_time": "2023-12-26T10:09:02.871Z"
   },
   {
    "duration": 27,
    "start_time": "2023-12-26T11:24:54.710Z"
   },
   {
    "duration": 11,
    "start_time": "2023-12-26T11:25:16.088Z"
   },
   {
    "duration": 11,
    "start_time": "2023-12-26T11:25:43.425Z"
   },
   {
    "duration": 11,
    "start_time": "2023-12-26T11:26:30.256Z"
   },
   {
    "duration": 10,
    "start_time": "2023-12-26T11:26:53.354Z"
   },
   {
    "duration": 1307,
    "start_time": "2023-12-26T11:29:05.620Z"
   },
   {
    "duration": 1213,
    "start_time": "2023-12-26T11:29:48.554Z"
   },
   {
    "duration": 9,
    "start_time": "2023-12-26T11:29:57.467Z"
   },
   {
    "duration": 1520,
    "start_time": "2023-12-26T11:30:16.294Z"
   },
   {
    "duration": 1525,
    "start_time": "2023-12-26T11:30:24.560Z"
   },
   {
    "duration": 156,
    "start_time": "2023-12-26T11:30:30.297Z"
   },
   {
    "duration": 159,
    "start_time": "2023-12-26T11:30:52.556Z"
   },
   {
    "duration": 158,
    "start_time": "2023-12-26T11:30:56.419Z"
   },
   {
    "duration": 150,
    "start_time": "2023-12-26T11:32:11.038Z"
   },
   {
    "duration": 272,
    "start_time": "2023-12-26T11:32:53.020Z"
   },
   {
    "duration": 161,
    "start_time": "2023-12-26T11:33:22.119Z"
   },
   {
    "duration": 19,
    "start_time": "2023-12-26T11:33:30.024Z"
   },
   {
    "duration": 162,
    "start_time": "2023-12-26T11:33:40.850Z"
   },
   {
    "duration": 152,
    "start_time": "2023-12-26T11:34:56.229Z"
   },
   {
    "duration": 141,
    "start_time": "2023-12-26T11:37:46.676Z"
   },
   {
    "duration": 157,
    "start_time": "2023-12-26T11:38:03.654Z"
   },
   {
    "duration": 59,
    "start_time": "2023-12-26T11:38:55.037Z"
   },
   {
    "duration": 160,
    "start_time": "2023-12-26T11:44:11.920Z"
   },
   {
    "duration": 145,
    "start_time": "2023-12-26T11:46:19.145Z"
   },
   {
    "duration": 143,
    "start_time": "2023-12-26T11:48:49.103Z"
   },
   {
    "duration": 161,
    "start_time": "2023-12-26T11:50:35.021Z"
   },
   {
    "duration": 103,
    "start_time": "2023-12-26T11:55:06.691Z"
   },
   {
    "duration": 151,
    "start_time": "2023-12-26T11:57:14.755Z"
   },
   {
    "duration": 148,
    "start_time": "2023-12-26T11:58:44.336Z"
   },
   {
    "duration": 192,
    "start_time": "2023-12-26T12:03:53.011Z"
   },
   {
    "duration": 333,
    "start_time": "2023-12-26T12:04:05.773Z"
   },
   {
    "duration": 196,
    "start_time": "2023-12-26T12:04:17.111Z"
   },
   {
    "duration": 3140,
    "start_time": "2023-12-28T11:46:27.593Z"
   },
   {
    "duration": 1399,
    "start_time": "2023-12-28T11:46:30.735Z"
   },
   {
    "duration": 919,
    "start_time": "2023-12-28T11:46:32.136Z"
   },
   {
    "duration": 9,
    "start_time": "2023-12-28T11:46:33.057Z"
   },
   {
    "duration": 4,
    "start_time": "2023-12-28T11:46:33.069Z"
   },
   {
    "duration": 5,
    "start_time": "2023-12-28T11:46:33.074Z"
   },
   {
    "duration": 6,
    "start_time": "2023-12-28T11:46:33.080Z"
   },
   {
    "duration": 6,
    "start_time": "2023-12-28T11:46:33.087Z"
   },
   {
    "duration": 4,
    "start_time": "2023-12-28T11:46:33.094Z"
   },
   {
    "duration": 80,
    "start_time": "2023-12-28T11:46:33.100Z"
   },
   {
    "duration": 7,
    "start_time": "2023-12-28T11:46:33.181Z"
   },
   {
    "duration": 23,
    "start_time": "2023-12-28T11:46:33.189Z"
   },
   {
    "duration": 113,
    "start_time": "2023-12-28T11:46:33.213Z"
   },
   {
    "duration": 862,
    "start_time": "2023-12-28T11:46:33.329Z"
   },
   {
    "duration": 9,
    "start_time": "2023-12-28T11:46:34.193Z"
   },
   {
    "duration": 10,
    "start_time": "2023-12-28T11:46:34.211Z"
   },
   {
    "duration": 18,
    "start_time": "2023-12-28T11:46:34.222Z"
   },
   {
    "duration": 18,
    "start_time": "2023-12-28T11:46:34.242Z"
   },
   {
    "duration": 17,
    "start_time": "2023-12-28T11:46:34.261Z"
   },
   {
    "duration": 34,
    "start_time": "2023-12-28T11:46:34.279Z"
   },
   {
    "duration": 11,
    "start_time": "2023-12-28T11:46:34.314Z"
   },
   {
    "duration": 43,
    "start_time": "2023-12-28T11:46:34.326Z"
   },
   {
    "duration": 7,
    "start_time": "2023-12-28T11:46:34.370Z"
   },
   {
    "duration": 12,
    "start_time": "2023-12-28T11:46:34.379Z"
   },
   {
    "duration": 126,
    "start_time": "2023-12-28T11:46:34.411Z"
   },
   {
    "duration": 3,
    "start_time": "2023-12-28T11:46:34.539Z"
   },
   {
    "duration": 22,
    "start_time": "2023-12-28T11:46:34.543Z"
   },
   {
    "duration": 45,
    "start_time": "2023-12-28T11:46:34.566Z"
   },
   {
    "duration": 310,
    "start_time": "2023-12-28T11:46:34.614Z"
   },
   {
    "duration": 430,
    "start_time": "2023-12-28T11:46:34.926Z"
   },
   {
    "duration": 160,
    "start_time": "2023-12-28T11:46:40.990Z"
   },
   {
    "duration": 10,
    "start_time": "2023-12-28T11:46:56.308Z"
   },
   {
    "duration": 10,
    "start_time": "2023-12-28T11:48:02.356Z"
   },
   {
    "duration": 20,
    "start_time": "2023-12-28T11:53:24.009Z"
   },
   {
    "duration": 17,
    "start_time": "2023-12-28T11:55:29.108Z"
   },
   {
    "duration": 19,
    "start_time": "2023-12-28T11:55:43.721Z"
   },
   {
    "duration": 141,
    "start_time": "2023-12-28T11:57:20.851Z"
   },
   {
    "duration": 18,
    "start_time": "2023-12-28T11:58:27.987Z"
   },
   {
    "duration": 152,
    "start_time": "2023-12-28T11:58:33.468Z"
   },
   {
    "duration": 19,
    "start_time": "2023-12-28T11:58:59.144Z"
   },
   {
    "duration": 22,
    "start_time": "2023-12-28T11:59:11.922Z"
   },
   {
    "duration": 25,
    "start_time": "2023-12-28T12:04:04.146Z"
   },
   {
    "duration": 155,
    "start_time": "2023-12-28T12:04:37.245Z"
   },
   {
    "duration": 154,
    "start_time": "2023-12-28T12:05:55.266Z"
   },
   {
    "duration": 1372,
    "start_time": "2023-12-28T12:07:06.747Z"
   },
   {
    "duration": 3,
    "start_time": "2023-12-28T12:07:58.187Z"
   },
   {
    "duration": 184,
    "start_time": "2023-12-28T12:13:42.009Z"
   },
   {
    "duration": 5,
    "start_time": "2023-12-28T12:14:53.435Z"
   },
   {
    "duration": 9,
    "start_time": "2023-12-28T12:15:36.375Z"
   },
   {
    "duration": 177,
    "start_time": "2023-12-28T12:17:54.834Z"
   },
   {
    "duration": 264,
    "start_time": "2023-12-28T12:29:27.070Z"
   },
   {
    "duration": 4,
    "start_time": "2023-12-28T12:31:42.068Z"
   },
   {
    "duration": 133,
    "start_time": "2023-12-28T12:32:24.601Z"
   },
   {
    "duration": 139,
    "start_time": "2023-12-28T12:32:44.794Z"
   },
   {
    "duration": 181,
    "start_time": "2023-12-28T12:33:13.289Z"
   },
   {
    "duration": 181,
    "start_time": "2023-12-28T12:33:43.373Z"
   },
   {
    "duration": 180,
    "start_time": "2023-12-28T12:34:10.290Z"
   },
   {
    "duration": 178,
    "start_time": "2023-12-28T12:34:21.280Z"
   },
   {
    "duration": 130,
    "start_time": "2023-12-28T12:34:28.843Z"
   },
   {
    "duration": 187,
    "start_time": "2023-12-28T12:34:35.324Z"
   },
   {
    "duration": 154,
    "start_time": "2023-12-28T12:34:48.590Z"
   },
   {
    "duration": 188,
    "start_time": "2023-12-28T12:39:09.722Z"
   },
   {
    "duration": 182,
    "start_time": "2023-12-28T12:39:18.042Z"
   },
   {
    "duration": 188,
    "start_time": "2023-12-28T12:39:23.563Z"
   },
   {
    "duration": 293,
    "start_time": "2023-12-28T12:39:38.445Z"
   },
   {
    "duration": 175,
    "start_time": "2023-12-28T12:40:28.667Z"
   },
   {
    "duration": 7,
    "start_time": "2023-12-28T12:54:41.993Z"
   },
   {
    "duration": 189,
    "start_time": "2023-12-28T12:55:10.284Z"
   },
   {
    "duration": 58,
    "start_time": "2023-12-28T12:58:21.606Z"
   },
   {
    "duration": 211,
    "start_time": "2023-12-28T12:58:33.937Z"
   },
   {
    "duration": 8,
    "start_time": "2023-12-28T12:59:59.523Z"
   },
   {
    "duration": 203,
    "start_time": "2023-12-28T13:00:09.237Z"
   },
   {
    "duration": 243,
    "start_time": "2023-12-28T13:00:18.774Z"
   },
   {
    "duration": 4,
    "start_time": "2023-12-28T13:04:17.696Z"
   },
   {
    "duration": 600,
    "start_time": "2023-12-28T13:04:17.701Z"
   },
   {
    "duration": 11,
    "start_time": "2023-12-28T13:04:18.303Z"
   },
   {
    "duration": 7,
    "start_time": "2023-12-28T13:04:18.315Z"
   },
   {
    "duration": 11,
    "start_time": "2023-12-28T13:04:18.324Z"
   },
   {
    "duration": 8,
    "start_time": "2023-12-28T13:04:18.336Z"
   },
   {
    "duration": 85,
    "start_time": "2023-12-28T13:04:18.345Z"
   },
   {
    "duration": 7,
    "start_time": "2023-12-28T13:04:18.432Z"
   },
   {
    "duration": 16,
    "start_time": "2023-12-28T13:04:18.440Z"
   },
   {
    "duration": 141,
    "start_time": "2023-12-28T13:04:18.457Z"
   },
   {
    "duration": 785,
    "start_time": "2023-12-28T13:04:18.599Z"
   },
   {
    "duration": 9,
    "start_time": "2023-12-28T13:04:19.386Z"
   },
   {
    "duration": 20,
    "start_time": "2023-12-28T13:04:19.397Z"
   },
   {
    "duration": 11,
    "start_time": "2023-12-28T13:04:19.420Z"
   },
   {
    "duration": 18,
    "start_time": "2023-12-28T13:04:19.432Z"
   },
   {
    "duration": 17,
    "start_time": "2023-12-28T13:04:19.452Z"
   },
   {
    "duration": 11,
    "start_time": "2023-12-28T13:04:19.470Z"
   },
   {
    "duration": 45,
    "start_time": "2023-12-28T13:04:19.482Z"
   },
   {
    "duration": 55,
    "start_time": "2023-12-28T13:04:19.529Z"
   },
   {
    "duration": 27,
    "start_time": "2023-12-28T13:04:19.585Z"
   },
   {
    "duration": 9,
    "start_time": "2023-12-28T13:04:19.613Z"
   },
   {
    "duration": 133,
    "start_time": "2023-12-28T13:04:19.623Z"
   },
   {
    "duration": 3,
    "start_time": "2023-12-28T13:04:19.757Z"
   },
   {
    "duration": 9,
    "start_time": "2023-12-28T13:04:19.762Z"
   },
   {
    "duration": 53,
    "start_time": "2023-12-28T13:04:19.772Z"
   },
   {
    "duration": 299,
    "start_time": "2023-12-28T13:04:19.827Z"
   },
   {
    "duration": 186,
    "start_time": "2023-12-28T13:04:20.127Z"
   },
   {
    "duration": 199,
    "start_time": "2023-12-28T13:04:20.315Z"
   },
   {
    "duration": 149,
    "start_time": "2023-12-28T13:04:20.516Z"
   },
   {
    "duration": 160,
    "start_time": "2023-12-28T13:04:20.667Z"
   },
   {
    "duration": 250,
    "start_time": "2023-12-28T13:04:20.829Z"
   },
   {
    "duration": 321,
    "start_time": "2023-12-28T13:04:21.081Z"
   },
   {
    "duration": 266,
    "start_time": "2023-12-28T13:04:21.404Z"
   },
   {
    "duration": 272,
    "start_time": "2023-12-28T13:04:21.671Z"
   },
   {
    "duration": 12,
    "start_time": "2023-12-28T13:04:21.945Z"
   },
   {
    "duration": 174,
    "start_time": "2023-12-28T13:04:21.958Z"
   },
   {
    "duration": 59,
    "start_time": "2023-12-28T13:05:24.551Z"
   },
   {
    "duration": 218,
    "start_time": "2023-12-28T13:10:43.868Z"
   },
   {
    "duration": 156,
    "start_time": "2023-12-28T13:11:25.912Z"
   },
   {
    "duration": 152,
    "start_time": "2023-12-28T13:11:34.050Z"
   },
   {
    "duration": 156,
    "start_time": "2023-12-28T13:11:56.749Z"
   },
   {
    "duration": 79,
    "start_time": "2023-12-28T13:12:32.180Z"
   },
   {
    "duration": 72,
    "start_time": "2023-12-28T13:12:45.349Z"
   },
   {
    "duration": 146,
    "start_time": "2023-12-28T13:12:54.023Z"
   },
   {
    "duration": 250,
    "start_time": "2023-12-28T13:13:13.600Z"
   },
   {
    "duration": 153,
    "start_time": "2023-12-28T13:13:39.980Z"
   },
   {
    "duration": 147,
    "start_time": "2023-12-28T13:13:58.934Z"
   },
   {
    "duration": 155,
    "start_time": "2023-12-28T13:14:38.883Z"
   },
   {
    "duration": 515,
    "start_time": "2024-01-12T10:55:35.459Z"
   },
   {
    "duration": 0,
    "start_time": "2024-01-12T10:55:35.987Z"
   },
   {
    "duration": 0,
    "start_time": "2024-01-12T10:55:35.988Z"
   },
   {
    "duration": 0,
    "start_time": "2024-01-12T10:55:35.989Z"
   },
   {
    "duration": 0,
    "start_time": "2024-01-12T10:55:35.989Z"
   },
   {
    "duration": 0,
    "start_time": "2024-01-12T10:55:35.990Z"
   },
   {
    "duration": 0,
    "start_time": "2024-01-12T10:55:35.991Z"
   },
   {
    "duration": 0,
    "start_time": "2024-01-12T10:55:35.991Z"
   },
   {
    "duration": 0,
    "start_time": "2024-01-12T10:55:35.992Z"
   },
   {
    "duration": 0,
    "start_time": "2024-01-12T10:55:35.993Z"
   },
   {
    "duration": 0,
    "start_time": "2024-01-12T10:55:36.000Z"
   },
   {
    "duration": 0,
    "start_time": "2024-01-12T10:55:36.002Z"
   },
   {
    "duration": 0,
    "start_time": "2024-01-12T10:55:36.003Z"
   },
   {
    "duration": 0,
    "start_time": "2024-01-12T10:55:36.004Z"
   },
   {
    "duration": 0,
    "start_time": "2024-01-12T10:55:36.006Z"
   },
   {
    "duration": 0,
    "start_time": "2024-01-12T10:55:36.008Z"
   },
   {
    "duration": 0,
    "start_time": "2024-01-12T10:55:36.008Z"
   },
   {
    "duration": 0,
    "start_time": "2024-01-12T10:55:36.010Z"
   },
   {
    "duration": 0,
    "start_time": "2024-01-12T10:55:36.011Z"
   },
   {
    "duration": 0,
    "start_time": "2024-01-12T10:55:36.012Z"
   },
   {
    "duration": 0,
    "start_time": "2024-01-12T10:55:36.014Z"
   },
   {
    "duration": 0,
    "start_time": "2024-01-12T10:55:36.015Z"
   },
   {
    "duration": 0,
    "start_time": "2024-01-12T10:55:36.016Z"
   },
   {
    "duration": 0,
    "start_time": "2024-01-12T10:55:36.017Z"
   },
   {
    "duration": 0,
    "start_time": "2024-01-12T10:55:36.019Z"
   },
   {
    "duration": 0,
    "start_time": "2024-01-12T10:55:36.020Z"
   },
   {
    "duration": 0,
    "start_time": "2024-01-12T10:55:36.022Z"
   },
   {
    "duration": 0,
    "start_time": "2024-01-12T10:55:36.024Z"
   },
   {
    "duration": 0,
    "start_time": "2024-01-12T10:55:36.025Z"
   },
   {
    "duration": 0,
    "start_time": "2024-01-12T10:55:36.027Z"
   },
   {
    "duration": 0,
    "start_time": "2024-01-12T10:55:36.028Z"
   },
   {
    "duration": 0,
    "start_time": "2024-01-12T10:55:36.029Z"
   },
   {
    "duration": 0,
    "start_time": "2024-01-12T10:55:36.031Z"
   },
   {
    "duration": 0,
    "start_time": "2024-01-12T10:55:36.082Z"
   },
   {
    "duration": 0,
    "start_time": "2024-01-12T10:55:36.083Z"
   },
   {
    "duration": 0,
    "start_time": "2024-01-12T10:55:36.086Z"
   },
   {
    "duration": 0,
    "start_time": "2024-01-12T10:55:36.087Z"
   },
   {
    "duration": 0,
    "start_time": "2024-01-12T10:55:36.088Z"
   },
   {
    "duration": 0,
    "start_time": "2024-01-12T10:55:36.089Z"
   },
   {
    "duration": 0,
    "start_time": "2024-01-12T10:55:36.090Z"
   },
   {
    "duration": 0,
    "start_time": "2024-01-12T10:55:36.091Z"
   },
   {
    "duration": 0,
    "start_time": "2024-01-12T10:55:36.092Z"
   },
   {
    "duration": 0,
    "start_time": "2024-01-12T10:55:36.095Z"
   },
   {
    "duration": 0,
    "start_time": "2024-01-12T10:55:36.096Z"
   },
   {
    "duration": 0,
    "start_time": "2024-01-12T10:55:36.097Z"
   },
   {
    "duration": 0,
    "start_time": "2024-01-12T10:55:36.098Z"
   },
   {
    "duration": 0,
    "start_time": "2024-01-12T10:55:36.099Z"
   },
   {
    "duration": 0,
    "start_time": "2024-01-12T10:55:36.100Z"
   },
   {
    "duration": 0,
    "start_time": "2024-01-12T10:55:36.101Z"
   },
   {
    "duration": 0,
    "start_time": "2024-01-12T10:55:36.102Z"
   },
   {
    "duration": 3797,
    "start_time": "2024-01-12T10:57:11.176Z"
   },
   {
    "duration": 3012,
    "start_time": "2024-01-12T10:57:30.796Z"
   },
   {
    "duration": 1240,
    "start_time": "2024-01-12T10:57:33.811Z"
   },
   {
    "duration": 1641,
    "start_time": "2024-01-12T10:57:35.053Z"
   },
   {
    "duration": 22,
    "start_time": "2024-01-12T10:57:36.699Z"
   },
   {
    "duration": 26,
    "start_time": "2024-01-12T10:57:36.724Z"
   },
   {
    "duration": 22,
    "start_time": "2024-01-12T10:57:36.752Z"
   },
   {
    "duration": 37,
    "start_time": "2024-01-12T10:57:36.776Z"
   },
   {
    "duration": 111,
    "start_time": "2024-01-12T10:57:36.815Z"
   },
   {
    "duration": 8,
    "start_time": "2024-01-12T10:57:36.930Z"
   },
   {
    "duration": 17,
    "start_time": "2024-01-12T10:57:36.940Z"
   },
   {
    "duration": 178,
    "start_time": "2024-01-12T10:57:36.958Z"
   },
   {
    "duration": 987,
    "start_time": "2024-01-12T10:57:37.137Z"
   },
   {
    "duration": 11,
    "start_time": "2024-01-12T10:57:38.126Z"
   },
   {
    "duration": 36,
    "start_time": "2024-01-12T10:57:38.140Z"
   },
   {
    "duration": 41,
    "start_time": "2024-01-12T10:57:38.178Z"
   },
   {
    "duration": 45,
    "start_time": "2024-01-12T10:57:38.220Z"
   },
   {
    "duration": 35,
    "start_time": "2024-01-12T10:57:38.266Z"
   },
   {
    "duration": 16,
    "start_time": "2024-01-12T10:57:38.307Z"
   },
   {
    "duration": 28,
    "start_time": "2024-01-12T10:57:38.327Z"
   },
   {
    "duration": 79,
    "start_time": "2024-01-12T10:57:38.356Z"
   },
   {
    "duration": 7,
    "start_time": "2024-01-12T10:57:38.437Z"
   },
   {
    "duration": 29,
    "start_time": "2024-01-12T10:57:38.446Z"
   },
   {
    "duration": 197,
    "start_time": "2024-01-12T10:57:38.476Z"
   },
   {
    "duration": 5,
    "start_time": "2024-01-12T10:57:38.688Z"
   },
   {
    "duration": 16,
    "start_time": "2024-01-12T10:57:38.695Z"
   },
   {
    "duration": 54,
    "start_time": "2024-01-12T10:57:38.713Z"
   },
   {
    "duration": 445,
    "start_time": "2024-01-12T10:57:38.769Z"
   },
   {
    "duration": 258,
    "start_time": "2024-01-12T10:57:39.216Z"
   },
   {
    "duration": 269,
    "start_time": "2024-01-12T10:57:39.476Z"
   },
   {
    "duration": 255,
    "start_time": "2024-01-12T10:57:39.746Z"
   },
   {
    "duration": 216,
    "start_time": "2024-01-12T10:57:40.003Z"
   },
   {
    "duration": 220,
    "start_time": "2024-01-12T10:57:40.221Z"
   },
   {
    "duration": 420,
    "start_time": "2024-01-12T10:57:40.442Z"
   },
   {
    "duration": 383,
    "start_time": "2024-01-12T10:57:40.864Z"
   },
   {
    "duration": 372,
    "start_time": "2024-01-12T10:57:41.249Z"
   },
   {
    "duration": 14,
    "start_time": "2024-01-12T10:57:41.623Z"
   },
   {
    "duration": 218,
    "start_time": "2024-01-12T10:57:41.639Z"
   },
   {
    "duration": 193,
    "start_time": "2024-01-12T10:57:41.859Z"
   },
   {
    "duration": 6,
    "start_time": "2024-01-12T10:57:42.054Z"
   },
   {
    "duration": 11,
    "start_time": "2024-01-12T10:57:42.061Z"
   },
   {
    "duration": 191,
    "start_time": "2024-01-12T10:57:42.083Z"
   },
   {
    "duration": 190,
    "start_time": "2024-01-12T10:57:42.276Z"
   },
   {
    "duration": 28,
    "start_time": "2024-01-12T10:57:42.468Z"
   },
   {
    "duration": 38,
    "start_time": "2024-01-12T10:57:42.499Z"
   },
   {
    "duration": 191,
    "start_time": "2024-01-12T10:57:42.539Z"
   },
   {
    "duration": 39,
    "start_time": "2024-01-12T10:57:42.732Z"
   },
   {
    "duration": 20,
    "start_time": "2024-01-12T10:57:42.783Z"
   },
   {
    "duration": 5,
    "start_time": "2024-01-12T10:57:42.805Z"
   },
   {
    "duration": 279,
    "start_time": "2024-01-12T10:57:42.812Z"
   },
   {
    "duration": 210,
    "start_time": "2024-01-12T10:57:43.092Z"
   },
   {
    "duration": 20,
    "start_time": "2024-01-12T10:57:43.306Z"
   }
  ],
  "kernelspec": {
   "display_name": "Python 3 (ipykernel)",
   "language": "python",
   "name": "python3"
  },
  "language_info": {
   "codemirror_mode": {
    "name": "ipython",
    "version": 3
   },
   "file_extension": ".py",
   "mimetype": "text/x-python",
   "name": "python",
   "nbconvert_exporter": "python",
   "pygments_lexer": "ipython3",
   "version": "3.11.3"
  },
  "toc": {
   "base_numbering": 1,
   "nav_menu": {
    "height": "403px",
    "width": "618px"
   },
   "number_sections": true,
   "sideBar": true,
   "skip_h1_title": true,
   "title_cell": "Table of Contents",
   "title_sidebar": "Contents",
   "toc_cell": false,
   "toc_position": {},
   "toc_section_display": true,
   "toc_window_display": false
  }
 },
 "nbformat": 4,
 "nbformat_minor": 4
}
